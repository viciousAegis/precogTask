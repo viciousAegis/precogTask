{
 "cells": [
  {
   "cell_type": "markdown",
   "id": "c21be0ed",
   "metadata": {
    "papermill": {
     "duration": 0.008086,
     "end_time": "2023-01-20T16:29:43.206184",
     "exception": false,
     "start_time": "2023-01-20T16:29:43.198098",
     "status": "completed"
    },
    "tags": []
   },
   "source": [
    "# Classify case disposition"
   ]
  },
  {
   "cell_type": "markdown",
   "id": "da78d123",
   "metadata": {
    "papermill": {
     "duration": 0.006477,
     "end_time": "2023-01-20T16:29:43.219614",
     "exception": false,
     "start_time": "2023-01-20T16:29:43.213137",
     "status": "completed"
    },
    "tags": []
   },
   "source": [
    "We classify the subset of the data we have into two buckets, and predict whether a test case would end up in a disposition of conviction or aquittal"
   ]
  },
  {
   "cell_type": "markdown",
   "id": "74b4906c",
   "metadata": {
    "papermill": {
     "duration": 0.006388,
     "end_time": "2023-01-20T16:29:43.232671",
     "exception": false,
     "start_time": "2023-01-20T16:29:43.226283",
     "status": "completed"
    },
    "tags": []
   },
   "source": [
    "## Preprocessing"
   ]
  },
  {
   "cell_type": "code",
   "execution_count": 1,
   "id": "44f4240b",
   "metadata": {
    "execution": {
     "iopub.execute_input": "2023-01-20T16:29:43.248384Z",
     "iopub.status.busy": "2023-01-20T16:29:43.247919Z",
     "iopub.status.idle": "2023-01-20T16:29:44.642082Z",
     "shell.execute_reply": "2023-01-20T16:29:44.640854Z"
    },
    "papermill": {
     "duration": 1.405928,
     "end_time": "2023-01-20T16:29:44.645249",
     "exception": false,
     "start_time": "2023-01-20T16:29:43.239321",
     "status": "completed"
    },
    "tags": []
   },
   "outputs": [],
   "source": [
    "import pandas as pd\n",
    "import numpy as np\n",
    "from sklearn.preprocessing import OneHotEncoder, StandardScaler, LabelEncoder\n",
    "from sklearn.compose import ColumnTransformer\n",
    "from sklearn.linear_model import LogisticRegression\n",
    "from sklearn.pipeline import make_pipeline\n",
    "from sklearn.ensemble import RandomForestClassifier\n",
    "from sklearn.model_selection import train_test_split\n",
    "from sklearn.model_selection import cross_validate\n",
    "from sklearn.metrics import confusion_matrix\n",
    "import matplotlib.pyplot as plt"
   ]
  },
  {
   "cell_type": "code",
   "execution_count": 2,
   "id": "7060ac6f",
   "metadata": {
    "execution": {
     "iopub.execute_input": "2023-01-20T16:29:44.661250Z",
     "iopub.status.busy": "2023-01-20T16:29:44.660839Z",
     "iopub.status.idle": "2023-01-20T16:29:45.593735Z",
     "shell.execute_reply": "2023-01-20T16:29:45.592378Z"
    },
    "papermill": {
     "duration": 0.944463,
     "end_time": "2023-01-20T16:29:45.596589",
     "exception": false,
     "start_time": "2023-01-20T16:29:44.652126",
     "status": "completed"
    },
    "tags": []
   },
   "outputs": [],
   "source": [
    "dataset1 = pd.read_csv(\"/kaggle/input/classif-data/final_case_1.csv\")\n",
    "dataset2 = pd.read_csv(\"/kaggle/input/classif-data/final_case_2.csv\")\n",
    "dataset3 = pd.read_csv(\"/kaggle/input/classif-data/final_case_3.csv\")\n",
    "\n",
    "\n",
    "dataset = pd.concat([dataset1,dataset2,dataset3])"
   ]
  },
  {
   "cell_type": "code",
   "execution_count": null,
   "id": "88497b84",
   "metadata": {
    "execution": {
     "iopub.execute_input": "2023-01-20T15:52:43.923934Z",
     "iopub.status.busy": "2023-01-20T15:52:43.923641Z",
     "iopub.status.idle": "2023-01-20T15:52:43.932766Z",
     "shell.execute_reply": "2023-01-20T15:52:43.931275Z",
     "shell.execute_reply.started": "2023-01-20T15:52:43.923911Z"
    },
    "papermill": {
     "duration": 0.008058,
     "end_time": "2023-01-20T16:29:45.612437",
     "exception": false,
     "start_time": "2023-01-20T16:29:45.604379",
     "status": "completed"
    },
    "tags": []
   },
   "outputs": [],
   "source": []
  },
  {
   "cell_type": "code",
   "execution_count": 3,
   "id": "932f5906",
   "metadata": {
    "execution": {
     "iopub.execute_input": "2023-01-20T16:29:45.627832Z",
     "iopub.status.busy": "2023-01-20T16:29:45.627381Z",
     "iopub.status.idle": "2023-01-20T16:29:45.720395Z",
     "shell.execute_reply": "2023-01-20T16:29:45.719227Z"
    },
    "papermill": {
     "duration": 0.104284,
     "end_time": "2023-01-20T16:29:45.723436",
     "exception": false,
     "start_time": "2023-01-20T16:29:45.619152",
     "status": "completed"
    },
    "tags": []
   },
   "outputs": [],
   "source": [
    "dataset[\"case_time\"] = (pd.to_datetime(dataset[\"date_of_decision\"]) - pd.to_datetime(dataset[\"date_of_filing\"])).dt.days"
   ]
  },
  {
   "cell_type": "code",
   "execution_count": 4,
   "id": "f74a4619",
   "metadata": {
    "execution": {
     "iopub.execute_input": "2023-01-20T16:29:45.739539Z",
     "iopub.status.busy": "2023-01-20T16:29:45.739106Z",
     "iopub.status.idle": "2023-01-20T16:29:45.803807Z",
     "shell.execute_reply": "2023-01-20T16:29:45.802668Z"
    },
    "papermill": {
     "duration": 0.076185,
     "end_time": "2023-01-20T16:29:45.806866",
     "exception": false,
     "start_time": "2023-01-20T16:29:45.730681",
     "status": "completed"
    },
    "tags": []
   },
   "outputs": [],
   "source": [
    "dataset[\"judge_experience\"] = (pd.to_datetime(dataset[\"date_of_decision\"]) - pd.to_datetime(dataset[\"start_date\"])).dt.days"
   ]
  },
  {
   "cell_type": "code",
   "execution_count": 5,
   "id": "deda848a",
   "metadata": {
    "execution": {
     "iopub.execute_input": "2023-01-20T16:29:45.822745Z",
     "iopub.status.busy": "2023-01-20T16:29:45.821946Z",
     "iopub.status.idle": "2023-01-20T16:29:45.855432Z",
     "shell.execute_reply": "2023-01-20T16:29:45.854350Z"
    },
    "papermill": {
     "duration": 0.044519,
     "end_time": "2023-01-20T16:29:45.858354",
     "exception": false,
     "start_time": "2023-01-20T16:29:45.813835",
     "status": "completed"
    },
    "tags": []
   },
   "outputs": [
    {
     "data": {
      "text/html": [
       "<div>\n",
       "<style scoped>\n",
       "    .dataframe tbody tr th:only-of-type {\n",
       "        vertical-align: middle;\n",
       "    }\n",
       "\n",
       "    .dataframe tbody tr th {\n",
       "        vertical-align: top;\n",
       "    }\n",
       "\n",
       "    .dataframe thead th {\n",
       "        text-align: right;\n",
       "    }\n",
       "</style>\n",
       "<table border=\"1\" class=\"dataframe\">\n",
       "  <thead>\n",
       "    <tr style=\"text-align: right;\">\n",
       "      <th></th>\n",
       "      <th>Unnamed: 0</th>\n",
       "      <th>ddl_case_id</th>\n",
       "      <th>year</th>\n",
       "      <th>judge_position_x</th>\n",
       "      <th>female_defendant</th>\n",
       "      <th>female_adv_def</th>\n",
       "      <th>disp_name</th>\n",
       "      <th>date_of_filing</th>\n",
       "      <th>date_of_decision</th>\n",
       "      <th>disp_name_s</th>\n",
       "      <th>ddl_decision_judge_id</th>\n",
       "      <th>ddl_judge_id</th>\n",
       "      <th>female_judge</th>\n",
       "      <th>judge_position_y</th>\n",
       "      <th>start_date</th>\n",
       "      <th>end_date</th>\n",
       "      <th>case_time</th>\n",
       "      <th>judge_experience</th>\n",
       "    </tr>\n",
       "  </thead>\n",
       "  <tbody>\n",
       "    <tr>\n",
       "      <th>0</th>\n",
       "      <td>0</td>\n",
       "      <td>01-01-01-203008000082010</td>\n",
       "      <td>2010</td>\n",
       "      <td>chief judicial magistrate</td>\n",
       "      <td>0 male</td>\n",
       "      <td>0</td>\n",
       "      <td>19</td>\n",
       "      <td>2010-01-12</td>\n",
       "      <td>2015-01-13</td>\n",
       "      <td>convicted</td>\n",
       "      <td>3.0</td>\n",
       "      <td>3</td>\n",
       "      <td>0 nonfemale</td>\n",
       "      <td>chief judicial magistrate</td>\n",
       "      <td>2014-02-21</td>\n",
       "      <td>2016-05-31</td>\n",
       "      <td>1827</td>\n",
       "      <td>326</td>\n",
       "    </tr>\n",
       "    <tr>\n",
       "      <th>1</th>\n",
       "      <td>1</td>\n",
       "      <td>01-01-01-203008002452010</td>\n",
       "      <td>2010</td>\n",
       "      <td>chief judicial magistrate</td>\n",
       "      <td>0 male</td>\n",
       "      <td>1</td>\n",
       "      <td>4</td>\n",
       "      <td>2010-08-18</td>\n",
       "      <td>2015-04-15</td>\n",
       "      <td>acquitted</td>\n",
       "      <td>3.0</td>\n",
       "      <td>3</td>\n",
       "      <td>0 nonfemale</td>\n",
       "      <td>chief judicial magistrate</td>\n",
       "      <td>2014-02-21</td>\n",
       "      <td>2016-05-31</td>\n",
       "      <td>1701</td>\n",
       "      <td>418</td>\n",
       "    </tr>\n",
       "    <tr>\n",
       "      <th>2</th>\n",
       "      <td>2</td>\n",
       "      <td>01-01-01-203008002972010</td>\n",
       "      <td>2010</td>\n",
       "      <td>chief judicial magistrate</td>\n",
       "      <td>0 male</td>\n",
       "      <td>0</td>\n",
       "      <td>4</td>\n",
       "      <td>2010-09-18</td>\n",
       "      <td>2015-03-25</td>\n",
       "      <td>acquitted</td>\n",
       "      <td>3.0</td>\n",
       "      <td>3</td>\n",
       "      <td>0 nonfemale</td>\n",
       "      <td>chief judicial magistrate</td>\n",
       "      <td>2014-02-21</td>\n",
       "      <td>2016-05-31</td>\n",
       "      <td>1649</td>\n",
       "      <td>397</td>\n",
       "    </tr>\n",
       "    <tr>\n",
       "      <th>3</th>\n",
       "      <td>3</td>\n",
       "      <td>01-01-01-203408000182010</td>\n",
       "      <td>2010</td>\n",
       "      <td>chief judicial magistrate</td>\n",
       "      <td>0 male</td>\n",
       "      <td>0</td>\n",
       "      <td>4</td>\n",
       "      <td>2010-01-06</td>\n",
       "      <td>2015-01-14</td>\n",
       "      <td>acquitted</td>\n",
       "      <td>3.0</td>\n",
       "      <td>3</td>\n",
       "      <td>0 nonfemale</td>\n",
       "      <td>chief judicial magistrate</td>\n",
       "      <td>2014-02-21</td>\n",
       "      <td>2016-05-31</td>\n",
       "      <td>1834</td>\n",
       "      <td>327</td>\n",
       "    </tr>\n",
       "    <tr>\n",
       "      <th>4</th>\n",
       "      <td>4</td>\n",
       "      <td>01-01-01-203408003302010</td>\n",
       "      <td>2010</td>\n",
       "      <td>chief judicial magistrate</td>\n",
       "      <td>0 male</td>\n",
       "      <td>0</td>\n",
       "      <td>4</td>\n",
       "      <td>2010-05-18</td>\n",
       "      <td>2015-09-14</td>\n",
       "      <td>acquitted</td>\n",
       "      <td>3.0</td>\n",
       "      <td>3</td>\n",
       "      <td>0 nonfemale</td>\n",
       "      <td>chief judicial magistrate</td>\n",
       "      <td>2014-02-21</td>\n",
       "      <td>2016-05-31</td>\n",
       "      <td>1945</td>\n",
       "      <td>570</td>\n",
       "    </tr>\n",
       "    <tr>\n",
       "      <th>...</th>\n",
       "      <td>...</td>\n",
       "      <td>...</td>\n",
       "      <td>...</td>\n",
       "      <td>...</td>\n",
       "      <td>...</td>\n",
       "      <td>...</td>\n",
       "      <td>...</td>\n",
       "      <td>...</td>\n",
       "      <td>...</td>\n",
       "      <td>...</td>\n",
       "      <td>...</td>\n",
       "      <td>...</td>\n",
       "      <td>...</td>\n",
       "      <td>...</td>\n",
       "      <td>...</td>\n",
       "      <td>...</td>\n",
       "      <td>...</td>\n",
       "      <td>...</td>\n",
       "    </tr>\n",
       "    <tr>\n",
       "      <th>1590</th>\n",
       "      <td>1590</td>\n",
       "      <td>23-09-01-220600004292018</td>\n",
       "      <td>2018</td>\n",
       "      <td>district and sessions court</td>\n",
       "      <td>0 male</td>\n",
       "      <td>0</td>\n",
       "      <td>20</td>\n",
       "      <td>2018-05-14</td>\n",
       "      <td>2018-07-13</td>\n",
       "      <td>convicted</td>\n",
       "      <td>88654.0</td>\n",
       "      <td>88654</td>\n",
       "      <td>0 nonfemale</td>\n",
       "      <td>district and sessions court</td>\n",
       "      <td>2018-06-20</td>\n",
       "      <td>2018-10-13</td>\n",
       "      <td>60</td>\n",
       "      <td>23</td>\n",
       "    </tr>\n",
       "    <tr>\n",
       "      <th>1591</th>\n",
       "      <td>1591</td>\n",
       "      <td>23-09-01-220600006322018</td>\n",
       "      <td>2018</td>\n",
       "      <td>district and sessions court</td>\n",
       "      <td>0 male</td>\n",
       "      <td>0</td>\n",
       "      <td>20</td>\n",
       "      <td>2018-07-12</td>\n",
       "      <td>2018-08-14</td>\n",
       "      <td>convicted</td>\n",
       "      <td>88654.0</td>\n",
       "      <td>88654</td>\n",
       "      <td>0 nonfemale</td>\n",
       "      <td>district and sessions court</td>\n",
       "      <td>2018-06-20</td>\n",
       "      <td>2018-10-13</td>\n",
       "      <td>33</td>\n",
       "      <td>55</td>\n",
       "    </tr>\n",
       "    <tr>\n",
       "      <th>1592</th>\n",
       "      <td>1592</td>\n",
       "      <td>23-18-01-220600000242018</td>\n",
       "      <td>2018</td>\n",
       "      <td>district and sessions court</td>\n",
       "      <td>0 male</td>\n",
       "      <td>0</td>\n",
       "      <td>20</td>\n",
       "      <td>2018-01-29</td>\n",
       "      <td>2018-04-09</td>\n",
       "      <td>convicted</td>\n",
       "      <td>89475.0</td>\n",
       "      <td>89475</td>\n",
       "      <td>0 nonfemale</td>\n",
       "      <td>district and sessions court</td>\n",
       "      <td>2017-08-05</td>\n",
       "      <td>2018-05-22</td>\n",
       "      <td>70</td>\n",
       "      <td>247</td>\n",
       "    </tr>\n",
       "    <tr>\n",
       "      <th>1593</th>\n",
       "      <td>1593</td>\n",
       "      <td>23-29-01-220600000192018</td>\n",
       "      <td>2018</td>\n",
       "      <td>district and sessions court</td>\n",
       "      <td>0 male</td>\n",
       "      <td>0</td>\n",
       "      <td>20</td>\n",
       "      <td>2018-01-05</td>\n",
       "      <td>2018-04-12</td>\n",
       "      <td>convicted</td>\n",
       "      <td>90687.0</td>\n",
       "      <td>90687</td>\n",
       "      <td>0 nonfemale</td>\n",
       "      <td>district and sessions court</td>\n",
       "      <td>2018-02-01</td>\n",
       "      <td>2018-05-28</td>\n",
       "      <td>97</td>\n",
       "      <td>70</td>\n",
       "    </tr>\n",
       "    <tr>\n",
       "      <th>1594</th>\n",
       "      <td>1594</td>\n",
       "      <td>24-03-03-202400000012018</td>\n",
       "      <td>2018</td>\n",
       "      <td>judicial magistrate court</td>\n",
       "      <td>0 male</td>\n",
       "      <td>1</td>\n",
       "      <td>20</td>\n",
       "      <td>2018-02-03</td>\n",
       "      <td>2018-03-31</td>\n",
       "      <td>convicted</td>\n",
       "      <td>93758.0</td>\n",
       "      <td>93758</td>\n",
       "      <td>1 female</td>\n",
       "      <td>judicial magistrate court</td>\n",
       "      <td>2016-09-11</td>\n",
       "      <td>2019-10-01</td>\n",
       "      <td>56</td>\n",
       "      <td>566</td>\n",
       "    </tr>\n",
       "  </tbody>\n",
       "</table>\n",
       "<p>147567 rows × 18 columns</p>\n",
       "</div>"
      ],
      "text/plain": [
       "      Unnamed: 0               ddl_case_id  year             judge_position_x  \\\n",
       "0              0  01-01-01-203008000082010  2010    chief judicial magistrate   \n",
       "1              1  01-01-01-203008002452010  2010    chief judicial magistrate   \n",
       "2              2  01-01-01-203008002972010  2010    chief judicial magistrate   \n",
       "3              3  01-01-01-203408000182010  2010    chief judicial magistrate   \n",
       "4              4  01-01-01-203408003302010  2010    chief judicial magistrate   \n",
       "...          ...                       ...   ...                          ...   \n",
       "1590        1590  23-09-01-220600004292018  2018  district and sessions court   \n",
       "1591        1591  23-09-01-220600006322018  2018  district and sessions court   \n",
       "1592        1592  23-18-01-220600000242018  2018  district and sessions court   \n",
       "1593        1593  23-29-01-220600000192018  2018  district and sessions court   \n",
       "1594        1594  24-03-03-202400000012018  2018    judicial magistrate court   \n",
       "\n",
       "     female_defendant  female_adv_def  disp_name date_of_filing  \\\n",
       "0              0 male               0         19     2010-01-12   \n",
       "1              0 male               1          4     2010-08-18   \n",
       "2              0 male               0          4     2010-09-18   \n",
       "3              0 male               0          4     2010-01-06   \n",
       "4              0 male               0          4     2010-05-18   \n",
       "...               ...             ...        ...            ...   \n",
       "1590           0 male               0         20     2018-05-14   \n",
       "1591           0 male               0         20     2018-07-12   \n",
       "1592           0 male               0         20     2018-01-29   \n",
       "1593           0 male               0         20     2018-01-05   \n",
       "1594           0 male               1         20     2018-02-03   \n",
       "\n",
       "     date_of_decision disp_name_s  ddl_decision_judge_id  ddl_judge_id  \\\n",
       "0          2015-01-13   convicted                    3.0             3   \n",
       "1          2015-04-15   acquitted                    3.0             3   \n",
       "2          2015-03-25   acquitted                    3.0             3   \n",
       "3          2015-01-14   acquitted                    3.0             3   \n",
       "4          2015-09-14   acquitted                    3.0             3   \n",
       "...               ...         ...                    ...           ...   \n",
       "1590       2018-07-13   convicted                88654.0         88654   \n",
       "1591       2018-08-14   convicted                88654.0         88654   \n",
       "1592       2018-04-09   convicted                89475.0         89475   \n",
       "1593       2018-04-12   convicted                90687.0         90687   \n",
       "1594       2018-03-31   convicted                93758.0         93758   \n",
       "\n",
       "     female_judge             judge_position_y  start_date    end_date  \\\n",
       "0     0 nonfemale    chief judicial magistrate  2014-02-21  2016-05-31   \n",
       "1     0 nonfemale    chief judicial magistrate  2014-02-21  2016-05-31   \n",
       "2     0 nonfemale    chief judicial magistrate  2014-02-21  2016-05-31   \n",
       "3     0 nonfemale    chief judicial magistrate  2014-02-21  2016-05-31   \n",
       "4     0 nonfemale    chief judicial magistrate  2014-02-21  2016-05-31   \n",
       "...           ...                          ...         ...         ...   \n",
       "1590  0 nonfemale  district and sessions court  2018-06-20  2018-10-13   \n",
       "1591  0 nonfemale  district and sessions court  2018-06-20  2018-10-13   \n",
       "1592  0 nonfemale  district and sessions court  2017-08-05  2018-05-22   \n",
       "1593  0 nonfemale  district and sessions court  2018-02-01  2018-05-28   \n",
       "1594     1 female    judicial magistrate court  2016-09-11  2019-10-01   \n",
       "\n",
       "      case_time  judge_experience  \n",
       "0          1827               326  \n",
       "1          1701               418  \n",
       "2          1649               397  \n",
       "3          1834               327  \n",
       "4          1945               570  \n",
       "...         ...               ...  \n",
       "1590         60                23  \n",
       "1591         33                55  \n",
       "1592         70               247  \n",
       "1593         97                70  \n",
       "1594         56               566  \n",
       "\n",
       "[147567 rows x 18 columns]"
      ]
     },
     "execution_count": 5,
     "metadata": {},
     "output_type": "execute_result"
    }
   ],
   "source": [
    "dataset"
   ]
  },
  {
   "cell_type": "markdown",
   "id": "dfd455e5",
   "metadata": {
    "papermill": {
     "duration": 0.007011,
     "end_time": "2023-01-20T16:29:45.872902",
     "exception": false,
     "start_time": "2023-01-20T16:29:45.865891",
     "status": "completed"
    },
    "tags": []
   },
   "source": [
    "We now assign boolean values to the disposition values, so that they can be used for classification"
   ]
  },
  {
   "cell_type": "code",
   "execution_count": 6,
   "id": "21f689be",
   "metadata": {
    "execution": {
     "iopub.execute_input": "2023-01-20T16:29:45.889322Z",
     "iopub.status.busy": "2023-01-20T16:29:45.888509Z",
     "iopub.status.idle": "2023-01-20T16:29:45.893558Z",
     "shell.execute_reply": "2023-01-20T16:29:45.892809Z"
    },
    "papermill": {
     "duration": 0.015805,
     "end_time": "2023-01-20T16:29:45.895885",
     "exception": false,
     "start_time": "2023-01-20T16:29:45.880080",
     "status": "completed"
    },
    "tags": []
   },
   "outputs": [],
   "source": [
    "def boolean_val(s):\n",
    "    if s == \"convicted\":\n",
    "         return 1\n",
    "    else:\n",
    "        return 0"
   ]
  },
  {
   "cell_type": "code",
   "execution_count": 7,
   "id": "eb76d323",
   "metadata": {
    "execution": {
     "iopub.execute_input": "2023-01-20T16:29:45.912214Z",
     "iopub.status.busy": "2023-01-20T16:29:45.911584Z",
     "iopub.status.idle": "2023-01-20T16:29:47.618682Z",
     "shell.execute_reply": "2023-01-20T16:29:47.617786Z"
    },
    "papermill": {
     "duration": 1.717936,
     "end_time": "2023-01-20T16:29:47.621220",
     "exception": false,
     "start_time": "2023-01-20T16:29:45.903284",
     "status": "completed"
    },
    "tags": []
   },
   "outputs": [],
   "source": [
    "dataset[\"disp_boolean\"] = dataset.apply(lambda x : boolean_val(x[\"disp_name_s\"]), axis = 1)"
   ]
  },
  {
   "cell_type": "code",
   "execution_count": 8,
   "id": "dd11084e",
   "metadata": {
    "execution": {
     "iopub.execute_input": "2023-01-20T16:29:47.637795Z",
     "iopub.status.busy": "2023-01-20T16:29:47.637320Z",
     "iopub.status.idle": "2023-01-20T16:29:47.696901Z",
     "shell.execute_reply": "2023-01-20T16:29:47.695710Z"
    },
    "papermill": {
     "duration": 0.071178,
     "end_time": "2023-01-20T16:29:47.699815",
     "exception": false,
     "start_time": "2023-01-20T16:29:47.628637",
     "status": "completed"
    },
    "tags": []
   },
   "outputs": [],
   "source": [
    "dataset.drop([\"disp_name_s\", \"disp_name\"], axis = 1, inplace = True)\n",
    "\n",
    "dataset.drop([\"Unnamed: 0\"], axis=1, inplace = True)"
   ]
  },
  {
   "cell_type": "markdown",
   "id": "52fffd40",
   "metadata": {
    "papermill": {
     "duration": 0.006995,
     "end_time": "2023-01-20T16:29:47.714447",
     "exception": false,
     "start_time": "2023-01-20T16:29:47.707452",
     "status": "completed"
    },
    "tags": []
   },
   "source": [
    "# Training"
   ]
  },
  {
   "cell_type": "markdown",
   "id": "c6f3c3d8",
   "metadata": {
    "papermill": {
     "duration": 0.00692,
     "end_time": "2023-01-20T16:29:47.728587",
     "exception": false,
     "start_time": "2023-01-20T16:29:47.721667",
     "status": "completed"
    },
    "tags": []
   },
   "source": [
    "We train with the random forest classification model because it provides additional randomess and uncorrelation in the model"
   ]
  },
  {
   "cell_type": "code",
   "execution_count": 9,
   "id": "ebcc826c",
   "metadata": {
    "execution": {
     "iopub.execute_input": "2023-01-20T16:29:47.744877Z",
     "iopub.status.busy": "2023-01-20T16:29:47.744410Z",
     "iopub.status.idle": "2023-01-20T16:29:47.750228Z",
     "shell.execute_reply": "2023-01-20T16:29:47.749079Z"
    },
    "papermill": {
     "duration": 0.016535,
     "end_time": "2023-01-20T16:29:47.752486",
     "exception": false,
     "start_time": "2023-01-20T16:29:47.735951",
     "status": "completed"
    },
    "tags": []
   },
   "outputs": [],
   "source": [
    "numerical_cols = [\"case_time\", \"judge_experience\"]\n",
    "categorical_cols = [\"female_judge\",\"female_defendant\", \"year\", \"female_adv_def\", ]\n",
    "label_cols = [\"disp_boolean\"]\n",
    "categorical_preprocessor = OneHotEncoder(handle_unknown ='ignore')\n",
    "numerical_preprocessor  = StandardScaler()"
   ]
  },
  {
   "cell_type": "code",
   "execution_count": 10,
   "id": "0bc064fd",
   "metadata": {
    "execution": {
     "iopub.execute_input": "2023-01-20T16:29:47.769180Z",
     "iopub.status.busy": "2023-01-20T16:29:47.768556Z",
     "iopub.status.idle": "2023-01-20T16:29:47.774058Z",
     "shell.execute_reply": "2023-01-20T16:29:47.773018Z"
    },
    "papermill": {
     "duration": 0.01622,
     "end_time": "2023-01-20T16:29:47.776071",
     "exception": false,
     "start_time": "2023-01-20T16:29:47.759851",
     "status": "completed"
    },
    "tags": []
   },
   "outputs": [],
   "source": [
    "preprocessor = ColumnTransformer([\n",
    "    ('one-hot-encoder', categorical_preprocessor, categorical_cols),\n",
    "    ('standard_scaler', numerical_preprocessor, numerical_cols),\n",
    "])"
   ]
  },
  {
   "cell_type": "code",
   "execution_count": 11,
   "id": "28d4f0a7",
   "metadata": {
    "execution": {
     "iopub.execute_input": "2023-01-20T16:29:47.792959Z",
     "iopub.status.busy": "2023-01-20T16:29:47.791958Z",
     "iopub.status.idle": "2023-01-20T16:29:47.796998Z",
     "shell.execute_reply": "2023-01-20T16:29:47.796167Z"
    },
    "papermill": {
     "duration": 0.015755,
     "end_time": "2023-01-20T16:29:47.799123",
     "exception": false,
     "start_time": "2023-01-20T16:29:47.783368",
     "status": "completed"
    },
    "tags": []
   },
   "outputs": [],
   "source": [
    "model = make_pipeline(preprocessor, RandomForestClassifier(n_estimators = 100))"
   ]
  },
  {
   "cell_type": "code",
   "execution_count": 12,
   "id": "9e8fcc1e",
   "metadata": {
    "execution": {
     "iopub.execute_input": "2023-01-20T16:29:47.815480Z",
     "iopub.status.busy": "2023-01-20T16:29:47.814822Z",
     "iopub.status.idle": "2023-01-20T16:29:47.824457Z",
     "shell.execute_reply": "2023-01-20T16:29:47.823255Z"
    },
    "papermill": {
     "duration": 0.02101,
     "end_time": "2023-01-20T16:29:47.827281",
     "exception": false,
     "start_time": "2023-01-20T16:29:47.806271",
     "status": "completed"
    },
    "tags": []
   },
   "outputs": [],
   "source": [
    "x = dataset[['female_judge', 'female_defendant', 'female_adv_def', 'year',\n",
    "       'case_time', 'judge_experience']]\n",
    "y = dataset['disp_boolean']"
   ]
  },
  {
   "cell_type": "code",
   "execution_count": 13,
   "id": "f178d902",
   "metadata": {
    "execution": {
     "iopub.execute_input": "2023-01-20T16:29:47.844218Z",
     "iopub.status.busy": "2023-01-20T16:29:47.843396Z",
     "iopub.status.idle": "2023-01-20T16:29:47.877883Z",
     "shell.execute_reply": "2023-01-20T16:29:47.876963Z"
    },
    "papermill": {
     "duration": 0.045867,
     "end_time": "2023-01-20T16:29:47.880478",
     "exception": false,
     "start_time": "2023-01-20T16:29:47.834611",
     "status": "completed"
    },
    "tags": []
   },
   "outputs": [],
   "source": [
    "x_train, x_test, y_train, y_test = train_test_split(x, y)"
   ]
  },
  {
   "cell_type": "code",
   "execution_count": 14,
   "id": "afb7049a",
   "metadata": {
    "execution": {
     "iopub.execute_input": "2023-01-20T16:29:47.897369Z",
     "iopub.status.busy": "2023-01-20T16:29:47.896258Z",
     "iopub.status.idle": "2023-01-20T16:30:10.426016Z",
     "shell.execute_reply": "2023-01-20T16:30:10.424710Z"
    },
    "papermill": {
     "duration": 22.541385,
     "end_time": "2023-01-20T16:30:10.429169",
     "exception": false,
     "start_time": "2023-01-20T16:29:47.887784",
     "status": "completed"
    },
    "tags": []
   },
   "outputs": [
    {
     "name": "stdout",
     "output_type": "stream",
     "text": [
      "CPU times: user 22.3 s, sys: 190 ms, total: 22.5 s\n",
      "Wall time: 22.5 s\n"
     ]
    },
    {
     "data": {
      "text/plain": [
       "Pipeline(steps=[('columntransformer',\n",
       "                 ColumnTransformer(transformers=[('one-hot-encoder',\n",
       "                                                  OneHotEncoder(handle_unknown='ignore'),\n",
       "                                                  ['female_judge',\n",
       "                                                   'female_defendant', 'year',\n",
       "                                                   'female_adv_def']),\n",
       "                                                 ('standard_scaler',\n",
       "                                                  StandardScaler(),\n",
       "                                                  ['case_time',\n",
       "                                                   'judge_experience'])])),\n",
       "                ('randomforestclassifier', RandomForestClassifier())])"
      ]
     },
     "execution_count": 14,
     "metadata": {},
     "output_type": "execute_result"
    }
   ],
   "source": [
    "%%time\n",
    "model.fit(x_train, y_train)"
   ]
  },
  {
   "cell_type": "markdown",
   "id": "70e765ed",
   "metadata": {
    "papermill": {
     "duration": 0.007131,
     "end_time": "2023-01-20T16:30:10.443986",
     "exception": false,
     "start_time": "2023-01-20T16:30:10.436855",
     "status": "completed"
    },
    "tags": []
   },
   "source": [
    "# Performance Metrics"
   ]
  },
  {
   "cell_type": "markdown",
   "id": "25c8d594",
   "metadata": {
    "papermill": {
     "duration": 0.007064,
     "end_time": "2023-01-20T16:30:10.458492",
     "exception": false,
     "start_time": "2023-01-20T16:30:10.451428",
     "status": "completed"
    },
    "tags": []
   },
   "source": [
    "## Score"
   ]
  },
  {
   "cell_type": "code",
   "execution_count": 15,
   "id": "9e363a30",
   "metadata": {
    "execution": {
     "iopub.execute_input": "2023-01-20T16:30:10.475550Z",
     "iopub.status.busy": "2023-01-20T16:30:10.474880Z",
     "iopub.status.idle": "2023-01-20T16:30:11.900914Z",
     "shell.execute_reply": "2023-01-20T16:30:11.899719Z"
    },
    "papermill": {
     "duration": 1.437602,
     "end_time": "2023-01-20T16:30:11.903579",
     "exception": false,
     "start_time": "2023-01-20T16:30:10.465977",
     "status": "completed"
    },
    "tags": []
   },
   "outputs": [
    {
     "data": {
      "text/plain": [
       "82.22920958473382"
      ]
     },
     "execution_count": 15,
     "metadata": {},
     "output_type": "execute_result"
    }
   ],
   "source": [
    "model.score(x_test, y_test) * 100"
   ]
  },
  {
   "cell_type": "markdown",
   "id": "0c38adb5",
   "metadata": {
    "papermill": {
     "duration": 0.007297,
     "end_time": "2023-01-20T16:30:11.918467",
     "exception": false,
     "start_time": "2023-01-20T16:30:11.911170",
     "status": "completed"
    },
    "tags": []
   },
   "source": [
    "As we can see. Our model scores a respectable 82% in accuracy. This can further be improved by increasing the number of parameters taken, and using more test data."
   ]
  },
  {
   "cell_type": "markdown",
   "id": "de38bbdb",
   "metadata": {
    "papermill": {
     "duration": 0.007035,
     "end_time": "2023-01-20T16:30:11.932982",
     "exception": false,
     "start_time": "2023-01-20T16:30:11.925947",
     "status": "completed"
    },
    "tags": []
   },
   "source": [
    "## Confusion Matrix"
   ]
  },
  {
   "cell_type": "code",
   "execution_count": 16,
   "id": "aa76ab13",
   "metadata": {
    "execution": {
     "iopub.execute_input": "2023-01-20T16:30:11.950012Z",
     "iopub.status.busy": "2023-01-20T16:30:11.949586Z",
     "iopub.status.idle": "2023-01-20T16:30:13.338216Z",
     "shell.execute_reply": "2023-01-20T16:30:13.337214Z"
    },
    "papermill": {
     "duration": 1.400649,
     "end_time": "2023-01-20T16:30:13.340957",
     "exception": false,
     "start_time": "2023-01-20T16:30:11.940308",
     "status": "completed"
    },
    "tags": []
   },
   "outputs": [],
   "source": [
    "y_pred = model.predict(x_test)"
   ]
  },
  {
   "cell_type": "code",
   "execution_count": 17,
   "id": "df72f482",
   "metadata": {
    "execution": {
     "iopub.execute_input": "2023-01-20T16:30:13.357811Z",
     "iopub.status.busy": "2023-01-20T16:30:13.357302Z",
     "iopub.status.idle": "2023-01-20T16:30:13.373073Z",
     "shell.execute_reply": "2023-01-20T16:30:13.371877Z"
    },
    "papermill": {
     "duration": 0.02696,
     "end_time": "2023-01-20T16:30:13.375478",
     "exception": false,
     "start_time": "2023-01-20T16:30:13.348518",
     "status": "completed"
    },
    "tags": []
   },
   "outputs": [
    {
     "data": {
      "text/plain": [
       "array([[29593,  1272],\n",
       "       [ 5284,   743]])"
      ]
     },
     "execution_count": 17,
     "metadata": {},
     "output_type": "execute_result"
    }
   ],
   "source": [
    "confusion_matrix(y_test, y_pred)"
   ]
  },
  {
   "cell_type": "markdown",
   "id": "a7a21e39",
   "metadata": {
    "papermill": {
     "duration": 0.007473,
     "end_time": "2023-01-20T16:30:13.390840",
     "exception": false,
     "start_time": "2023-01-20T16:30:13.383367",
     "status": "completed"
    },
    "tags": []
   },
   "source": [
    "## Precision"
   ]
  },
  {
   "cell_type": "code",
   "execution_count": 18,
   "id": "051cadeb",
   "metadata": {
    "execution": {
     "iopub.execute_input": "2023-01-20T16:30:13.408788Z",
     "iopub.status.busy": "2023-01-20T16:30:13.407598Z",
     "iopub.status.idle": "2023-01-20T16:30:13.414599Z",
     "shell.execute_reply": "2023-01-20T16:30:13.413724Z"
    },
    "papermill": {
     "duration": 0.018159,
     "end_time": "2023-01-20T16:30:13.416681",
     "exception": false,
     "start_time": "2023-01-20T16:30:13.398522",
     "status": "completed"
    },
    "tags": []
   },
   "outputs": [],
   "source": [
    "def find_TP(y, y_hat):\n",
    "   # counts the number of true positives (y = 1, y_hat = 1)\n",
    "   return sum((y == 1) & (y_hat == 1))\n",
    "def find_FN(y, y_hat):\n",
    "   # counts the number of false negatives (y = 1, y_hat = 0) Type-II error\n",
    "   return sum((y == 1) & (y_hat == 0))\n",
    "def find_FP(y, y_hat):\n",
    "   # counts the number of false positives (y = 0, y_hat = 1) Type-I error\n",
    "   return sum((y == 0) & (y_hat == 1))\n",
    "def find_TN(y, y_hat):\n",
    "   # counts the number of true negatives (y = 0, y_hat = 0)\n",
    "   return sum((y == 0) & (y_hat == 0))"
   ]
  },
  {
   "cell_type": "code",
   "execution_count": 19,
   "id": "47c6466f",
   "metadata": {
    "execution": {
     "iopub.execute_input": "2023-01-20T16:30:13.434865Z",
     "iopub.status.busy": "2023-01-20T16:30:13.434149Z",
     "iopub.status.idle": "2023-01-20T16:30:13.458175Z",
     "shell.execute_reply": "2023-01-20T16:30:13.456712Z"
    },
    "papermill": {
     "duration": 0.036411,
     "end_time": "2023-01-20T16:30:13.460769",
     "exception": false,
     "start_time": "2023-01-20T16:30:13.424358",
     "status": "completed"
    },
    "tags": []
   },
   "outputs": [
    {
     "name": "stdout",
     "output_type": "stream",
     "text": [
      "TP: 743\n",
      "FN: 5284\n",
      "FP: 1272\n",
      "TN: 29593\n",
      "Precision: 0.36873449131513647\n"
     ]
    }
   ],
   "source": [
    "TP = find_TP(y_test, y_pred)\n",
    "FN = find_FN(y_test, y_pred)\n",
    "FP = find_FP(y_test, y_pred)\n",
    "TN = find_TN(y_test, y_pred)\n",
    "print('TP:',TP)\n",
    "print('FN:',FN)\n",
    "print('FP:',FP)\n",
    "print('TN:',TN)\n",
    "precision = TP/(TP+FP)\n",
    "print('Precision:',precision)"
   ]
  }
 ],
 "metadata": {
  "kernelspec": {
   "display_name": "Python 3",
   "language": "python",
   "name": "python3"
  },
  "language_info": {
   "codemirror_mode": {
    "name": "ipython",
    "version": 3
   },
   "file_extension": ".py",
   "mimetype": "text/x-python",
   "name": "python",
   "nbconvert_exporter": "python",
   "pygments_lexer": "ipython3",
   "version": "3.7.12"
  },
  "papermill": {
   "default_parameters": {},
   "duration": 41.488413,
   "end_time": "2023-01-20T16:30:14.289924",
   "environment_variables": {},
   "exception": null,
   "input_path": "__notebook__.ipynb",
   "output_path": "__notebook__.ipynb",
   "parameters": {},
   "start_time": "2023-01-20T16:29:32.801511",
   "version": "2.3.4"
  }
 },
 "nbformat": 4,
 "nbformat_minor": 5
}
