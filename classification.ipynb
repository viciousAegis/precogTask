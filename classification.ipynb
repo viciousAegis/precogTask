{
 "cells": [
  {
   "cell_type": "markdown",
   "id": "95092614",
   "metadata": {
    "papermill": {
     "duration": 0.006269,
     "end_time": "2023-01-20T17:35:20.784068",
     "exception": false,
     "start_time": "2023-01-20T17:35:20.777799",
     "status": "completed"
    },
    "tags": []
   },
   "source": [
    "# Classify case disposition"
   ]
  },
  {
   "cell_type": "markdown",
   "id": "2ac1eb51",
   "metadata": {
    "papermill": {
     "duration": 0.005266,
     "end_time": "2023-01-20T17:35:20.794889",
     "exception": false,
     "start_time": "2023-01-20T17:35:20.789623",
     "status": "completed"
    },
    "tags": []
   },
   "source": [
    "We classify the subset of the data we have into two buckets, and predict whether a test case would end up in a disposition of conviction or aquittal\n",
    "\n",
    "## Features Used\n",
    "As input, I use:\n",
    "- the time a case is taking to complete\n",
    "- the experience of the judge judging the crime\n",
    "- the gender of the judge\n",
    "- the gender of the defendant\n",
    "- gender of the defendant's lawyer\n",
    "- the position of the judge\n",
    "\n",
    "## Training\n",
    "\n",
    "We train with the random forest classification model because it provides additional randomess and uncorrelation in the model.\n",
    "\n",
    "## Metrics\n",
    "We judge the model using the score, a confusion matrix, and precision"
   ]
  },
  {
   "cell_type": "markdown",
   "id": "96326761",
   "metadata": {
    "papermill": {
     "duration": 0.005129,
     "end_time": "2023-01-20T17:35:20.805471",
     "exception": false,
     "start_time": "2023-01-20T17:35:20.800342",
     "status": "completed"
    },
    "tags": []
   },
   "source": [
    "## Preprocessing"
   ]
  },
  {
   "cell_type": "code",
   "execution_count": 1,
   "id": "a32b1471",
   "metadata": {
    "execution": {
     "iopub.execute_input": "2023-01-20T17:35:20.818992Z",
     "iopub.status.busy": "2023-01-20T17:35:20.818182Z",
     "iopub.status.idle": "2023-01-20T17:35:22.161789Z",
     "shell.execute_reply": "2023-01-20T17:35:22.160349Z"
    },
    "papermill": {
     "duration": 1.353643,
     "end_time": "2023-01-20T17:35:22.164710",
     "exception": false,
     "start_time": "2023-01-20T17:35:20.811067",
     "status": "completed"
    },
    "tags": []
   },
   "outputs": [],
   "source": [
    "import pandas as pd\n",
    "import numpy as np\n",
    "from sklearn.preprocessing import OneHotEncoder, StandardScaler, LabelEncoder\n",
    "from sklearn.compose import ColumnTransformer\n",
    "from sklearn.linear_model import LogisticRegression\n",
    "from sklearn.pipeline import make_pipeline\n",
    "from sklearn.ensemble import RandomForestClassifier\n",
    "from sklearn.model_selection import train_test_split\n",
    "from sklearn.model_selection import cross_validate\n",
    "from sklearn.metrics import confusion_matrix\n",
    "import matplotlib.pyplot as plt"
   ]
  },
  {
   "cell_type": "code",
   "execution_count": 2,
   "id": "6f2d2177",
   "metadata": {
    "execution": {
     "iopub.execute_input": "2023-01-20T17:35:22.178375Z",
     "iopub.status.busy": "2023-01-20T17:35:22.176902Z",
     "iopub.status.idle": "2023-01-20T17:35:22.917451Z",
     "shell.execute_reply": "2023-01-20T17:35:22.915763Z"
    },
    "papermill": {
     "duration": 0.749763,
     "end_time": "2023-01-20T17:35:22.920111",
     "exception": false,
     "start_time": "2023-01-20T17:35:22.170348",
     "status": "completed"
    },
    "tags": []
   },
   "outputs": [],
   "source": [
    "dataset1 = pd.read_csv(\"/kaggle/input/classif-data/final_case_1.csv\")\n",
    "dataset2 = pd.read_csv(\"/kaggle/input/classif-data/final_case_2.csv\")\n",
    "dataset3 = pd.read_csv(\"/kaggle/input/classif-data/final_case_3.csv\")\n",
    "\n",
    "\n",
    "dataset = pd.concat([dataset1,dataset2,dataset3])"
   ]
  },
  {
   "cell_type": "code",
   "execution_count": 3,
   "id": "c6569f45",
   "metadata": {
    "execution": {
     "iopub.execute_input": "2023-01-20T17:35:22.933287Z",
     "iopub.status.busy": "2023-01-20T17:35:22.932882Z",
     "iopub.status.idle": "2023-01-20T17:35:23.001607Z",
     "shell.execute_reply": "2023-01-20T17:35:23.000501Z"
    },
    "papermill": {
     "duration": 0.078015,
     "end_time": "2023-01-20T17:35:23.004106",
     "exception": false,
     "start_time": "2023-01-20T17:35:22.926091",
     "status": "completed"
    },
    "tags": []
   },
   "outputs": [],
   "source": [
    "dataset[\"case_time\"] = (pd.to_datetime(dataset[\"date_of_decision\"]) - pd.to_datetime(dataset[\"date_of_filing\"])).dt.days"
   ]
  },
  {
   "cell_type": "code",
   "execution_count": 4,
   "id": "20d37d70",
   "metadata": {
    "execution": {
     "iopub.execute_input": "2023-01-20T17:35:23.016420Z",
     "iopub.status.busy": "2023-01-20T17:35:23.016047Z",
     "iopub.status.idle": "2023-01-20T17:35:23.071633Z",
     "shell.execute_reply": "2023-01-20T17:35:23.070142Z"
    },
    "papermill": {
     "duration": 0.064715,
     "end_time": "2023-01-20T17:35:23.074275",
     "exception": false,
     "start_time": "2023-01-20T17:35:23.009560",
     "status": "completed"
    },
    "tags": []
   },
   "outputs": [],
   "source": [
    "dataset[\"judge_experience\"] = (pd.to_datetime(dataset[\"date_of_decision\"]) - pd.to_datetime(dataset[\"start_date\"])).dt.days"
   ]
  },
  {
   "cell_type": "code",
   "execution_count": 5,
   "id": "fd508f78",
   "metadata": {
    "execution": {
     "iopub.execute_input": "2023-01-20T17:35:23.088064Z",
     "iopub.status.busy": "2023-01-20T17:35:23.087672Z",
     "iopub.status.idle": "2023-01-20T17:35:23.116220Z",
     "shell.execute_reply": "2023-01-20T17:35:23.115346Z"
    },
    "papermill": {
     "duration": 0.037609,
     "end_time": "2023-01-20T17:35:23.118720",
     "exception": false,
     "start_time": "2023-01-20T17:35:23.081111",
     "status": "completed"
    },
    "tags": []
   },
   "outputs": [
    {
     "data": {
      "text/html": [
       "<div>\n",
       "<style scoped>\n",
       "    .dataframe tbody tr th:only-of-type {\n",
       "        vertical-align: middle;\n",
       "    }\n",
       "\n",
       "    .dataframe tbody tr th {\n",
       "        vertical-align: top;\n",
       "    }\n",
       "\n",
       "    .dataframe thead th {\n",
       "        text-align: right;\n",
       "    }\n",
       "</style>\n",
       "<table border=\"1\" class=\"dataframe\">\n",
       "  <thead>\n",
       "    <tr style=\"text-align: right;\">\n",
       "      <th></th>\n",
       "      <th>Unnamed: 0</th>\n",
       "      <th>ddl_case_id</th>\n",
       "      <th>year</th>\n",
       "      <th>judge_position_x</th>\n",
       "      <th>female_defendant</th>\n",
       "      <th>female_adv_def</th>\n",
       "      <th>disp_name</th>\n",
       "      <th>date_of_filing</th>\n",
       "      <th>date_of_decision</th>\n",
       "      <th>disp_name_s</th>\n",
       "      <th>ddl_decision_judge_id</th>\n",
       "      <th>ddl_judge_id</th>\n",
       "      <th>female_judge</th>\n",
       "      <th>judge_position_y</th>\n",
       "      <th>start_date</th>\n",
       "      <th>end_date</th>\n",
       "      <th>case_time</th>\n",
       "      <th>judge_experience</th>\n",
       "    </tr>\n",
       "  </thead>\n",
       "  <tbody>\n",
       "    <tr>\n",
       "      <th>0</th>\n",
       "      <td>0</td>\n",
       "      <td>01-01-01-203008000082010</td>\n",
       "      <td>2010</td>\n",
       "      <td>chief judicial magistrate</td>\n",
       "      <td>0 male</td>\n",
       "      <td>0</td>\n",
       "      <td>19</td>\n",
       "      <td>2010-01-12</td>\n",
       "      <td>2015-01-13</td>\n",
       "      <td>convicted</td>\n",
       "      <td>3.0</td>\n",
       "      <td>3</td>\n",
       "      <td>0 nonfemale</td>\n",
       "      <td>chief judicial magistrate</td>\n",
       "      <td>2014-02-21</td>\n",
       "      <td>2016-05-31</td>\n",
       "      <td>1827</td>\n",
       "      <td>326</td>\n",
       "    </tr>\n",
       "    <tr>\n",
       "      <th>1</th>\n",
       "      <td>1</td>\n",
       "      <td>01-01-01-203008002452010</td>\n",
       "      <td>2010</td>\n",
       "      <td>chief judicial magistrate</td>\n",
       "      <td>0 male</td>\n",
       "      <td>1</td>\n",
       "      <td>4</td>\n",
       "      <td>2010-08-18</td>\n",
       "      <td>2015-04-15</td>\n",
       "      <td>acquitted</td>\n",
       "      <td>3.0</td>\n",
       "      <td>3</td>\n",
       "      <td>0 nonfemale</td>\n",
       "      <td>chief judicial magistrate</td>\n",
       "      <td>2014-02-21</td>\n",
       "      <td>2016-05-31</td>\n",
       "      <td>1701</td>\n",
       "      <td>418</td>\n",
       "    </tr>\n",
       "    <tr>\n",
       "      <th>2</th>\n",
       "      <td>2</td>\n",
       "      <td>01-01-01-203008002972010</td>\n",
       "      <td>2010</td>\n",
       "      <td>chief judicial magistrate</td>\n",
       "      <td>0 male</td>\n",
       "      <td>0</td>\n",
       "      <td>4</td>\n",
       "      <td>2010-09-18</td>\n",
       "      <td>2015-03-25</td>\n",
       "      <td>acquitted</td>\n",
       "      <td>3.0</td>\n",
       "      <td>3</td>\n",
       "      <td>0 nonfemale</td>\n",
       "      <td>chief judicial magistrate</td>\n",
       "      <td>2014-02-21</td>\n",
       "      <td>2016-05-31</td>\n",
       "      <td>1649</td>\n",
       "      <td>397</td>\n",
       "    </tr>\n",
       "    <tr>\n",
       "      <th>3</th>\n",
       "      <td>3</td>\n",
       "      <td>01-01-01-203408000182010</td>\n",
       "      <td>2010</td>\n",
       "      <td>chief judicial magistrate</td>\n",
       "      <td>0 male</td>\n",
       "      <td>0</td>\n",
       "      <td>4</td>\n",
       "      <td>2010-01-06</td>\n",
       "      <td>2015-01-14</td>\n",
       "      <td>acquitted</td>\n",
       "      <td>3.0</td>\n",
       "      <td>3</td>\n",
       "      <td>0 nonfemale</td>\n",
       "      <td>chief judicial magistrate</td>\n",
       "      <td>2014-02-21</td>\n",
       "      <td>2016-05-31</td>\n",
       "      <td>1834</td>\n",
       "      <td>327</td>\n",
       "    </tr>\n",
       "    <tr>\n",
       "      <th>4</th>\n",
       "      <td>4</td>\n",
       "      <td>01-01-01-203408003302010</td>\n",
       "      <td>2010</td>\n",
       "      <td>chief judicial magistrate</td>\n",
       "      <td>0 male</td>\n",
       "      <td>0</td>\n",
       "      <td>4</td>\n",
       "      <td>2010-05-18</td>\n",
       "      <td>2015-09-14</td>\n",
       "      <td>acquitted</td>\n",
       "      <td>3.0</td>\n",
       "      <td>3</td>\n",
       "      <td>0 nonfemale</td>\n",
       "      <td>chief judicial magistrate</td>\n",
       "      <td>2014-02-21</td>\n",
       "      <td>2016-05-31</td>\n",
       "      <td>1945</td>\n",
       "      <td>570</td>\n",
       "    </tr>\n",
       "    <tr>\n",
       "      <th>...</th>\n",
       "      <td>...</td>\n",
       "      <td>...</td>\n",
       "      <td>...</td>\n",
       "      <td>...</td>\n",
       "      <td>...</td>\n",
       "      <td>...</td>\n",
       "      <td>...</td>\n",
       "      <td>...</td>\n",
       "      <td>...</td>\n",
       "      <td>...</td>\n",
       "      <td>...</td>\n",
       "      <td>...</td>\n",
       "      <td>...</td>\n",
       "      <td>...</td>\n",
       "      <td>...</td>\n",
       "      <td>...</td>\n",
       "      <td>...</td>\n",
       "      <td>...</td>\n",
       "    </tr>\n",
       "    <tr>\n",
       "      <th>1590</th>\n",
       "      <td>1590</td>\n",
       "      <td>23-09-01-220600004292018</td>\n",
       "      <td>2018</td>\n",
       "      <td>district and sessions court</td>\n",
       "      <td>0 male</td>\n",
       "      <td>0</td>\n",
       "      <td>20</td>\n",
       "      <td>2018-05-14</td>\n",
       "      <td>2018-07-13</td>\n",
       "      <td>convicted</td>\n",
       "      <td>88654.0</td>\n",
       "      <td>88654</td>\n",
       "      <td>0 nonfemale</td>\n",
       "      <td>district and sessions court</td>\n",
       "      <td>2018-06-20</td>\n",
       "      <td>2018-10-13</td>\n",
       "      <td>60</td>\n",
       "      <td>23</td>\n",
       "    </tr>\n",
       "    <tr>\n",
       "      <th>1591</th>\n",
       "      <td>1591</td>\n",
       "      <td>23-09-01-220600006322018</td>\n",
       "      <td>2018</td>\n",
       "      <td>district and sessions court</td>\n",
       "      <td>0 male</td>\n",
       "      <td>0</td>\n",
       "      <td>20</td>\n",
       "      <td>2018-07-12</td>\n",
       "      <td>2018-08-14</td>\n",
       "      <td>convicted</td>\n",
       "      <td>88654.0</td>\n",
       "      <td>88654</td>\n",
       "      <td>0 nonfemale</td>\n",
       "      <td>district and sessions court</td>\n",
       "      <td>2018-06-20</td>\n",
       "      <td>2018-10-13</td>\n",
       "      <td>33</td>\n",
       "      <td>55</td>\n",
       "    </tr>\n",
       "    <tr>\n",
       "      <th>1592</th>\n",
       "      <td>1592</td>\n",
       "      <td>23-18-01-220600000242018</td>\n",
       "      <td>2018</td>\n",
       "      <td>district and sessions court</td>\n",
       "      <td>0 male</td>\n",
       "      <td>0</td>\n",
       "      <td>20</td>\n",
       "      <td>2018-01-29</td>\n",
       "      <td>2018-04-09</td>\n",
       "      <td>convicted</td>\n",
       "      <td>89475.0</td>\n",
       "      <td>89475</td>\n",
       "      <td>0 nonfemale</td>\n",
       "      <td>district and sessions court</td>\n",
       "      <td>2017-08-05</td>\n",
       "      <td>2018-05-22</td>\n",
       "      <td>70</td>\n",
       "      <td>247</td>\n",
       "    </tr>\n",
       "    <tr>\n",
       "      <th>1593</th>\n",
       "      <td>1593</td>\n",
       "      <td>23-29-01-220600000192018</td>\n",
       "      <td>2018</td>\n",
       "      <td>district and sessions court</td>\n",
       "      <td>0 male</td>\n",
       "      <td>0</td>\n",
       "      <td>20</td>\n",
       "      <td>2018-01-05</td>\n",
       "      <td>2018-04-12</td>\n",
       "      <td>convicted</td>\n",
       "      <td>90687.0</td>\n",
       "      <td>90687</td>\n",
       "      <td>0 nonfemale</td>\n",
       "      <td>district and sessions court</td>\n",
       "      <td>2018-02-01</td>\n",
       "      <td>2018-05-28</td>\n",
       "      <td>97</td>\n",
       "      <td>70</td>\n",
       "    </tr>\n",
       "    <tr>\n",
       "      <th>1594</th>\n",
       "      <td>1594</td>\n",
       "      <td>24-03-03-202400000012018</td>\n",
       "      <td>2018</td>\n",
       "      <td>judicial magistrate court</td>\n",
       "      <td>0 male</td>\n",
       "      <td>1</td>\n",
       "      <td>20</td>\n",
       "      <td>2018-02-03</td>\n",
       "      <td>2018-03-31</td>\n",
       "      <td>convicted</td>\n",
       "      <td>93758.0</td>\n",
       "      <td>93758</td>\n",
       "      <td>1 female</td>\n",
       "      <td>judicial magistrate court</td>\n",
       "      <td>2016-09-11</td>\n",
       "      <td>2019-10-01</td>\n",
       "      <td>56</td>\n",
       "      <td>566</td>\n",
       "    </tr>\n",
       "  </tbody>\n",
       "</table>\n",
       "<p>147567 rows × 18 columns</p>\n",
       "</div>"
      ],
      "text/plain": [
       "      Unnamed: 0               ddl_case_id  year             judge_position_x  \\\n",
       "0              0  01-01-01-203008000082010  2010    chief judicial magistrate   \n",
       "1              1  01-01-01-203008002452010  2010    chief judicial magistrate   \n",
       "2              2  01-01-01-203008002972010  2010    chief judicial magistrate   \n",
       "3              3  01-01-01-203408000182010  2010    chief judicial magistrate   \n",
       "4              4  01-01-01-203408003302010  2010    chief judicial magistrate   \n",
       "...          ...                       ...   ...                          ...   \n",
       "1590        1590  23-09-01-220600004292018  2018  district and sessions court   \n",
       "1591        1591  23-09-01-220600006322018  2018  district and sessions court   \n",
       "1592        1592  23-18-01-220600000242018  2018  district and sessions court   \n",
       "1593        1593  23-29-01-220600000192018  2018  district and sessions court   \n",
       "1594        1594  24-03-03-202400000012018  2018    judicial magistrate court   \n",
       "\n",
       "     female_defendant  female_adv_def  disp_name date_of_filing  \\\n",
       "0              0 male               0         19     2010-01-12   \n",
       "1              0 male               1          4     2010-08-18   \n",
       "2              0 male               0          4     2010-09-18   \n",
       "3              0 male               0          4     2010-01-06   \n",
       "4              0 male               0          4     2010-05-18   \n",
       "...               ...             ...        ...            ...   \n",
       "1590           0 male               0         20     2018-05-14   \n",
       "1591           0 male               0         20     2018-07-12   \n",
       "1592           0 male               0         20     2018-01-29   \n",
       "1593           0 male               0         20     2018-01-05   \n",
       "1594           0 male               1         20     2018-02-03   \n",
       "\n",
       "     date_of_decision disp_name_s  ddl_decision_judge_id  ddl_judge_id  \\\n",
       "0          2015-01-13   convicted                    3.0             3   \n",
       "1          2015-04-15   acquitted                    3.0             3   \n",
       "2          2015-03-25   acquitted                    3.0             3   \n",
       "3          2015-01-14   acquitted                    3.0             3   \n",
       "4          2015-09-14   acquitted                    3.0             3   \n",
       "...               ...         ...                    ...           ...   \n",
       "1590       2018-07-13   convicted                88654.0         88654   \n",
       "1591       2018-08-14   convicted                88654.0         88654   \n",
       "1592       2018-04-09   convicted                89475.0         89475   \n",
       "1593       2018-04-12   convicted                90687.0         90687   \n",
       "1594       2018-03-31   convicted                93758.0         93758   \n",
       "\n",
       "     female_judge             judge_position_y  start_date    end_date  \\\n",
       "0     0 nonfemale    chief judicial magistrate  2014-02-21  2016-05-31   \n",
       "1     0 nonfemale    chief judicial magistrate  2014-02-21  2016-05-31   \n",
       "2     0 nonfemale    chief judicial magistrate  2014-02-21  2016-05-31   \n",
       "3     0 nonfemale    chief judicial magistrate  2014-02-21  2016-05-31   \n",
       "4     0 nonfemale    chief judicial magistrate  2014-02-21  2016-05-31   \n",
       "...           ...                          ...         ...         ...   \n",
       "1590  0 nonfemale  district and sessions court  2018-06-20  2018-10-13   \n",
       "1591  0 nonfemale  district and sessions court  2018-06-20  2018-10-13   \n",
       "1592  0 nonfemale  district and sessions court  2017-08-05  2018-05-22   \n",
       "1593  0 nonfemale  district and sessions court  2018-02-01  2018-05-28   \n",
       "1594     1 female    judicial magistrate court  2016-09-11  2019-10-01   \n",
       "\n",
       "      case_time  judge_experience  \n",
       "0          1827               326  \n",
       "1          1701               418  \n",
       "2          1649               397  \n",
       "3          1834               327  \n",
       "4          1945               570  \n",
       "...         ...               ...  \n",
       "1590         60                23  \n",
       "1591         33                55  \n",
       "1592         70               247  \n",
       "1593         97                70  \n",
       "1594         56               566  \n",
       "\n",
       "[147567 rows x 18 columns]"
      ]
     },
     "execution_count": 5,
     "metadata": {},
     "output_type": "execute_result"
    }
   ],
   "source": [
    "dataset"
   ]
  },
  {
   "cell_type": "markdown",
   "id": "df89bc51",
   "metadata": {
    "papermill": {
     "duration": 0.005469,
     "end_time": "2023-01-20T17:35:23.130154",
     "exception": false,
     "start_time": "2023-01-20T17:35:23.124685",
     "status": "completed"
    },
    "tags": []
   },
   "source": [
    "We now assign boolean values to the disposition values, so that they can be used for classification"
   ]
  },
  {
   "cell_type": "code",
   "execution_count": 6,
   "id": "d94ed8a3",
   "metadata": {
    "execution": {
     "iopub.execute_input": "2023-01-20T17:35:23.143539Z",
     "iopub.status.busy": "2023-01-20T17:35:23.143151Z",
     "iopub.status.idle": "2023-01-20T17:35:23.147687Z",
     "shell.execute_reply": "2023-01-20T17:35:23.146837Z"
    },
    "papermill": {
     "duration": 0.013417,
     "end_time": "2023-01-20T17:35:23.149278",
     "exception": false,
     "start_time": "2023-01-20T17:35:23.135861",
     "status": "completed"
    },
    "tags": []
   },
   "outputs": [],
   "source": [
    "def boolean_val(s):\n",
    "    if s == \"convicted\":\n",
    "         return 1\n",
    "    else:\n",
    "        return 0"
   ]
  },
  {
   "cell_type": "code",
   "execution_count": 7,
   "id": "9a4d40bf",
   "metadata": {
    "execution": {
     "iopub.execute_input": "2023-01-20T17:35:23.162247Z",
     "iopub.status.busy": "2023-01-20T17:35:23.161831Z",
     "iopub.status.idle": "2023-01-20T17:35:24.682262Z",
     "shell.execute_reply": "2023-01-20T17:35:24.680898Z"
    },
    "papermill": {
     "duration": 1.529887,
     "end_time": "2023-01-20T17:35:24.684918",
     "exception": false,
     "start_time": "2023-01-20T17:35:23.155031",
     "status": "completed"
    },
    "tags": []
   },
   "outputs": [],
   "source": [
    "dataset[\"disp_boolean\"] = dataset.apply(lambda x : boolean_val(x[\"disp_name_s\"]), axis = 1)"
   ]
  },
  {
   "cell_type": "code",
   "execution_count": 8,
   "id": "5cd1b538",
   "metadata": {
    "execution": {
     "iopub.execute_input": "2023-01-20T17:35:24.698120Z",
     "iopub.status.busy": "2023-01-20T17:35:24.697739Z",
     "iopub.status.idle": "2023-01-20T17:35:24.743415Z",
     "shell.execute_reply": "2023-01-20T17:35:24.742419Z"
    },
    "papermill": {
     "duration": 0.054697,
     "end_time": "2023-01-20T17:35:24.745612",
     "exception": false,
     "start_time": "2023-01-20T17:35:24.690915",
     "status": "completed"
    },
    "tags": []
   },
   "outputs": [],
   "source": [
    "dataset.drop([\"disp_name_s\", \"disp_name\"], axis = 1, inplace = True)\n",
    "\n",
    "dataset.drop([\"Unnamed: 0\"], axis=1, inplace = True)"
   ]
  },
  {
   "cell_type": "markdown",
   "id": "25a3e172",
   "metadata": {
    "papermill": {
     "duration": 0.005697,
     "end_time": "2023-01-20T17:35:24.757403",
     "exception": false,
     "start_time": "2023-01-20T17:35:24.751706",
     "status": "completed"
    },
    "tags": []
   },
   "source": [
    "# Training"
   ]
  },
  {
   "cell_type": "code",
   "execution_count": 9,
   "id": "3c336f7a",
   "metadata": {
    "execution": {
     "iopub.execute_input": "2023-01-20T17:35:24.771533Z",
     "iopub.status.busy": "2023-01-20T17:35:24.771197Z",
     "iopub.status.idle": "2023-01-20T17:35:24.775662Z",
     "shell.execute_reply": "2023-01-20T17:35:24.774834Z"
    },
    "papermill": {
     "duration": 0.014428,
     "end_time": "2023-01-20T17:35:24.777594",
     "exception": false,
     "start_time": "2023-01-20T17:35:24.763166",
     "status": "completed"
    },
    "tags": []
   },
   "outputs": [],
   "source": [
    "numerical_cols = [\"case_time\", \"judge_experience\"]\n",
    "categorical_cols = [\"female_judge\",\"female_defendant\",\"judge_position_x\", \"female_adv_def\", ]\n",
    "label_cols = [\"disp_boolean\"]\n",
    "categorical_preprocessor = OneHotEncoder(handle_unknown ='ignore')\n",
    "numerical_preprocessor  = StandardScaler()"
   ]
  },
  {
   "cell_type": "code",
   "execution_count": 10,
   "id": "dc4b3713",
   "metadata": {
    "execution": {
     "iopub.execute_input": "2023-01-20T17:35:24.791206Z",
     "iopub.status.busy": "2023-01-20T17:35:24.790845Z",
     "iopub.status.idle": "2023-01-20T17:35:24.795161Z",
     "shell.execute_reply": "2023-01-20T17:35:24.794246Z"
    },
    "papermill": {
     "duration": 0.013307,
     "end_time": "2023-01-20T17:35:24.797044",
     "exception": false,
     "start_time": "2023-01-20T17:35:24.783737",
     "status": "completed"
    },
    "tags": []
   },
   "outputs": [],
   "source": [
    "preprocessor = ColumnTransformer([\n",
    "    ('one-hot-encoder', categorical_preprocessor, categorical_cols),\n",
    "    ('standard_scaler', numerical_preprocessor, numerical_cols),\n",
    "])"
   ]
  },
  {
   "cell_type": "code",
   "execution_count": 11,
   "id": "26c44029",
   "metadata": {
    "execution": {
     "iopub.execute_input": "2023-01-20T17:35:24.810500Z",
     "iopub.status.busy": "2023-01-20T17:35:24.810139Z",
     "iopub.status.idle": "2023-01-20T17:35:24.815222Z",
     "shell.execute_reply": "2023-01-20T17:35:24.814008Z"
    },
    "papermill": {
     "duration": 0.014021,
     "end_time": "2023-01-20T17:35:24.817069",
     "exception": false,
     "start_time": "2023-01-20T17:35:24.803048",
     "status": "completed"
    },
    "tags": []
   },
   "outputs": [],
   "source": [
    "model = make_pipeline(preprocessor, RandomForestClassifier(n_estimators = 100))"
   ]
  },
  {
   "cell_type": "code",
   "execution_count": 12,
   "id": "a19cc1aa",
   "metadata": {
    "execution": {
     "iopub.execute_input": "2023-01-20T17:35:24.830995Z",
     "iopub.status.busy": "2023-01-20T17:35:24.830613Z",
     "iopub.status.idle": "2023-01-20T17:35:24.840951Z",
     "shell.execute_reply": "2023-01-20T17:35:24.839335Z"
    },
    "papermill": {
     "duration": 0.019701,
     "end_time": "2023-01-20T17:35:24.843140",
     "exception": false,
     "start_time": "2023-01-20T17:35:24.823439",
     "status": "completed"
    },
    "tags": []
   },
   "outputs": [],
   "source": [
    "x = dataset[['female_judge', 'female_defendant', 'female_adv_def',\n",
    "       'case_time',\"judge_position_x\", 'judge_experience']]\n",
    "y = dataset['disp_boolean']"
   ]
  },
  {
   "cell_type": "code",
   "execution_count": 13,
   "id": "940fb6b0",
   "metadata": {
    "execution": {
     "iopub.execute_input": "2023-01-20T17:35:24.857639Z",
     "iopub.status.busy": "2023-01-20T17:35:24.857183Z",
     "iopub.status.idle": "2023-01-20T17:35:24.895104Z",
     "shell.execute_reply": "2023-01-20T17:35:24.893649Z"
    },
    "papermill": {
     "duration": 0.048219,
     "end_time": "2023-01-20T17:35:24.897446",
     "exception": false,
     "start_time": "2023-01-20T17:35:24.849227",
     "status": "completed"
    },
    "tags": []
   },
   "outputs": [],
   "source": [
    "x_train, x_test, y_train, y_test = train_test_split(x, y)"
   ]
  },
  {
   "cell_type": "code",
   "execution_count": 14,
   "id": "09c76c91",
   "metadata": {
    "execution": {
     "iopub.execute_input": "2023-01-20T17:35:24.910961Z",
     "iopub.status.busy": "2023-01-20T17:35:24.910557Z",
     "iopub.status.idle": "2023-01-20T17:37:39.537744Z",
     "shell.execute_reply": "2023-01-20T17:37:39.536581Z"
    },
    "papermill": {
     "duration": 134.641613,
     "end_time": "2023-01-20T17:37:39.544960",
     "exception": false,
     "start_time": "2023-01-20T17:35:24.903347",
     "status": "completed"
    },
    "tags": []
   },
   "outputs": [
    {
     "name": "stdout",
     "output_type": "stream",
     "text": [
      "CPU times: user 2min 14s, sys: 166 ms, total: 2min 14s\n",
      "Wall time: 2min 14s\n"
     ]
    },
    {
     "data": {
      "text/plain": [
       "Pipeline(steps=[('columntransformer',\n",
       "                 ColumnTransformer(transformers=[('one-hot-encoder',\n",
       "                                                  OneHotEncoder(handle_unknown='ignore'),\n",
       "                                                  ['female_judge',\n",
       "                                                   'female_defendant',\n",
       "                                                   'judge_position_x',\n",
       "                                                   'female_adv_def']),\n",
       "                                                 ('standard_scaler',\n",
       "                                                  StandardScaler(),\n",
       "                                                  ['case_time',\n",
       "                                                   'judge_experience'])])),\n",
       "                ('randomforestclassifier', RandomForestClassifier())])"
      ]
     },
     "execution_count": 14,
     "metadata": {},
     "output_type": "execute_result"
    }
   ],
   "source": [
    "%%time\n",
    "model.fit(x_train, y_train)"
   ]
  },
  {
   "cell_type": "markdown",
   "id": "948e3e55",
   "metadata": {
    "papermill": {
     "duration": 0.005815,
     "end_time": "2023-01-20T17:37:39.556790",
     "exception": false,
     "start_time": "2023-01-20T17:37:39.550975",
     "status": "completed"
    },
    "tags": []
   },
   "source": [
    "# Performance Metrics"
   ]
  },
  {
   "cell_type": "markdown",
   "id": "9ba3ace9",
   "metadata": {
    "papermill": {
     "duration": 0.005706,
     "end_time": "2023-01-20T17:37:39.568647",
     "exception": false,
     "start_time": "2023-01-20T17:37:39.562941",
     "status": "completed"
    },
    "tags": []
   },
   "source": [
    "## Score"
   ]
  },
  {
   "cell_type": "code",
   "execution_count": 15,
   "id": "adec96c4",
   "metadata": {
    "execution": {
     "iopub.execute_input": "2023-01-20T17:37:39.582732Z",
     "iopub.status.busy": "2023-01-20T17:37:39.582380Z",
     "iopub.status.idle": "2023-01-20T17:37:40.847477Z",
     "shell.execute_reply": "2023-01-20T17:37:40.846042Z"
    },
    "papermill": {
     "duration": 1.275591,
     "end_time": "2023-01-20T17:37:40.850322",
     "exception": false,
     "start_time": "2023-01-20T17:37:39.574731",
     "status": "completed"
    },
    "tags": []
   },
   "outputs": [
    {
     "data": {
      "text/plain": [
       "82.30781741298927"
      ]
     },
     "execution_count": 15,
     "metadata": {},
     "output_type": "execute_result"
    }
   ],
   "source": [
    "model.score(x_test, y_test) * 100"
   ]
  },
  {
   "cell_type": "markdown",
   "id": "6ae2d5bd",
   "metadata": {
    "papermill": {
     "duration": 0.007879,
     "end_time": "2023-01-20T17:37:40.865196",
     "exception": false,
     "start_time": "2023-01-20T17:37:40.857317",
     "status": "completed"
    },
    "tags": []
   },
   "source": [
    "As we can see. Our model scores a respectable 82% in accuracy. This can further be improved by increasing the number of parameters taken, and using more test data."
   ]
  },
  {
   "cell_type": "markdown",
   "id": "734ff536",
   "metadata": {
    "papermill": {
     "duration": 0.006001,
     "end_time": "2023-01-20T17:37:40.877863",
     "exception": false,
     "start_time": "2023-01-20T17:37:40.871862",
     "status": "completed"
    },
    "tags": []
   },
   "source": [
    "## Confusion Matrix"
   ]
  },
  {
   "cell_type": "code",
   "execution_count": 16,
   "id": "b7ba3786",
   "metadata": {
    "execution": {
     "iopub.execute_input": "2023-01-20T17:37:40.892109Z",
     "iopub.status.busy": "2023-01-20T17:37:40.891423Z",
     "iopub.status.idle": "2023-01-20T17:37:42.149989Z",
     "shell.execute_reply": "2023-01-20T17:37:42.148380Z"
    },
    "papermill": {
     "duration": 1.268259,
     "end_time": "2023-01-20T17:37:42.152432",
     "exception": false,
     "start_time": "2023-01-20T17:37:40.884173",
     "status": "completed"
    },
    "tags": []
   },
   "outputs": [],
   "source": [
    "y_pred = model.predict(x_test)"
   ]
  },
  {
   "cell_type": "code",
   "execution_count": 17,
   "id": "6ce0bea1",
   "metadata": {
    "execution": {
     "iopub.execute_input": "2023-01-20T17:37:42.167012Z",
     "iopub.status.busy": "2023-01-20T17:37:42.166607Z",
     "iopub.status.idle": "2023-01-20T17:37:42.178099Z",
     "shell.execute_reply": "2023-01-20T17:37:42.176634Z"
    },
    "papermill": {
     "duration": 0.02158,
     "end_time": "2023-01-20T17:37:42.180555",
     "exception": false,
     "start_time": "2023-01-20T17:37:42.158975",
     "status": "completed"
    },
    "tags": []
   },
   "outputs": [
    {
     "data": {
      "text/plain": [
       "array([[29369,  1567],\n",
       "       [ 4960,   996]])"
      ]
     },
     "execution_count": 17,
     "metadata": {},
     "output_type": "execute_result"
    }
   ],
   "source": [
    "confusion_matrix(y_test, y_pred)"
   ]
  },
  {
   "cell_type": "markdown",
   "id": "9a7f2895",
   "metadata": {
    "papermill": {
     "duration": 0.005975,
     "end_time": "2023-01-20T17:37:42.193372",
     "exception": false,
     "start_time": "2023-01-20T17:37:42.187397",
     "status": "completed"
    },
    "tags": []
   },
   "source": [
    "## Precision"
   ]
  },
  {
   "cell_type": "code",
   "execution_count": 18,
   "id": "e8e5c0f1",
   "metadata": {
    "execution": {
     "iopub.execute_input": "2023-01-20T17:37:42.207885Z",
     "iopub.status.busy": "2023-01-20T17:37:42.206922Z",
     "iopub.status.idle": "2023-01-20T17:37:42.214181Z",
     "shell.execute_reply": "2023-01-20T17:37:42.212982Z"
    },
    "papermill": {
     "duration": 0.016986,
     "end_time": "2023-01-20T17:37:42.216559",
     "exception": false,
     "start_time": "2023-01-20T17:37:42.199573",
     "status": "completed"
    },
    "tags": []
   },
   "outputs": [],
   "source": [
    "def find_TP(y, y_hat):\n",
    "   # counts the number of true positives (y = 1, y_hat = 1)\n",
    "   return sum((y == 1) & (y_hat == 1))\n",
    "def find_FN(y, y_hat):\n",
    "   # counts the number of false negatives (y = 1, y_hat = 0) Type-II error\n",
    "   return sum((y == 1) & (y_hat == 0))\n",
    "def find_FP(y, y_hat):\n",
    "   # counts the number of false positives (y = 0, y_hat = 1) Type-I error\n",
    "   return sum((y == 0) & (y_hat == 1))\n",
    "def find_TN(y, y_hat):\n",
    "   # counts the number of true negatives (y = 0, y_hat = 0)\n",
    "   return sum((y == 0) & (y_hat == 0))"
   ]
  },
  {
   "cell_type": "code",
   "execution_count": 19,
   "id": "13b6b102",
   "metadata": {
    "execution": {
     "iopub.execute_input": "2023-01-20T17:37:42.232452Z",
     "iopub.status.busy": "2023-01-20T17:37:42.232048Z",
     "iopub.status.idle": "2023-01-20T17:37:42.256099Z",
     "shell.execute_reply": "2023-01-20T17:37:42.254427Z"
    },
    "papermill": {
     "duration": 0.034621,
     "end_time": "2023-01-20T17:37:42.258587",
     "exception": false,
     "start_time": "2023-01-20T17:37:42.223966",
     "status": "completed"
    },
    "tags": []
   },
   "outputs": [
    {
     "name": "stdout",
     "output_type": "stream",
     "text": [
      "TP: 996\n",
      "FN: 4960\n",
      "FP: 1567\n",
      "TN: 29369\n",
      "Precision: 0.388607101053453\n"
     ]
    }
   ],
   "source": [
    "TP = find_TP(y_test, y_pred)\n",
    "FN = find_FN(y_test, y_pred)\n",
    "FP = find_FP(y_test, y_pred)\n",
    "TN = find_TN(y_test, y_pred)\n",
    "print('TP:',TP)\n",
    "print('FN:',FN)\n",
    "print('FP:',FP)\n",
    "print('TN:',TN)\n",
    "precision = TP/(TP+FP)\n",
    "print('Precision:',precision)"
   ]
  }
 ],
 "metadata": {
  "kernelspec": {
   "display_name": "Python 3",
   "language": "python",
   "name": "python3"
  },
  "language_info": {
   "codemirror_mode": {
    "name": "ipython",
    "version": 3
   },
   "file_extension": ".py",
   "mimetype": "text/x-python",
   "name": "python",
   "nbconvert_exporter": "python",
   "pygments_lexer": "ipython3",
   "version": "3.7.12"
  },
  "papermill": {
   "default_parameters": {},
   "duration": 150.10138,
   "end_time": "2023-01-20T17:37:42.987627",
   "environment_variables": {},
   "exception": null,
   "input_path": "__notebook__.ipynb",
   "output_path": "__notebook__.ipynb",
   "parameters": {},
   "start_time": "2023-01-20T17:35:12.886247",
   "version": "2.3.4"
  }
 },
 "nbformat": 4,
 "nbformat_minor": 5
}
