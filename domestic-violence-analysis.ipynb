{
 "cells": [
  {
   "cell_type": "code",
   "execution_count": 1,
   "id": "6cd25946",
   "metadata": {
    "_cell_guid": "b1076dfc-b9ad-4769-8c92-a6c4dae69d19",
    "_uuid": "8f2839f25d086af736a60e9eeb907d3b93b6e0e5",
    "execution": {
     "iopub.execute_input": "2023-01-20T13:28:25.961751Z",
     "iopub.status.busy": "2023-01-20T13:28:25.961027Z",
     "iopub.status.idle": "2023-01-20T13:28:26.026681Z",
     "shell.execute_reply": "2023-01-20T13:28:26.025960Z"
    },
    "papermill": {
     "duration": 0.086302,
     "end_time": "2023-01-20T13:28:26.029320",
     "exception": false,
     "start_time": "2023-01-20T13:28:25.943018",
     "status": "completed"
    },
    "tags": []
   },
   "outputs": [
    {
     "name": "stdout",
     "output_type": "stream",
     "text": [
      "/kaggle/input/indian-law-stats/judges_clean/judges_clean.csv\n",
      "/kaggle/input/indian-law-stats/acts_sections/acts_sections.csv\n",
      "/kaggle/input/indian-law-stats/cases/cases/cases_2015.csv\n",
      "/kaggle/input/indian-law-stats/cases/cases/cases_2012.csv\n",
      "/kaggle/input/indian-law-stats/cases/cases/cases_2018.csv\n",
      "/kaggle/input/indian-law-stats/cases/cases/cases_2013.csv\n",
      "/kaggle/input/indian-law-stats/cases/cases/cases_2017.csv\n",
      "/kaggle/input/indian-law-stats/cases/cases/cases_2010.csv\n",
      "/kaggle/input/indian-law-stats/cases/cases/cases_2014.csv\n",
      "/kaggle/input/indian-law-stats/cases/cases/cases_2016.csv\n",
      "/kaggle/input/indian-law-stats/cases/cases/cases_2011.csv\n",
      "/kaggle/input/indian-law-stats/keys/keys/type_name_key.csv\n",
      "/kaggle/input/indian-law-stats/keys/keys/cases_district_key.csv\n",
      "/kaggle/input/indian-law-stats/keys/keys/act_key.csv\n",
      "/kaggle/input/indian-law-stats/keys/keys/disp_name_key.csv\n",
      "/kaggle/input/indian-law-stats/keys/keys/purpose_name_key.csv\n",
      "/kaggle/input/indian-law-stats/keys/keys/cases_state_key.csv\n",
      "/kaggle/input/indian-law-stats/keys/keys/section_key.csv\n",
      "/kaggle/input/indian-law-stats/keys/keys/cases_court_key.csv\n",
      "/kaggle/input/indian-law-stats/keys/keys/judge_case_merge_key.csv\n",
      "/kaggle/input/precog-dv-analysis-201012/dom_vi_cases_2011.csv\n",
      "/kaggle/input/precog-dv-analysis-201012/dom_vi_cases_2012\n",
      "/kaggle/input/precog-dv-analysis-201012/dom_vi_cases_2011\n",
      "/kaggle/input/precog-dv-analysis-201012/dom_vi_cases_2010\n",
      "/kaggle/input/precog-dv-analysis-201012/dom_vi_cases_10-12_combined.csv\n",
      "/kaggle/input/precog-dv-analysis-201012/dv_cases_list.csv\n",
      "/kaggle/input/precog-dv-analysis-201012/dom_vi_cases_10-12_combined\n",
      "/kaggle/input/precog-dv-analysis-201012/dom_vi_cases_2010.csv\n",
      "/kaggle/input/dv-cases-expanded-set/dom_vi_cases_2016_ex.csv\n",
      "/kaggle/input/dv-cases-expanded-set/dom_vi_cases_2012_ex.csv\n",
      "/kaggle/input/dv-cases-expanded-set/dom_vi_cases_2015_ex.csv\n",
      "/kaggle/input/dv-cases-expanded-set/dom_vi_cases_2014.csv\n",
      "/kaggle/input/dv-cases-expanded-set/dom_vi_cases_2013.csv\n",
      "/kaggle/input/dv-cases-expanded-set/dom_vi_cases_2011_ex.csv\n",
      "/kaggle/input/dv-cases-expanded-set/cases_registered_data .csv\n",
      "/kaggle/input/dv-cases-expanded-set/dom_vi_cases_10-12_combined_expanded.csv\n",
      "/kaggle/input/dv-cases-expanded-set/dom_vi_cases_2013_ex.csv\n",
      "/kaggle/input/dv-cases-expanded-set/dom_vi_cases_2014_ex.csv\n",
      "/kaggle/input/dv-cases-expanded-set/dom_vi_cases_2015.csv\n",
      "/kaggle/input/dv-cases-expanded-set/dom_vi_cases_2010_ex.csv\n"
     ]
    }
   ],
   "source": [
    "# This Python 3 environment comes with many helpful analytics libraries installed\n",
    "# It is defined by the kaggle/python Docker image: https://github.com/kaggle/docker-python\n",
    "# For example, here's several helpful packages to load\n",
    "\n",
    "import numpy as np # linear algebra\n",
    "import pandas as pd # data processing, CSV file I/O (e.g. pd.read_csv)\n",
    "\n",
    "# Input data files are available in the read-only \"../input/\" directory\n",
    "# For example, running this (by clicking run or pressing Shift+Enter) will list all files under the input directory\n",
    "\n",
    "import os\n",
    "for dirname, _, filenames in os.walk('/kaggle/input'):\n",
    "    for filename in filenames:\n",
    "        print(os.path.join(dirname, filename))\n",
    "\n",
    "# You can write up to 20GB to the current directory (/kaggle/working/) that gets preserved as output when you create a version using \"Save & Run All\" \n",
    "# You can also write temporary files to /kaggle/temp/, but they won't be saved outside of the current session"
   ]
  },
  {
   "cell_type": "code",
   "execution_count": 2,
   "id": "66971be5",
   "metadata": {
    "execution": {
     "iopub.execute_input": "2023-01-20T13:28:26.059030Z",
     "iopub.status.busy": "2023-01-20T13:28:26.058424Z",
     "iopub.status.idle": "2023-01-20T13:28:26.225382Z",
     "shell.execute_reply": "2023-01-20T13:28:26.224028Z"
    },
    "papermill": {
     "duration": 0.184083,
     "end_time": "2023-01-20T13:28:26.227934",
     "exception": false,
     "start_time": "2023-01-20T13:28:26.043851",
     "status": "completed"
    },
    "tags": []
   },
   "outputs": [],
   "source": [
    "dv_2010 = pd.read_csv(\"/kaggle/input/dv-cases-expanded-set/dom_vi_cases_2010_ex.csv\")\n",
    "dv_2011 = pd.read_csv(\"/kaggle/input/dv-cases-expanded-set/dom_vi_cases_2011_ex.csv\")\n",
    "dv_2012 = pd.read_csv(\"/kaggle/input/dv-cases-expanded-set/dom_vi_cases_2012_ex.csv\")"
   ]
  },
  {
   "cell_type": "code",
   "execution_count": 3,
   "id": "bc2544f7",
   "metadata": {
    "execution": {
     "iopub.execute_input": "2023-01-20T13:28:26.257931Z",
     "iopub.status.busy": "2023-01-20T13:28:26.257557Z",
     "iopub.status.idle": "2023-01-20T13:28:26.932964Z",
     "shell.execute_reply": "2023-01-20T13:28:26.931979Z"
    },
    "papermill": {
     "duration": 0.693526,
     "end_time": "2023-01-20T13:28:26.935870",
     "exception": false,
     "start_time": "2023-01-20T13:28:26.242344",
     "status": "completed"
    },
    "tags": []
   },
   "outputs": [],
   "source": [
    "dv_2013 = pd.read_csv(\"/kaggle/input/dv-cases-expanded-set/dom_vi_cases_2013_ex.csv\")\n",
    "dv_2014 = pd.read_csv(\"/kaggle/input/dv-cases-expanded-set/dom_vi_cases_2014_ex.csv\")\n",
    "dv_2015 = pd.read_csv(\"/kaggle/input/dv-cases-expanded-set/dom_vi_cases_2015_ex.csv\")"
   ]
  },
  {
   "cell_type": "code",
   "execution_count": 4,
   "id": "7ffe00bb",
   "metadata": {
    "execution": {
     "iopub.execute_input": "2023-01-20T13:28:26.964665Z",
     "iopub.status.busy": "2023-01-20T13:28:26.964083Z",
     "iopub.status.idle": "2023-01-20T13:28:27.290908Z",
     "shell.execute_reply": "2023-01-20T13:28:27.290025Z"
    },
    "papermill": {
     "duration": 0.343667,
     "end_time": "2023-01-20T13:28:27.292941",
     "exception": false,
     "start_time": "2023-01-20T13:28:26.949274",
     "status": "completed"
    },
    "tags": []
   },
   "outputs": [],
   "source": [
    "dv_2016 = pd.read_csv(\"/kaggle/input/dv-cases-expanded-set/dom_vi_cases_2016_ex.csv\")"
   ]
  },
  {
   "cell_type": "code",
   "execution_count": 5,
   "id": "bfd5236b",
   "metadata": {
    "execution": {
     "iopub.execute_input": "2023-01-20T13:28:27.320861Z",
     "iopub.status.busy": "2023-01-20T13:28:27.320326Z",
     "iopub.status.idle": "2023-01-20T13:28:27.333249Z",
     "shell.execute_reply": "2023-01-20T13:28:27.331921Z"
    },
    "papermill": {
     "duration": 0.030075,
     "end_time": "2023-01-20T13:28:27.336082",
     "exception": false,
     "start_time": "2023-01-20T13:28:27.306007",
     "status": "completed"
    },
    "tags": []
   },
   "outputs": [],
   "source": [
    "total_case_counts = pd.read_csv(\"/kaggle/input/dv-cases-expanded-set/cases_registered_data .csv\")"
   ]
  },
  {
   "cell_type": "code",
   "execution_count": 6,
   "id": "acc1876b",
   "metadata": {
    "execution": {
     "iopub.execute_input": "2023-01-20T13:28:27.365500Z",
     "iopub.status.busy": "2023-01-20T13:28:27.365143Z",
     "iopub.status.idle": "2023-01-20T13:28:27.369430Z",
     "shell.execute_reply": "2023-01-20T13:28:27.368633Z"
    },
    "papermill": {
     "duration": 0.021267,
     "end_time": "2023-01-20T13:28:27.371210",
     "exception": false,
     "start_time": "2023-01-20T13:28:27.349943",
     "status": "completed"
    },
    "tags": []
   },
   "outputs": [],
   "source": [
    "years = [2010,2011,2012,2013,2014,2015,2016]"
   ]
  },
  {
   "cell_type": "code",
   "execution_count": 7,
   "id": "b700cfe3",
   "metadata": {
    "execution": {
     "iopub.execute_input": "2023-01-20T13:28:27.400263Z",
     "iopub.status.busy": "2023-01-20T13:28:27.399093Z",
     "iopub.status.idle": "2023-01-20T13:28:27.417120Z",
     "shell.execute_reply": "2023-01-20T13:28:27.416319Z"
    },
    "papermill": {
     "duration": 0.034724,
     "end_time": "2023-01-20T13:28:27.419442",
     "exception": false,
     "start_time": "2023-01-20T13:28:27.384718",
     "status": "completed"
    },
    "tags": []
   },
   "outputs": [],
   "source": [
    "dv_case_counts_dict = {\n",
    "    \"Year\": years,\n",
    "    \"DV_Count\": [dv_2010[\"ddl_case_id\"].count(),dv_2011[\"ddl_case_id\"].count(),\n",
    "                dv_2012[\"ddl_case_id\"].count(),dv_2013[\"ddl_case_id\"].count(),\n",
    "                dv_2014[\"ddl_case_id\"].count(),dv_2015[\"ddl_case_id\"].count(),\n",
    "                dv_2016[\"ddl_case_id\"].count()]\n",
    "}"
   ]
  },
  {
   "cell_type": "code",
   "execution_count": 8,
   "id": "7186ab59",
   "metadata": {
    "execution": {
     "iopub.execute_input": "2023-01-20T13:28:27.450913Z",
     "iopub.status.busy": "2023-01-20T13:28:27.449315Z",
     "iopub.status.idle": "2023-01-20T13:28:27.455334Z",
     "shell.execute_reply": "2023-01-20T13:28:27.454644Z"
    },
    "papermill": {
     "duration": 0.022886,
     "end_time": "2023-01-20T13:28:27.457367",
     "exception": false,
     "start_time": "2023-01-20T13:28:27.434481",
     "status": "completed"
    },
    "tags": []
   },
   "outputs": [],
   "source": [
    "dv_case_counts = pd.DataFrame(dv_case_counts_dict)"
   ]
  },
  {
   "cell_type": "code",
   "execution_count": 9,
   "id": "39b935d8",
   "metadata": {
    "execution": {
     "iopub.execute_input": "2023-01-20T13:28:27.486535Z",
     "iopub.status.busy": "2023-01-20T13:28:27.485396Z",
     "iopub.status.idle": "2023-01-20T13:28:27.680998Z",
     "shell.execute_reply": "2023-01-20T13:28:27.680103Z"
    },
    "papermill": {
     "duration": 0.211847,
     "end_time": "2023-01-20T13:28:27.682894",
     "exception": false,
     "start_time": "2023-01-20T13:28:27.471047",
     "status": "completed"
    },
    "tags": []
   },
   "outputs": [
    {
     "data": {
      "text/plain": [
       "<AxesSubplot:xlabel='Year'>"
      ]
     },
     "execution_count": 9,
     "metadata": {},
     "output_type": "execute_result"
    },
    {
     "data": {
      "image/png": "[encoded data removed]",
      "text/plain": [
       "<Figure size 432x288 with 1 Axes>"
      ]
     },
     "metadata": {
      "needs_background": "light"
     },
     "output_type": "display_data"
    }
   ],
   "source": [
    "dv_case_counts.plot.bar(x = \"Year\")"
   ]
  },
  {
   "cell_type": "code",
   "execution_count": 10,
   "id": "afb470b3",
   "metadata": {
    "execution": {
     "iopub.execute_input": "2023-01-20T13:28:27.713488Z",
     "iopub.status.busy": "2023-01-20T13:28:27.712200Z",
     "iopub.status.idle": "2023-01-20T13:28:27.868882Z",
     "shell.execute_reply": "2023-01-20T13:28:27.867861Z"
    },
    "papermill": {
     "duration": 0.173868,
     "end_time": "2023-01-20T13:28:27.871152",
     "exception": false,
     "start_time": "2023-01-20T13:28:27.697284",
     "status": "completed"
    },
    "tags": []
   },
   "outputs": [
    {
     "data": {
      "text/plain": [
       "<AxesSubplot:xlabel='Year'>"
      ]
     },
     "execution_count": 10,
     "metadata": {},
     "output_type": "execute_result"
    },
    {
     "data": {
      "image/png": "[encoded data removed]",
      "text/plain": [
       "<Figure size 432x288 with 1 Axes>"
      ]
     },
     "metadata": {
      "needs_background": "light"
     },
     "output_type": "display_data"
    }
   ],
   "source": [
    "total_case_counts.plot.line(x=\"Year\", y=\"Count\")"
   ]
  },
  {
   "cell_type": "code",
   "execution_count": 11,
   "id": "dc5bee6e",
   "metadata": {
    "execution": {
     "iopub.execute_input": "2023-01-20T13:28:27.901268Z",
     "iopub.status.busy": "2023-01-20T13:28:27.900264Z",
     "iopub.status.idle": "2023-01-20T13:28:28.913399Z",
     "shell.execute_reply": "2023-01-20T13:28:28.912401Z"
    },
    "papermill": {
     "duration": 1.030687,
     "end_time": "2023-01-20T13:28:28.915887",
     "exception": false,
     "start_time": "2023-01-20T13:28:27.885200",
     "status": "completed"
    },
    "tags": []
   },
   "outputs": [],
   "source": [
    "from sklearn import preprocessing"
   ]
  },
  {
   "cell_type": "code",
   "execution_count": 12,
   "id": "c0e1ca64",
   "metadata": {
    "execution": {
     "iopub.execute_input": "2023-01-20T13:28:28.947845Z",
     "iopub.status.busy": "2023-01-20T13:28:28.945910Z",
     "iopub.status.idle": "2023-01-20T13:28:28.953787Z",
     "shell.execute_reply": "2023-01-20T13:28:28.952891Z"
    },
    "papermill": {
     "duration": 0.025874,
     "end_time": "2023-01-20T13:28:28.956017",
     "exception": false,
     "start_time": "2023-01-20T13:28:28.930143",
     "status": "completed"
    },
    "tags": []
   },
   "outputs": [],
   "source": [
    "dv_values = dv_case_counts[\"DV_Count\"].values"
   ]
  },
  {
   "cell_type": "code",
   "execution_count": 13,
   "id": "923dba9d",
   "metadata": {
    "execution": {
     "iopub.execute_input": "2023-01-20T13:28:28.986513Z",
     "iopub.status.busy": "2023-01-20T13:28:28.986102Z",
     "iopub.status.idle": "2023-01-20T13:28:28.991087Z",
     "shell.execute_reply": "2023-01-20T13:28:28.989720Z"
    },
    "papermill": {
     "duration": 0.02302,
     "end_time": "2023-01-20T13:28:28.993339",
     "exception": false,
     "start_time": "2023-01-20T13:28:28.970319",
     "status": "completed"
    },
    "tags": []
   },
   "outputs": [],
   "source": [
    "total_values = total_case_counts[\"Count\"].values"
   ]
  },
  {
   "cell_type": "code",
   "execution_count": 14,
   "id": "823a0c45",
   "metadata": {
    "execution": {
     "iopub.execute_input": "2023-01-20T13:28:29.024259Z",
     "iopub.status.busy": "2023-01-20T13:28:29.023482Z",
     "iopub.status.idle": "2023-01-20T13:28:29.029736Z",
     "shell.execute_reply": "2023-01-20T13:28:29.029025Z"
    },
    "papermill": {
     "duration": 0.024386,
     "end_time": "2023-01-20T13:28:29.032128",
     "exception": false,
     "start_time": "2023-01-20T13:28:29.007742",
     "status": "completed"
    },
    "tags": []
   },
   "outputs": [
    {
     "data": {
      "text/plain": [
       "[0.0799518467054724,\n",
       " 0.10244491234106017,\n",
       " 0.16605780886494667,\n",
       " 0.24098627550867124,\n",
       " 0.3647031037737295,\n",
       " 0.40801361146313686,\n",
       " 0.40963904254550515]"
      ]
     },
     "execution_count": 14,
     "metadata": {},
     "output_type": "execute_result"
    }
   ],
   "source": [
    "percent_dv_values = []\n",
    "for i in range(len(dv_values)):\n",
    "    percent_dv_values.append(dv_values[i]/total_values[i] * 100)\n",
    "\n",
    "percent_dv_values"
   ]
  },
  {
   "cell_type": "code",
   "execution_count": 15,
   "id": "e5b19d11",
   "metadata": {
    "execution": {
     "iopub.execute_input": "2023-01-20T13:28:29.063525Z",
     "iopub.status.busy": "2023-01-20T13:28:29.062314Z",
     "iopub.status.idle": "2023-01-20T13:28:29.066627Z",
     "shell.execute_reply": "2023-01-20T13:28:29.066004Z"
    },
    "papermill": {
     "duration": 0.022167,
     "end_time": "2023-01-20T13:28:29.068945",
     "exception": false,
     "start_time": "2023-01-20T13:28:29.046778",
     "status": "completed"
    },
    "tags": []
   },
   "outputs": [],
   "source": [
    "import numpy as np"
   ]
  },
  {
   "cell_type": "code",
   "execution_count": 16,
   "id": "a958290f",
   "metadata": {
    "execution": {
     "iopub.execute_input": "2023-01-20T13:28:29.099419Z",
     "iopub.status.busy": "2023-01-20T13:28:29.098721Z",
     "iopub.status.idle": "2023-01-20T13:28:29.106225Z",
     "shell.execute_reply": "2023-01-20T13:28:29.105056Z"
    },
    "papermill": {
     "duration": 0.024884,
     "end_time": "2023-01-20T13:28:29.108139",
     "exception": false,
     "start_time": "2023-01-20T13:28:29.083255",
     "status": "completed"
    },
    "tags": []
   },
   "outputs": [
    {
     "data": {
      "text/plain": [
       "array([[0.        ],\n",
       "       [0.06822548],\n",
       "       [0.26117472],\n",
       "       [0.48844611],\n",
       "       [0.86370129],\n",
       "       [0.99506978],\n",
       "       [1.        ]])"
      ]
     },
     "execution_count": 16,
     "metadata": {},
     "output_type": "execute_result"
    }
   ],
   "source": [
    "min_max_scaler = preprocessing.MinMaxScaler()\n",
    "dv_values_scaled = min_max_scaler.fit_transform(np.array(percent_dv_values).reshape(-1,1))\n",
    "dv_values_scaled"
   ]
  },
  {
   "cell_type": "markdown",
   "id": "716c2025",
   "metadata": {
    "papermill": {
     "duration": 0.013977,
     "end_time": "2023-01-20T13:28:29.136547",
     "exception": false,
     "start_time": "2023-01-20T13:28:29.122570",
     "status": "completed"
    },
    "tags": []
   },
   "source": [
    "# Total Cases VS DV Cases Registered: By Number"
   ]
  },
  {
   "cell_type": "code",
   "execution_count": 17,
   "id": "7ba6990e",
   "metadata": {
    "execution": {
     "iopub.execute_input": "2023-01-20T13:28:29.167359Z",
     "iopub.status.busy": "2023-01-20T13:28:29.166765Z",
     "iopub.status.idle": "2023-01-20T13:28:29.171361Z",
     "shell.execute_reply": "2023-01-20T13:28:29.169992Z"
    },
    "papermill": {
     "duration": 0.022928,
     "end_time": "2023-01-20T13:28:29.173680",
     "exception": false,
     "start_time": "2023-01-20T13:28:29.150752",
     "status": "completed"
    },
    "tags": []
   },
   "outputs": [],
   "source": [
    "import matplotlib.pyplot as plt"
   ]
  },
  {
   "cell_type": "code",
   "execution_count": 18,
   "id": "40a006bd",
   "metadata": {
    "execution": {
     "iopub.execute_input": "2023-01-20T13:28:29.204207Z",
     "iopub.status.busy": "2023-01-20T13:28:29.203787Z",
     "iopub.status.idle": "2023-01-20T13:28:29.522555Z",
     "shell.execute_reply": "2023-01-20T13:28:29.521214Z"
    },
    "papermill": {
     "duration": 0.337015,
     "end_time": "2023-01-20T13:28:29.525140",
     "exception": false,
     "start_time": "2023-01-20T13:28:29.188125",
     "status": "completed"
    },
    "tags": []
   },
   "outputs": [
    {
     "data": {
      "text/plain": [
       "<AxesSubplot:>"
      ]
     },
     "execution_count": 18,
     "metadata": {},
     "output_type": "execute_result"
    },
    {
     "data": {
      "image/png": "[encoded data removed]",
      "text/plain": [
       "<Figure size 2160x720 with 2 Axes>"
      ]
     },
     "metadata": {
      "needs_background": "light"
     },
     "output_type": "display_data"
    }
   ],
   "source": [
    "fig, ax = plt.subplots(figsize=(30,10)) \n",
    "\n",
    "comb_data = {\n",
    "    \"Year\": years,\n",
    "    \"Total Cases Registered\": total_values,\n",
    "    \"DV Cases Registered\": dv_values\n",
    "}\n",
    "\n",
    "comb_df = pd.DataFrame(comb_data)\n",
    "comb_df\n",
    "\n",
    "comb_df.plot(x= \"Year\", y= \"Total Cases Registered\", ax=ax)\n",
    "\n",
    "comb_df.plot(x= \"Year\", y= \"DV Cases Registered\", ax=ax, secondary_y=True)"
   ]
  },
  {
   "cell_type": "markdown",
   "id": "1e492f23",
   "metadata": {
    "papermill": {
     "duration": 0.015561,
     "end_time": "2023-01-20T13:28:29.556239",
     "exception": false,
     "start_time": "2023-01-20T13:28:29.540678",
     "status": "completed"
    },
    "tags": []
   },
   "source": [
    "# Total Cases VS DV Cases as % of Total Cases"
   ]
  },
  {
   "cell_type": "code",
   "execution_count": 19,
   "id": "7f8c6c93",
   "metadata": {
    "execution": {
     "iopub.execute_input": "2023-01-20T13:28:29.588879Z",
     "iopub.status.busy": "2023-01-20T13:28:29.587919Z",
     "iopub.status.idle": "2023-01-20T13:28:29.865573Z",
     "shell.execute_reply": "2023-01-20T13:28:29.864746Z"
    },
    "papermill": {
     "duration": 0.295947,
     "end_time": "2023-01-20T13:28:29.867425",
     "exception": false,
     "start_time": "2023-01-20T13:28:29.571478",
     "status": "completed"
    },
    "tags": []
   },
   "outputs": [
    {
     "data": {
      "text/plain": [
       "<AxesSubplot:>"
      ]
     },
     "execution_count": 19,
     "metadata": {},
     "output_type": "execute_result"
    },
    {
     "data": {
      "image/png": "[encoded data removed]",
      "text/plain": [
       "<Figure size 1440x720 with 2 Axes>"
      ]
     },
     "metadata": {
      "needs_background": "light"
     },
     "output_type": "display_data"
    }
   ],
   "source": [
    "fig, ax = plt.subplots(figsize=(20,10)) \n",
    "\n",
    "total_values_scaled = min_max_scaler.fit_transform(np.array(total_values).reshape(-1,1))\n",
    "total_values_scaled\n",
    "\n",
    "def util(x):\n",
    "    return x[0]\n",
    "\n",
    "total_values_scaled = list(map(util,total_values_scaled))\n",
    "total_values_scaled\n",
    "\n",
    "comb_data = {\n",
    "    \"Year\": years,\n",
    "    \"Total Cases Registered (Scaled)\": total_values_scaled,\n",
    "    \"DV Cases Registered as %age of Total Cases\": percent_dv_values\n",
    "}\n",
    "comb_df = pd.DataFrame(comb_data)\n",
    "\n",
    "comb_df.plot(x= \"Year\", y= \"Total Cases Registered (Scaled)\", ax=ax)\n",
    "\n",
    "comb_df.plot(x= \"Year\", y= \"DV Cases Registered as %age of Total Cases\", ax=ax, secondary_y = True)"
   ]
  },
  {
   "cell_type": "markdown",
   "id": "1b074580",
   "metadata": {
    "papermill": {
     "duration": 0.015,
     "end_time": "2023-01-20T13:28:29.897684",
     "exception": false,
     "start_time": "2023-01-20T13:28:29.882684",
     "status": "completed"
    },
    "tags": []
   },
   "source": [
    "# Total Vs DV Cases: Percent Increase from Prev Year"
   ]
  },
  {
   "cell_type": "code",
   "execution_count": 20,
   "id": "42003d8d",
   "metadata": {
    "execution": {
     "iopub.execute_input": "2023-01-20T13:28:29.931657Z",
     "iopub.status.busy": "2023-01-20T13:28:29.930464Z",
     "iopub.status.idle": "2023-01-20T13:28:29.938606Z",
     "shell.execute_reply": "2023-01-20T13:28:29.937913Z"
    },
    "papermill": {
     "duration": 0.027267,
     "end_time": "2023-01-20T13:28:29.940367",
     "exception": false,
     "start_time": "2023-01-20T13:28:29.913100",
     "status": "completed"
    },
    "tags": []
   },
   "outputs": [
    {
     "data": {
      "text/plain": [
       "[0,\n",
       " 55.886649138182875,\n",
       " 99.19415292353823,\n",
       " 71.30492050051745,\n",
       " 77.75702987697716,\n",
       " 32.06142248038065,\n",
       " 8.768687270430247]"
      ]
     },
     "execution_count": 20,
     "metadata": {},
     "output_type": "execute_result"
    }
   ],
   "source": [
    "dv_values_percent_inc = []\n",
    "for i in range(len(dv_values)-1,0,-1):\n",
    "    dv_values_percent_inc.append(((dv_values[i]-dv_values[i-1])/dv_values[i-1]) *100)\n",
    "dv_values_percent_inc.append(0)\n",
    "dv_values_percent_inc.reverse()\n",
    "dv_values_percent_inc"
   ]
  },
  {
   "cell_type": "code",
   "execution_count": 21,
   "id": "9a5e1f8d",
   "metadata": {
    "execution": {
     "iopub.execute_input": "2023-01-20T13:28:29.974108Z",
     "iopub.status.busy": "2023-01-20T13:28:29.973659Z",
     "iopub.status.idle": "2023-01-20T13:28:29.982067Z",
     "shell.execute_reply": "2023-01-20T13:28:29.980916Z"
    },
    "papermill": {
     "duration": 0.028653,
     "end_time": "2023-01-20T13:28:29.984829",
     "exception": false,
     "start_time": "2023-01-20T13:28:29.956176",
     "status": "completed"
    },
    "tags": []
   },
   "outputs": [
    {
     "data": {
      "text/plain": [
       "[0,\n",
       " 21.65977978323076,\n",
       " 22.88749125733659,\n",
       " 18.04207391501946,\n",
       " 17.457197737788984,\n",
       " 18.043146880946736,\n",
       " 8.337097537236982]"
      ]
     },
     "execution_count": 21,
     "metadata": {},
     "output_type": "execute_result"
    }
   ],
   "source": [
    "total_values_percent_inc = []\n",
    "for i in range(len(dv_values)-1,0,-1):\n",
    "    total_values_percent_inc.append(((total_values[i]-total_values[i-1])/total_values[i-1]) *100)\n",
    "total_values_percent_inc.append(0)\n",
    "total_values_percent_inc.reverse()\n",
    "total_values_percent_inc"
   ]
  },
  {
   "cell_type": "code",
   "execution_count": 22,
   "id": "346c26f5",
   "metadata": {
    "execution": {
     "iopub.execute_input": "2023-01-20T13:28:30.018946Z",
     "iopub.status.busy": "2023-01-20T13:28:30.017990Z",
     "iopub.status.idle": "2023-01-20T13:28:30.228621Z",
     "shell.execute_reply": "2023-01-20T13:28:30.226941Z"
    },
    "papermill": {
     "duration": 0.230478,
     "end_time": "2023-01-20T13:28:30.231341",
     "exception": false,
     "start_time": "2023-01-20T13:28:30.000863",
     "status": "completed"
    },
    "tags": []
   },
   "outputs": [
    {
     "data": {
      "text/plain": [
       "<AxesSubplot:xlabel='Year'>"
      ]
     },
     "execution_count": 22,
     "metadata": {},
     "output_type": "execute_result"
    },
    {
     "data": {
      "image/png": "[encoded data removed]",
      "text/plain": [
       "<Figure size 1440x720 with 1 Axes>"
      ]
     },
     "metadata": {
      "needs_background": "light"
     },
     "output_type": "display_data"
    }
   ],
   "source": [
    "fig, ax = plt.subplots(figsize=(20,10)) \n",
    "\n",
    "comb_data = {\n",
    "    \"Year\": years[1:],\n",
    "    \"% Increase in Total Cases Registered\": total_values_percent_inc[1:],\n",
    "    \"% Increase in DV Cases Registered\": dv_values_percent_inc[1:]\n",
    "}\n",
    "comb_df = pd.DataFrame(comb_data)\n",
    "\n",
    "comb_df.plot(x= \"Year\", y= \"% Increase in Total Cases Registered\", ax=ax)\n",
    "\n",
    "comb_df.plot(x= \"Year\", y= \"% Increase in DV Cases Registered\", ax=ax)"
   ]
  },
  {
   "cell_type": "markdown",
   "id": "e02d2d16",
   "metadata": {
    "papermill": {
     "duration": 0.016731,
     "end_time": "2023-01-20T13:28:30.264843",
     "exception": false,
     "start_time": "2023-01-20T13:28:30.248112",
     "status": "completed"
    },
    "tags": []
   },
   "source": [
    "^ DV against women shows the same trend (show)"
   ]
  },
  {
   "cell_type": "markdown",
   "id": "96ce5bf6",
   "metadata": {
    "papermill": {
     "duration": 0.015749,
     "end_time": "2023-01-20T13:28:30.296695",
     "exception": false,
     "start_time": "2023-01-20T13:28:30.280946",
     "status": "completed"
    },
    "tags": []
   },
   "source": [
    "# Disposition Analysis"
   ]
  },
  {
   "cell_type": "markdown",
   "id": "85318977",
   "metadata": {
    "papermill": {
     "duration": 0.015901,
     "end_time": "2023-01-20T13:28:30.328375",
     "exception": false,
     "start_time": "2023-01-20T13:28:30.312474",
     "status": "completed"
    },
    "tags": []
   },
   "source": [
    "We now turn our attention to convictions in cases under the PoWDV Act.\n",
    "We will analyse whether the nirbhaya incident had a significant impact on conviction of both men and women"
   ]
  },
  {
   "cell_type": "code",
   "execution_count": 23,
   "id": "9fcab60e",
   "metadata": {
    "execution": {
     "iopub.execute_input": "2023-01-20T13:28:30.363339Z",
     "iopub.status.busy": "2023-01-20T13:28:30.362407Z",
     "iopub.status.idle": "2023-01-20T13:28:30.367272Z",
     "shell.execute_reply": "2023-01-20T13:28:30.366284Z"
    },
    "papermill": {
     "duration": 0.02484,
     "end_time": "2023-01-20T13:28:30.369366",
     "exception": false,
     "start_time": "2023-01-20T13:28:30.344526",
     "status": "completed"
    },
    "tags": []
   },
   "outputs": [],
   "source": [
    "dfs_temp = [dv_2010,dv_2011,dv_2012,dv_2013,dv_2014,dv_2015,dv_2016]"
   ]
  },
  {
   "cell_type": "code",
   "execution_count": 24,
   "id": "a324017b",
   "metadata": {
    "execution": {
     "iopub.execute_input": "2023-01-20T13:28:30.404454Z",
     "iopub.status.busy": "2023-01-20T13:28:30.403729Z",
     "iopub.status.idle": "2023-01-20T13:28:30.424446Z",
     "shell.execute_reply": "2023-01-20T13:28:30.423158Z"
    },
    "papermill": {
     "duration": 0.040462,
     "end_time": "2023-01-20T13:28:30.426534",
     "exception": false,
     "start_time": "2023-01-20T13:28:30.386072",
     "status": "completed"
    },
    "tags": []
   },
   "outputs": [
    {
     "data": {
      "text/html": [
       "<div>\n",
       "<style scoped>\n",
       "    .dataframe tbody tr th:only-of-type {\n",
       "        vertical-align: middle;\n",
       "    }\n",
       "\n",
       "    .dataframe tbody tr th {\n",
       "        vertical-align: top;\n",
       "    }\n",
       "\n",
       "    .dataframe thead th {\n",
       "        text-align: right;\n",
       "    }\n",
       "</style>\n",
       "<table border=\"1\" class=\"dataframe\">\n",
       "  <thead>\n",
       "    <tr style=\"text-align: right;\">\n",
       "      <th></th>\n",
       "      <th>year</th>\n",
       "      <th>disp_name</th>\n",
       "      <th>disp_name_s</th>\n",
       "      <th>count</th>\n",
       "    </tr>\n",
       "  </thead>\n",
       "  <tbody>\n",
       "    <tr>\n",
       "      <th>18</th>\n",
       "      <td>2010</td>\n",
       "      <td>19</td>\n",
       "      <td>convicted</td>\n",
       "      <td>145668</td>\n",
       "    </tr>\n",
       "    <tr>\n",
       "      <th>69</th>\n",
       "      <td>2011</td>\n",
       "      <td>19</td>\n",
       "      <td>convicted</td>\n",
       "      <td>171397</td>\n",
       "    </tr>\n",
       "    <tr>\n",
       "      <th>120</th>\n",
       "      <td>2012</td>\n",
       "      <td>19</td>\n",
       "      <td>convicted</td>\n",
       "      <td>220785</td>\n",
       "    </tr>\n",
       "    <tr>\n",
       "      <th>171</th>\n",
       "      <td>2013</td>\n",
       "      <td>19</td>\n",
       "      <td>convicted</td>\n",
       "      <td>327840</td>\n",
       "    </tr>\n",
       "    <tr>\n",
       "      <th>222</th>\n",
       "      <td>2014</td>\n",
       "      <td>19</td>\n",
       "      <td>convicted</td>\n",
       "      <td>397669</td>\n",
       "    </tr>\n",
       "    <tr>\n",
       "      <th>273</th>\n",
       "      <td>2015</td>\n",
       "      <td>19</td>\n",
       "      <td>convicted</td>\n",
       "      <td>455331</td>\n",
       "    </tr>\n",
       "    <tr>\n",
       "      <th>325</th>\n",
       "      <td>2016</td>\n",
       "      <td>20</td>\n",
       "      <td>convicted</td>\n",
       "      <td>432004</td>\n",
       "    </tr>\n",
       "    <tr>\n",
       "      <th>377</th>\n",
       "      <td>2017</td>\n",
       "      <td>20</td>\n",
       "      <td>convicted</td>\n",
       "      <td>474365</td>\n",
       "    </tr>\n",
       "    <tr>\n",
       "      <th>429</th>\n",
       "      <td>2018</td>\n",
       "      <td>20</td>\n",
       "      <td>convicted</td>\n",
       "      <td>416122</td>\n",
       "    </tr>\n",
       "  </tbody>\n",
       "</table>\n",
       "</div>"
      ],
      "text/plain": [
       "     year  disp_name disp_name_s   count\n",
       "18   2010         19   convicted  145668\n",
       "69   2011         19   convicted  171397\n",
       "120  2012         19   convicted  220785\n",
       "171  2013         19   convicted  327840\n",
       "222  2014         19   convicted  397669\n",
       "273  2015         19   convicted  455331\n",
       "325  2016         20   convicted  432004\n",
       "377  2017         20   convicted  474365\n",
       "429  2018         20   convicted  416122"
      ]
     },
     "execution_count": 24,
     "metadata": {},
     "output_type": "execute_result"
    }
   ],
   "source": [
    "disp_code_keys_df = pd.read_csv(\"/kaggle/input/indian-law-stats/keys/keys/disp_name_key.csv\")\n",
    "disp_convicted_keys_df = disp_code_keys_df[disp_code_keys_df[\"disp_name_s\"] == \"convicted\"]\n",
    "disp_convicted_keys_df"
   ]
  },
  {
   "cell_type": "code",
   "execution_count": 25,
   "id": "31254618",
   "metadata": {
    "execution": {
     "iopub.execute_input": "2023-01-20T13:28:30.461572Z",
     "iopub.status.busy": "2023-01-20T13:28:30.461216Z",
     "iopub.status.idle": "2023-01-20T13:28:30.466517Z",
     "shell.execute_reply": "2023-01-20T13:28:30.465234Z"
    },
    "papermill": {
     "duration": 0.025199,
     "end_time": "2023-01-20T13:28:30.468367",
     "exception": false,
     "start_time": "2023-01-20T13:28:30.443168",
     "status": "completed"
    },
    "tags": []
   },
   "outputs": [],
   "source": [
    "disp_code_keys = disp_convicted_keys_df[\"disp_name\"].values"
   ]
  },
  {
   "cell_type": "code",
   "execution_count": 26,
   "id": "7972a7b1",
   "metadata": {
    "execution": {
     "iopub.execute_input": "2023-01-20T13:28:30.504161Z",
     "iopub.status.busy": "2023-01-20T13:28:30.503630Z",
     "iopub.status.idle": "2023-01-20T13:28:30.508507Z",
     "shell.execute_reply": "2023-01-20T13:28:30.507917Z"
    },
    "papermill": {
     "duration": 0.025504,
     "end_time": "2023-01-20T13:28:30.510616",
     "exception": false,
     "start_time": "2023-01-20T13:28:30.485112",
     "status": "completed"
    },
    "tags": []
   },
   "outputs": [
    {
     "data": {
      "text/plain": [
       "[19, 19, 19, 19, 19, 19, 20, 20, 20]"
      ]
     },
     "execution_count": 26,
     "metadata": {},
     "output_type": "execute_result"
    }
   ],
   "source": [
    "conviction_disp_codes = disp_code_keys.tolist()\n",
    "conviction_disp_codes"
   ]
  },
  {
   "cell_type": "markdown",
   "id": "70b1b1f1",
   "metadata": {
    "papermill": {
     "duration": 0.016392,
     "end_time": "2023-01-20T13:28:30.544325",
     "exception": false,
     "start_time": "2023-01-20T13:28:30.527933",
     "status": "completed"
    },
    "tags": []
   },
   "source": [
    "## Part One: Looking at Conviction Rates\n"
   ]
  },
  {
   "cell_type": "code",
   "execution_count": 27,
   "id": "dee71b80",
   "metadata": {
    "execution": {
     "iopub.execute_input": "2023-01-20T13:28:30.579696Z",
     "iopub.status.busy": "2023-01-20T13:28:30.579250Z",
     "iopub.status.idle": "2023-01-20T13:28:30.591493Z",
     "shell.execute_reply": "2023-01-20T13:28:30.590110Z"
    },
    "papermill": {
     "duration": 0.033584,
     "end_time": "2023-01-20T13:28:30.594316",
     "exception": false,
     "start_time": "2023-01-20T13:28:30.560732",
     "status": "completed"
    },
    "tags": []
   },
   "outputs": [],
   "source": [
    "dfs = []\n",
    "i = 0\n",
    "for df in dfs_temp:\n",
    "    df_to_add = df[(df[\"disp_name\"] == conviction_disp_codes[i])]\n",
    "    i+=1\n",
    "    dfs.append(df_to_add)"
   ]
  },
  {
   "cell_type": "code",
   "execution_count": 28,
   "id": "a67d6cea",
   "metadata": {
    "execution": {
     "iopub.execute_input": "2023-01-20T13:28:30.629288Z",
     "iopub.status.busy": "2023-01-20T13:28:30.628928Z",
     "iopub.status.idle": "2023-01-20T13:28:30.638736Z",
     "shell.execute_reply": "2023-01-20T13:28:30.637467Z"
    },
    "papermill": {
     "duration": 0.029992,
     "end_time": "2023-01-20T13:28:30.640905",
     "exception": false,
     "start_time": "2023-01-20T13:28:30.610913",
     "status": "completed"
    },
    "tags": []
   },
   "outputs": [
    {
     "data": {
      "text/plain": [
       "[8, 80, 31, 14, 20, 28, 19]"
      ]
     },
     "execution_count": 28,
     "metadata": {},
     "output_type": "execute_result"
    }
   ],
   "source": [
    "conviction_counts = [df[\"ddl_case_id\"].count() for df in dfs]\n",
    "conviction_counts"
   ]
  },
  {
   "cell_type": "code",
   "execution_count": 29,
   "id": "9674abf2",
   "metadata": {
    "execution": {
     "iopub.execute_input": "2023-01-20T13:28:30.677038Z",
     "iopub.status.busy": "2023-01-20T13:28:30.676695Z",
     "iopub.status.idle": "2023-01-20T13:28:30.690313Z",
     "shell.execute_reply": "2023-01-20T13:28:30.689363Z"
    },
    "papermill": {
     "duration": 0.034564,
     "end_time": "2023-01-20T13:28:30.692629",
     "exception": false,
     "start_time": "2023-01-20T13:28:30.658065",
     "status": "completed"
    },
    "tags": []
   },
   "outputs": [
    {
     "data": {
      "text/plain": [
       "[3423, 5336, 10629, 18208, 32366, 42743, 46491]"
      ]
     },
     "execution_count": 29,
     "metadata": {},
     "output_type": "execute_result"
    }
   ],
   "source": [
    "total_counts = [df[\"ddl_case_id\"].count() for df in dfs_temp]\n",
    "total_counts"
   ]
  },
  {
   "cell_type": "code",
   "execution_count": 30,
   "id": "c1e93a8c",
   "metadata": {
    "execution": {
     "iopub.execute_input": "2023-01-20T13:28:30.729929Z",
     "iopub.status.busy": "2023-01-20T13:28:30.729296Z",
     "iopub.status.idle": "2023-01-20T13:28:30.733405Z",
     "shell.execute_reply": "2023-01-20T13:28:30.732808Z"
    },
    "papermill": {
     "duration": 0.024352,
     "end_time": "2023-01-20T13:28:30.735058",
     "exception": false,
     "start_time": "2023-01-20T13:28:30.710706",
     "status": "completed"
    },
    "tags": []
   },
   "outputs": [],
   "source": [
    "comb_data = {\n",
    "    \"Year\": years,\n",
    "    \"DV Cases Registered\": total_counts,\n",
    "    \"Num of Convictions\": conviction_counts\n",
    "}"
   ]
  },
  {
   "cell_type": "code",
   "execution_count": 31,
   "id": "31318b91",
   "metadata": {
    "execution": {
     "iopub.execute_input": "2023-01-20T13:28:30.770170Z",
     "iopub.status.busy": "2023-01-20T13:28:30.769610Z",
     "iopub.status.idle": "2023-01-20T13:28:30.774649Z",
     "shell.execute_reply": "2023-01-20T13:28:30.773246Z"
    },
    "papermill": {
     "duration": 0.025609,
     "end_time": "2023-01-20T13:28:30.777287",
     "exception": false,
     "start_time": "2023-01-20T13:28:30.751678",
     "status": "completed"
    },
    "tags": []
   },
   "outputs": [],
   "source": [
    "comb_df = pd.DataFrame(comb_data)"
   ]
  },
  {
   "cell_type": "code",
   "execution_count": 32,
   "id": "3e99cac5",
   "metadata": {
    "execution": {
     "iopub.execute_input": "2023-01-20T13:28:30.813185Z",
     "iopub.status.busy": "2023-01-20T13:28:30.812582Z",
     "iopub.status.idle": "2023-01-20T13:28:31.089273Z",
     "shell.execute_reply": "2023-01-20T13:28:31.087737Z"
    },
    "papermill": {
     "duration": 0.297164,
     "end_time": "2023-01-20T13:28:31.091527",
     "exception": false,
     "start_time": "2023-01-20T13:28:30.794363",
     "status": "completed"
    },
    "tags": []
   },
   "outputs": [
    {
     "data": {
      "text/plain": [
       "<AxesSubplot:>"
      ]
     },
     "execution_count": 32,
     "metadata": {},
     "output_type": "execute_result"
    },
    {
     "data": {
      "image/png": "[encoded data removed]",
      "text/plain": [
       "<Figure size 1440x720 with 2 Axes>"
      ]
     },
     "metadata": {
      "needs_background": "light"
     },
     "output_type": "display_data"
    }
   ],
   "source": [
    "fig, ax = plt.subplots(figsize=(20,10)) \n",
    "\n",
    "comb_df.plot(x=\"Year\", y=\"Num of Convictions\", ax=ax)\n",
    "\n",
    "comb_df.plot(x=\"Year\", y=\"DV Cases Registered\", ax=ax,secondary_y = True)"
   ]
  },
  {
   "cell_type": "markdown",
   "id": "2013ecb6",
   "metadata": {
    "papermill": {
     "duration": 0.018559,
     "end_time": "2023-01-20T13:28:31.127933",
     "exception": false,
     "start_time": "2023-01-20T13:28:31.109374",
     "status": "completed"
    },
    "tags": []
   },
   "source": [
    "## Conviction Rates down, so what exactly happens in the court?"
   ]
  },
  {
   "cell_type": "code",
   "execution_count": 33,
   "id": "d5517e85",
   "metadata": {
    "execution": {
     "iopub.execute_input": "2023-01-20T13:28:31.167036Z",
     "iopub.status.busy": "2023-01-20T13:28:31.165740Z",
     "iopub.status.idle": "2023-01-20T13:28:31.178325Z",
     "shell.execute_reply": "2023-01-20T13:28:31.176905Z"
    },
    "papermill": {
     "duration": 0.034343,
     "end_time": "2023-01-20T13:28:31.180923",
     "exception": false,
     "start_time": "2023-01-20T13:28:31.146580",
     "status": "completed"
    },
    "tags": []
   },
   "outputs": [],
   "source": [
    "disp_codes_grouped = []\n",
    "for i in range(7):\n",
    "    temp = disp_code_keys_df[disp_code_keys_df.year == int(f\"201{i}\")][[\"disp_name\",\"disp_name_s\"]]\n",
    "    disp_codes_grouped.append(temp)"
   ]
  },
  {
   "cell_type": "code",
   "execution_count": 34,
   "id": "c3aecd77",
   "metadata": {
    "execution": {
     "iopub.execute_input": "2023-01-20T13:28:31.217268Z",
     "iopub.status.busy": "2023-01-20T13:28:31.216896Z",
     "iopub.status.idle": "2023-01-20T13:28:31.229491Z",
     "shell.execute_reply": "2023-01-20T13:28:31.228457Z"
    },
    "papermill": {
     "duration": 0.033934,
     "end_time": "2023-01-20T13:28:31.232252",
     "exception": false,
     "start_time": "2023-01-20T13:28:31.198318",
     "status": "completed"
    },
    "tags": []
   },
   "outputs": [
    {
     "data": {
      "text/html": [
       "<div>\n",
       "<style scoped>\n",
       "    .dataframe tbody tr th:only-of-type {\n",
       "        vertical-align: middle;\n",
       "    }\n",
       "\n",
       "    .dataframe tbody tr th {\n",
       "        vertical-align: top;\n",
       "    }\n",
       "\n",
       "    .dataframe thead th {\n",
       "        text-align: right;\n",
       "    }\n",
       "</style>\n",
       "<table border=\"1\" class=\"dataframe\">\n",
       "  <thead>\n",
       "    <tr style=\"text-align: right;\">\n",
       "      <th></th>\n",
       "      <th>disp_name</th>\n",
       "      <th>disp_name_s</th>\n",
       "    </tr>\n",
       "  </thead>\n",
       "  <tbody>\n",
       "    <tr>\n",
       "      <th>306</th>\n",
       "      <td>1</td>\n",
       "      <td>258 crpc</td>\n",
       "    </tr>\n",
       "    <tr>\n",
       "      <th>307</th>\n",
       "      <td>2</td>\n",
       "      <td>abated</td>\n",
       "    </tr>\n",
       "    <tr>\n",
       "      <th>308</th>\n",
       "      <td>3</td>\n",
       "      <td>absconded</td>\n",
       "    </tr>\n",
       "    <tr>\n",
       "      <th>309</th>\n",
       "      <td>4</td>\n",
       "      <td>acquitted</td>\n",
       "    </tr>\n",
       "    <tr>\n",
       "      <th>310</th>\n",
       "      <td>5</td>\n",
       "      <td>allowed</td>\n",
       "    </tr>\n",
       "    <tr>\n",
       "      <th>311</th>\n",
       "      <td>6</td>\n",
       "      <td>appeal accepted</td>\n",
       "    </tr>\n",
       "    <tr>\n",
       "      <th>312</th>\n",
       "      <td>7</td>\n",
       "      <td>award</td>\n",
       "    </tr>\n",
       "    <tr>\n",
       "      <th>313</th>\n",
       "      <td>8</td>\n",
       "      <td>bail granted</td>\n",
       "    </tr>\n",
       "    <tr>\n",
       "      <th>314</th>\n",
       "      <td>9</td>\n",
       "      <td>bail order</td>\n",
       "    </tr>\n",
       "    <tr>\n",
       "      <th>315</th>\n",
       "      <td>10</td>\n",
       "      <td>bail refused</td>\n",
       "    </tr>\n",
       "    <tr>\n",
       "      <th>316</th>\n",
       "      <td>11</td>\n",
       "      <td>bail rejected</td>\n",
       "    </tr>\n",
       "    <tr>\n",
       "      <th>317</th>\n",
       "      <td>12</td>\n",
       "      <td>cancelled</td>\n",
       "    </tr>\n",
       "    <tr>\n",
       "      <th>318</th>\n",
       "      <td>13</td>\n",
       "      <td>closed</td>\n",
       "    </tr>\n",
       "    <tr>\n",
       "      <th>319</th>\n",
       "      <td>14</td>\n",
       "      <td>committed</td>\n",
       "    </tr>\n",
       "    <tr>\n",
       "      <th>320</th>\n",
       "      <td>15</td>\n",
       "      <td>compounded</td>\n",
       "    </tr>\n",
       "    <tr>\n",
       "      <th>321</th>\n",
       "      <td>16</td>\n",
       "      <td>compromise</td>\n",
       "    </tr>\n",
       "    <tr>\n",
       "      <th>322</th>\n",
       "      <td>17</td>\n",
       "      <td>confession</td>\n",
       "    </tr>\n",
       "    <tr>\n",
       "      <th>323</th>\n",
       "      <td>18</td>\n",
       "      <td>contest-allowed</td>\n",
       "    </tr>\n",
       "    <tr>\n",
       "      <th>324</th>\n",
       "      <td>19</td>\n",
       "      <td>converted</td>\n",
       "    </tr>\n",
       "    <tr>\n",
       "      <th>325</th>\n",
       "      <td>20</td>\n",
       "      <td>convicted</td>\n",
       "    </tr>\n",
       "    <tr>\n",
       "      <th>326</th>\n",
       "      <td>21</td>\n",
       "      <td>decided</td>\n",
       "    </tr>\n",
       "    <tr>\n",
       "      <th>327</th>\n",
       "      <td>22</td>\n",
       "      <td>died</td>\n",
       "    </tr>\n",
       "    <tr>\n",
       "      <th>328</th>\n",
       "      <td>23</td>\n",
       "      <td>dismissed</td>\n",
       "    </tr>\n",
       "    <tr>\n",
       "      <th>329</th>\n",
       "      <td>24</td>\n",
       "      <td>disposal in lok adalat</td>\n",
       "    </tr>\n",
       "    <tr>\n",
       "      <th>330</th>\n",
       "      <td>25</td>\n",
       "      <td>disposed</td>\n",
       "    </tr>\n",
       "    <tr>\n",
       "      <th>331</th>\n",
       "      <td>26</td>\n",
       "      <td>disposed-otherwise</td>\n",
       "    </tr>\n",
       "    <tr>\n",
       "      <th>332</th>\n",
       "      <td>27</td>\n",
       "      <td>disposition var missing</td>\n",
       "    </tr>\n",
       "    <tr>\n",
       "      <th>333</th>\n",
       "      <td>28</td>\n",
       "      <td>ex-parte</td>\n",
       "    </tr>\n",
       "    <tr>\n",
       "      <th>334</th>\n",
       "      <td>29</td>\n",
       "      <td>execution</td>\n",
       "    </tr>\n",
       "    <tr>\n",
       "      <th>335</th>\n",
       "      <td>30</td>\n",
       "      <td>fine</td>\n",
       "    </tr>\n",
       "    <tr>\n",
       "      <th>336</th>\n",
       "      <td>31</td>\n",
       "      <td>judgement</td>\n",
       "    </tr>\n",
       "    <tr>\n",
       "      <th>337</th>\n",
       "      <td>32</td>\n",
       "      <td>not press</td>\n",
       "    </tr>\n",
       "    <tr>\n",
       "      <th>338</th>\n",
       "      <td>33</td>\n",
       "      <td>other</td>\n",
       "    </tr>\n",
       "    <tr>\n",
       "      <th>339</th>\n",
       "      <td>34</td>\n",
       "      <td>otherwise</td>\n",
       "    </tr>\n",
       "    <tr>\n",
       "      <th>340</th>\n",
       "      <td>35</td>\n",
       "      <td>p.o. consign</td>\n",
       "    </tr>\n",
       "    <tr>\n",
       "      <th>341</th>\n",
       "      <td>36</td>\n",
       "      <td>partly decreed</td>\n",
       "    </tr>\n",
       "    <tr>\n",
       "      <th>342</th>\n",
       "      <td>37</td>\n",
       "      <td>plea bargaining</td>\n",
       "    </tr>\n",
       "    <tr>\n",
       "      <th>343</th>\n",
       "      <td>38</td>\n",
       "      <td>plead guilty</td>\n",
       "    </tr>\n",
       "    <tr>\n",
       "      <th>344</th>\n",
       "      <td>39</td>\n",
       "      <td>prison</td>\n",
       "    </tr>\n",
       "    <tr>\n",
       "      <th>345</th>\n",
       "      <td>40</td>\n",
       "      <td>probation</td>\n",
       "    </tr>\n",
       "    <tr>\n",
       "      <th>346</th>\n",
       "      <td>41</td>\n",
       "      <td>procedural</td>\n",
       "    </tr>\n",
       "    <tr>\n",
       "      <th>347</th>\n",
       "      <td>42</td>\n",
       "      <td>quash</td>\n",
       "    </tr>\n",
       "    <tr>\n",
       "      <th>348</th>\n",
       "      <td>43</td>\n",
       "      <td>referred to lok adalat</td>\n",
       "    </tr>\n",
       "    <tr>\n",
       "      <th>349</th>\n",
       "      <td>44</td>\n",
       "      <td>reject</td>\n",
       "    </tr>\n",
       "    <tr>\n",
       "      <th>350</th>\n",
       "      <td>45</td>\n",
       "      <td>remanded</td>\n",
       "    </tr>\n",
       "    <tr>\n",
       "      <th>351</th>\n",
       "      <td>46</td>\n",
       "      <td>settled</td>\n",
       "    </tr>\n",
       "    <tr>\n",
       "      <th>352</th>\n",
       "      <td>47</td>\n",
       "      <td>sine die</td>\n",
       "    </tr>\n",
       "    <tr>\n",
       "      <th>353</th>\n",
       "      <td>48</td>\n",
       "      <td>stayed</td>\n",
       "    </tr>\n",
       "    <tr>\n",
       "      <th>354</th>\n",
       "      <td>49</td>\n",
       "      <td>transferred</td>\n",
       "    </tr>\n",
       "    <tr>\n",
       "      <th>355</th>\n",
       "      <td>50</td>\n",
       "      <td>uncontested</td>\n",
       "    </tr>\n",
       "    <tr>\n",
       "      <th>356</th>\n",
       "      <td>51</td>\n",
       "      <td>untrace</td>\n",
       "    </tr>\n",
       "    <tr>\n",
       "      <th>357</th>\n",
       "      <td>52</td>\n",
       "      <td>withdrawn</td>\n",
       "    </tr>\n",
       "  </tbody>\n",
       "</table>\n",
       "</div>"
      ],
      "text/plain": [
       "     disp_name              disp_name_s\n",
       "306          1                 258 crpc\n",
       "307          2                   abated\n",
       "308          3                absconded\n",
       "309          4                acquitted\n",
       "310          5                  allowed\n",
       "311          6          appeal accepted\n",
       "312          7                    award\n",
       "313          8             bail granted\n",
       "314          9               bail order\n",
       "315         10             bail refused\n",
       "316         11            bail rejected\n",
       "317         12                cancelled\n",
       "318         13                   closed\n",
       "319         14                committed\n",
       "320         15               compounded\n",
       "321         16               compromise\n",
       "322         17               confession\n",
       "323         18          contest-allowed\n",
       "324         19                converted\n",
       "325         20                convicted\n",
       "326         21                  decided\n",
       "327         22                     died\n",
       "328         23                dismissed\n",
       "329         24   disposal in lok adalat\n",
       "330         25                 disposed\n",
       "331         26       disposed-otherwise\n",
       "332         27  disposition var missing\n",
       "333         28                 ex-parte\n",
       "334         29                execution\n",
       "335         30                     fine\n",
       "336         31                judgement\n",
       "337         32                not press\n",
       "338         33                    other\n",
       "339         34                otherwise\n",
       "340         35             p.o. consign\n",
       "341         36           partly decreed\n",
       "342         37          plea bargaining\n",
       "343         38             plead guilty\n",
       "344         39                   prison\n",
       "345         40                probation\n",
       "346         41               procedural\n",
       "347         42                    quash\n",
       "348         43   referred to lok adalat\n",
       "349         44                   reject\n",
       "350         45                 remanded\n",
       "351         46                  settled\n",
       "352         47                 sine die\n",
       "353         48                   stayed\n",
       "354         49              transferred\n",
       "355         50              uncontested\n",
       "356         51                  untrace\n",
       "357         52                withdrawn"
      ]
     },
     "execution_count": 34,
     "metadata": {},
     "output_type": "execute_result"
    }
   ],
   "source": [
    "disp_codes_grouped[6]"
   ]
  },
  {
   "cell_type": "code",
   "execution_count": 35,
   "id": "855c42b1",
   "metadata": {
    "execution": {
     "iopub.execute_input": "2023-01-20T13:28:31.271353Z",
     "iopub.status.busy": "2023-01-20T13:28:31.270302Z",
     "iopub.status.idle": "2023-01-20T13:28:31.477324Z",
     "shell.execute_reply": "2023-01-20T13:28:31.476001Z"
    },
    "papermill": {
     "duration": 0.229008,
     "end_time": "2023-01-20T13:28:31.479938",
     "exception": false,
     "start_time": "2023-01-20T13:28:31.250930",
     "status": "completed"
    },
    "tags": []
   },
   "outputs": [],
   "source": [
    "dfs_disp_temp = []\n",
    "for i in range(7):\n",
    "    dfs_disp_temp.append(pd.merge(dfs_temp[i], disp_codes_grouped[i], on=\"disp_name\"))"
   ]
  },
  {
   "cell_type": "code",
   "execution_count": 36,
   "id": "399d996b",
   "metadata": {
    "execution": {
     "iopub.execute_input": "2023-01-20T13:28:31.517461Z",
     "iopub.status.busy": "2023-01-20T13:28:31.517104Z",
     "iopub.status.idle": "2023-01-20T13:28:31.523978Z",
     "shell.execute_reply": "2023-01-20T13:28:31.522567Z"
    },
    "papermill": {
     "duration": 0.028228,
     "end_time": "2023-01-20T13:28:31.526096",
     "exception": false,
     "start_time": "2023-01-20T13:28:31.497868",
     "status": "completed"
    },
    "tags": []
   },
   "outputs": [],
   "source": [
    "disposition_df = disp_code_keys_df.groupby(\"disp_name_s\")[\"year\"].count()"
   ]
  },
  {
   "cell_type": "code",
   "execution_count": 37,
   "id": "1000c15d",
   "metadata": {
    "execution": {
     "iopub.execute_input": "2023-01-20T13:28:31.564908Z",
     "iopub.status.busy": "2023-01-20T13:28:31.564509Z",
     "iopub.status.idle": "2023-01-20T13:28:31.672742Z",
     "shell.execute_reply": "2023-01-20T13:28:31.671392Z"
    },
    "papermill": {
     "duration": 0.130376,
     "end_time": "2023-01-20T13:28:31.675509",
     "exception": false,
     "start_time": "2023-01-20T13:28:31.545133",
     "status": "completed"
    },
    "tags": []
   },
   "outputs": [],
   "source": [
    "for i,df in enumerate(dfs_disp_temp):\n",
    "    disposition_df = pd.merge(disposition_df, df.groupby(\"disp_name_s\")[[\"ddl_case_id\"]].count(), on=\"disp_name_s\", how=\"left\")\n",
    "    disposition_df.rename(columns={\"ddl_case_id\":f\"201{i}\"},inplace=True)\n",
    "\n",
    "disposition_df.drop(\"year\", axis=\"columns\", inplace=True)\n",
    "disposition_df[\"total\"] = disposition_df.sum(axis = 1)"
   ]
  },
  {
   "cell_type": "code",
   "execution_count": 38,
   "id": "85b5602f",
   "metadata": {
    "execution": {
     "iopub.execute_input": "2023-01-20T13:28:31.712786Z",
     "iopub.status.busy": "2023-01-20T13:28:31.712412Z",
     "iopub.status.idle": "2023-01-20T13:28:31.758205Z",
     "shell.execute_reply": "2023-01-20T13:28:31.757177Z"
    },
    "papermill": {
     "duration": 0.067682,
     "end_time": "2023-01-20T13:28:31.761171",
     "exception": false,
     "start_time": "2023-01-20T13:28:31.693489",
     "status": "completed"
    },
    "tags": []
   },
   "outputs": [
    {
     "data": {
      "text/html": [
       "<div>\n",
       "<style scoped>\n",
       "    .dataframe tbody tr th:only-of-type {\n",
       "        vertical-align: middle;\n",
       "    }\n",
       "\n",
       "    .dataframe tbody tr th {\n",
       "        vertical-align: top;\n",
       "    }\n",
       "\n",
       "    .dataframe thead th {\n",
       "        text-align: right;\n",
       "    }\n",
       "</style>\n",
       "<table border=\"1\" class=\"dataframe\">\n",
       "  <thead>\n",
       "    <tr style=\"text-align: right;\">\n",
       "      <th></th>\n",
       "      <th>2010</th>\n",
       "      <th>2011</th>\n",
       "      <th>2012</th>\n",
       "      <th>2013</th>\n",
       "      <th>2014</th>\n",
       "      <th>2015</th>\n",
       "      <th>2016</th>\n",
       "      <th>total</th>\n",
       "    </tr>\n",
       "    <tr>\n",
       "      <th>disp_name_s</th>\n",
       "      <th></th>\n",
       "      <th></th>\n",
       "      <th></th>\n",
       "      <th></th>\n",
       "      <th></th>\n",
       "      <th></th>\n",
       "      <th></th>\n",
       "      <th></th>\n",
       "    </tr>\n",
       "  </thead>\n",
       "  <tbody>\n",
       "    <tr>\n",
       "      <th>disposition var missing</th>\n",
       "      <td>250.0</td>\n",
       "      <td>502.0</td>\n",
       "      <td>959.0</td>\n",
       "      <td>2079.0</td>\n",
       "      <td>5476.0</td>\n",
       "      <td>10171.0</td>\n",
       "      <td>17688.0</td>\n",
       "      <td>37125.0</td>\n",
       "    </tr>\n",
       "    <tr>\n",
       "      <th>dismissed</th>\n",
       "      <td>423.0</td>\n",
       "      <td>1096.0</td>\n",
       "      <td>2012.0</td>\n",
       "      <td>3211.0</td>\n",
       "      <td>5665.0</td>\n",
       "      <td>7212.0</td>\n",
       "      <td>6410.0</td>\n",
       "      <td>26029.0</td>\n",
       "    </tr>\n",
       "    <tr>\n",
       "      <th>withdrawn</th>\n",
       "      <td>157.0</td>\n",
       "      <td>374.0</td>\n",
       "      <td>908.0</td>\n",
       "      <td>1895.0</td>\n",
       "      <td>4567.0</td>\n",
       "      <td>5529.0</td>\n",
       "      <td>5419.0</td>\n",
       "      <td>18849.0</td>\n",
       "    </tr>\n",
       "    <tr>\n",
       "      <th>disposed-otherwise</th>\n",
       "      <td>371.0</td>\n",
       "      <td>606.0</td>\n",
       "      <td>1462.0</td>\n",
       "      <td>2373.0</td>\n",
       "      <td>2912.0</td>\n",
       "      <td>2953.0</td>\n",
       "      <td>1852.0</td>\n",
       "      <td>12529.0</td>\n",
       "    </tr>\n",
       "    <tr>\n",
       "      <th>allowed</th>\n",
       "      <td>158.0</td>\n",
       "      <td>306.0</td>\n",
       "      <td>572.0</td>\n",
       "      <td>928.0</td>\n",
       "      <td>2157.0</td>\n",
       "      <td>3098.0</td>\n",
       "      <td>3048.0</td>\n",
       "      <td>10267.0</td>\n",
       "    </tr>\n",
       "    <tr>\n",
       "      <th>judgement</th>\n",
       "      <td>314.0</td>\n",
       "      <td>538.0</td>\n",
       "      <td>1445.0</td>\n",
       "      <td>2419.0</td>\n",
       "      <td>2622.0</td>\n",
       "      <td>1991.0</td>\n",
       "      <td>838.0</td>\n",
       "      <td>10167.0</td>\n",
       "    </tr>\n",
       "    <tr>\n",
       "      <th>disposed</th>\n",
       "      <td>74.0</td>\n",
       "      <td>363.0</td>\n",
       "      <td>307.0</td>\n",
       "      <td>509.0</td>\n",
       "      <td>1605.0</td>\n",
       "      <td>2398.0</td>\n",
       "      <td>2216.0</td>\n",
       "      <td>7472.0</td>\n",
       "    </tr>\n",
       "    <tr>\n",
       "      <th>compromise</th>\n",
       "      <td>113.0</td>\n",
       "      <td>256.0</td>\n",
       "      <td>535.0</td>\n",
       "      <td>894.0</td>\n",
       "      <td>1454.0</td>\n",
       "      <td>1644.0</td>\n",
       "      <td>1616.0</td>\n",
       "      <td>6512.0</td>\n",
       "    </tr>\n",
       "    <tr>\n",
       "      <th>reject</th>\n",
       "      <td>118.0</td>\n",
       "      <td>236.0</td>\n",
       "      <td>705.0</td>\n",
       "      <td>1168.0</td>\n",
       "      <td>1312.0</td>\n",
       "      <td>1182.0</td>\n",
       "      <td>666.0</td>\n",
       "      <td>5387.0</td>\n",
       "    </tr>\n",
       "    <tr>\n",
       "      <th>referred to lok adalat</th>\n",
       "      <td>1168.0</td>\n",
       "      <td>284.0</td>\n",
       "      <td>295.0</td>\n",
       "      <td>540.0</td>\n",
       "      <td>764.0</td>\n",
       "      <td>1077.0</td>\n",
       "      <td>1239.0</td>\n",
       "      <td>5367.0</td>\n",
       "    </tr>\n",
       "    <tr>\n",
       "      <th>settled</th>\n",
       "      <td>38.0</td>\n",
       "      <td>87.0</td>\n",
       "      <td>453.0</td>\n",
       "      <td>770.0</td>\n",
       "      <td>1067.0</td>\n",
       "      <td>1318.0</td>\n",
       "      <td>1325.0</td>\n",
       "      <td>5058.0</td>\n",
       "    </tr>\n",
       "    <tr>\n",
       "      <th>transferred</th>\n",
       "      <td>42.0</td>\n",
       "      <td>137.0</td>\n",
       "      <td>210.0</td>\n",
       "      <td>304.0</td>\n",
       "      <td>610.0</td>\n",
       "      <td>1104.0</td>\n",
       "      <td>1139.0</td>\n",
       "      <td>3546.0</td>\n",
       "    </tr>\n",
       "    <tr>\n",
       "      <th>other</th>\n",
       "      <td>38.0</td>\n",
       "      <td>111.0</td>\n",
       "      <td>213.0</td>\n",
       "      <td>325.0</td>\n",
       "      <td>500.0</td>\n",
       "      <td>755.0</td>\n",
       "      <td>668.0</td>\n",
       "      <td>2610.0</td>\n",
       "    </tr>\n",
       "    <tr>\n",
       "      <th>decided</th>\n",
       "      <td>10.0</td>\n",
       "      <td>24.0</td>\n",
       "      <td>61.0</td>\n",
       "      <td>85.0</td>\n",
       "      <td>476.0</td>\n",
       "      <td>752.0</td>\n",
       "      <td>858.0</td>\n",
       "      <td>2266.0</td>\n",
       "    </tr>\n",
       "    <tr>\n",
       "      <th>ex-parte</th>\n",
       "      <td>10.0</td>\n",
       "      <td>16.0</td>\n",
       "      <td>52.0</td>\n",
       "      <td>175.0</td>\n",
       "      <td>295.0</td>\n",
       "      <td>313.0</td>\n",
       "      <td>253.0</td>\n",
       "      <td>1114.0</td>\n",
       "    </tr>\n",
       "    <tr>\n",
       "      <th>otherwise</th>\n",
       "      <td>12.0</td>\n",
       "      <td>35.0</td>\n",
       "      <td>58.0</td>\n",
       "      <td>67.0</td>\n",
       "      <td>171.0</td>\n",
       "      <td>333.0</td>\n",
       "      <td>300.0</td>\n",
       "      <td>976.0</td>\n",
       "    </tr>\n",
       "    <tr>\n",
       "      <th>procedural</th>\n",
       "      <td>17.0</td>\n",
       "      <td>30.0</td>\n",
       "      <td>80.0</td>\n",
       "      <td>101.0</td>\n",
       "      <td>154.0</td>\n",
       "      <td>184.0</td>\n",
       "      <td>312.0</td>\n",
       "      <td>878.0</td>\n",
       "    </tr>\n",
       "    <tr>\n",
       "      <th>acquitted</th>\n",
       "      <td>49.0</td>\n",
       "      <td>87.0</td>\n",
       "      <td>106.0</td>\n",
       "      <td>100.0</td>\n",
       "      <td>127.0</td>\n",
       "      <td>175.0</td>\n",
       "      <td>137.0</td>\n",
       "      <td>781.0</td>\n",
       "    </tr>\n",
       "    <tr>\n",
       "      <th>not press</th>\n",
       "      <td>3.0</td>\n",
       "      <td>12.0</td>\n",
       "      <td>11.0</td>\n",
       "      <td>34.0</td>\n",
       "      <td>88.0</td>\n",
       "      <td>146.0</td>\n",
       "      <td>133.0</td>\n",
       "      <td>427.0</td>\n",
       "    </tr>\n",
       "    <tr>\n",
       "      <th>abated</th>\n",
       "      <td>5.0</td>\n",
       "      <td>22.0</td>\n",
       "      <td>40.0</td>\n",
       "      <td>71.0</td>\n",
       "      <td>86.0</td>\n",
       "      <td>69.0</td>\n",
       "      <td>50.0</td>\n",
       "      <td>343.0</td>\n",
       "    </tr>\n",
       "    <tr>\n",
       "      <th>award</th>\n",
       "      <td>9.0</td>\n",
       "      <td>9.0</td>\n",
       "      <td>23.0</td>\n",
       "      <td>54.0</td>\n",
       "      <td>77.0</td>\n",
       "      <td>86.0</td>\n",
       "      <td>76.0</td>\n",
       "      <td>334.0</td>\n",
       "    </tr>\n",
       "    <tr>\n",
       "      <th>convicted</th>\n",
       "      <td>8.0</td>\n",
       "      <td>80.0</td>\n",
       "      <td>31.0</td>\n",
       "      <td>14.0</td>\n",
       "      <td>20.0</td>\n",
       "      <td>28.0</td>\n",
       "      <td>19.0</td>\n",
       "      <td>200.0</td>\n",
       "    </tr>\n",
       "    <tr>\n",
       "      <th>258 crpc</th>\n",
       "      <td>11.0</td>\n",
       "      <td>11.0</td>\n",
       "      <td>14.0</td>\n",
       "      <td>25.0</td>\n",
       "      <td>36.0</td>\n",
       "      <td>57.0</td>\n",
       "      <td>26.0</td>\n",
       "      <td>180.0</td>\n",
       "    </tr>\n",
       "    <tr>\n",
       "      <th>closed</th>\n",
       "      <td>8.0</td>\n",
       "      <td>21.0</td>\n",
       "      <td>29.0</td>\n",
       "      <td>13.0</td>\n",
       "      <td>18.0</td>\n",
       "      <td>14.0</td>\n",
       "      <td>28.0</td>\n",
       "      <td>131.0</td>\n",
       "    </tr>\n",
       "    <tr>\n",
       "      <th>compounded</th>\n",
       "      <td>NaN</td>\n",
       "      <td>47.0</td>\n",
       "      <td>11.0</td>\n",
       "      <td>7.0</td>\n",
       "      <td>11.0</td>\n",
       "      <td>16.0</td>\n",
       "      <td>15.0</td>\n",
       "      <td>107.0</td>\n",
       "    </tr>\n",
       "    <tr>\n",
       "      <th>committed</th>\n",
       "      <td>5.0</td>\n",
       "      <td>11.0</td>\n",
       "      <td>10.0</td>\n",
       "      <td>4.0</td>\n",
       "      <td>12.0</td>\n",
       "      <td>14.0</td>\n",
       "      <td>22.0</td>\n",
       "      <td>78.0</td>\n",
       "    </tr>\n",
       "    <tr>\n",
       "      <th>confession</th>\n",
       "      <td>3.0</td>\n",
       "      <td>5.0</td>\n",
       "      <td>10.0</td>\n",
       "      <td>13.0</td>\n",
       "      <td>8.0</td>\n",
       "      <td>12.0</td>\n",
       "      <td>19.0</td>\n",
       "      <td>70.0</td>\n",
       "    </tr>\n",
       "    <tr>\n",
       "      <th>p.o. consign</th>\n",
       "      <td>NaN</td>\n",
       "      <td>NaN</td>\n",
       "      <td>NaN</td>\n",
       "      <td>NaN</td>\n",
       "      <td>10.0</td>\n",
       "      <td>10.0</td>\n",
       "      <td>38.0</td>\n",
       "      <td>58.0</td>\n",
       "    </tr>\n",
       "    <tr>\n",
       "      <th>contest-allowed</th>\n",
       "      <td>1.0</td>\n",
       "      <td>1.0</td>\n",
       "      <td>1.0</td>\n",
       "      <td>2.0</td>\n",
       "      <td>8.0</td>\n",
       "      <td>20.0</td>\n",
       "      <td>20.0</td>\n",
       "      <td>53.0</td>\n",
       "    </tr>\n",
       "    <tr>\n",
       "      <th>partly decreed</th>\n",
       "      <td>2.0</td>\n",
       "      <td>19.0</td>\n",
       "      <td>4.0</td>\n",
       "      <td>8.0</td>\n",
       "      <td>7.0</td>\n",
       "      <td>7.0</td>\n",
       "      <td>4.0</td>\n",
       "      <td>51.0</td>\n",
       "    </tr>\n",
       "    <tr>\n",
       "      <th>remanded</th>\n",
       "      <td>1.0</td>\n",
       "      <td>4.0</td>\n",
       "      <td>1.0</td>\n",
       "      <td>7.0</td>\n",
       "      <td>7.0</td>\n",
       "      <td>11.0</td>\n",
       "      <td>9.0</td>\n",
       "      <td>40.0</td>\n",
       "    </tr>\n",
       "    <tr>\n",
       "      <th>quash</th>\n",
       "      <td>2.0</td>\n",
       "      <td>3.0</td>\n",
       "      <td>1.0</td>\n",
       "      <td>2.0</td>\n",
       "      <td>1.0</td>\n",
       "      <td>13.0</td>\n",
       "      <td>10.0</td>\n",
       "      <td>32.0</td>\n",
       "    </tr>\n",
       "    <tr>\n",
       "      <th>sine die</th>\n",
       "      <td>NaN</td>\n",
       "      <td>NaN</td>\n",
       "      <td>3.0</td>\n",
       "      <td>3.0</td>\n",
       "      <td>8.0</td>\n",
       "      <td>10.0</td>\n",
       "      <td>6.0</td>\n",
       "      <td>30.0</td>\n",
       "    </tr>\n",
       "    <tr>\n",
       "      <th>stayed</th>\n",
       "      <td>1.0</td>\n",
       "      <td>1.0</td>\n",
       "      <td>2.0</td>\n",
       "      <td>1.0</td>\n",
       "      <td>5.0</td>\n",
       "      <td>5.0</td>\n",
       "      <td>9.0</td>\n",
       "      <td>24.0</td>\n",
       "    </tr>\n",
       "    <tr>\n",
       "      <th>fine</th>\n",
       "      <td>NaN</td>\n",
       "      <td>NaN</td>\n",
       "      <td>1.0</td>\n",
       "      <td>2.0</td>\n",
       "      <td>7.0</td>\n",
       "      <td>7.0</td>\n",
       "      <td>5.0</td>\n",
       "      <td>22.0</td>\n",
       "    </tr>\n",
       "    <tr>\n",
       "      <th>probation</th>\n",
       "      <td>1.0</td>\n",
       "      <td>NaN</td>\n",
       "      <td>NaN</td>\n",
       "      <td>1.0</td>\n",
       "      <td>3.0</td>\n",
       "      <td>9.0</td>\n",
       "      <td>2.0</td>\n",
       "      <td>16.0</td>\n",
       "    </tr>\n",
       "    <tr>\n",
       "      <th>appeal accepted</th>\n",
       "      <td>NaN</td>\n",
       "      <td>NaN</td>\n",
       "      <td>NaN</td>\n",
       "      <td>NaN</td>\n",
       "      <td>5.0</td>\n",
       "      <td>6.0</td>\n",
       "      <td>3.0</td>\n",
       "      <td>14.0</td>\n",
       "    </tr>\n",
       "    <tr>\n",
       "      <th>untrace</th>\n",
       "      <td>NaN</td>\n",
       "      <td>NaN</td>\n",
       "      <td>NaN</td>\n",
       "      <td>NaN</td>\n",
       "      <td>3.0</td>\n",
       "      <td>4.0</td>\n",
       "      <td>5.0</td>\n",
       "      <td>12.0</td>\n",
       "    </tr>\n",
       "    <tr>\n",
       "      <th>absconded</th>\n",
       "      <td>1.0</td>\n",
       "      <td>1.0</td>\n",
       "      <td>1.0</td>\n",
       "      <td>1.0</td>\n",
       "      <td>3.0</td>\n",
       "      <td>2.0</td>\n",
       "      <td>2.0</td>\n",
       "      <td>11.0</td>\n",
       "    </tr>\n",
       "    <tr>\n",
       "      <th>died</th>\n",
       "      <td>NaN</td>\n",
       "      <td>NaN</td>\n",
       "      <td>1.0</td>\n",
       "      <td>1.0</td>\n",
       "      <td>4.0</td>\n",
       "      <td>3.0</td>\n",
       "      <td>NaN</td>\n",
       "      <td>9.0</td>\n",
       "    </tr>\n",
       "    <tr>\n",
       "      <th>cancelled</th>\n",
       "      <td>NaN</td>\n",
       "      <td>1.0</td>\n",
       "      <td>NaN</td>\n",
       "      <td>1.0</td>\n",
       "      <td>NaN</td>\n",
       "      <td>NaN</td>\n",
       "      <td>3.0</td>\n",
       "      <td>5.0</td>\n",
       "    </tr>\n",
       "    <tr>\n",
       "      <th>prison</th>\n",
       "      <td>NaN</td>\n",
       "      <td>NaN</td>\n",
       "      <td>1.0</td>\n",
       "      <td>1.0</td>\n",
       "      <td>2.0</td>\n",
       "      <td>NaN</td>\n",
       "      <td>NaN</td>\n",
       "      <td>4.0</td>\n",
       "    </tr>\n",
       "    <tr>\n",
       "      <th>execution</th>\n",
       "      <td>NaN</td>\n",
       "      <td>NaN</td>\n",
       "      <td>1.0</td>\n",
       "      <td>NaN</td>\n",
       "      <td>NaN</td>\n",
       "      <td>3.0</td>\n",
       "      <td>NaN</td>\n",
       "      <td>4.0</td>\n",
       "    </tr>\n",
       "    <tr>\n",
       "      <th>converted</th>\n",
       "      <td>NaN</td>\n",
       "      <td>NaN</td>\n",
       "      <td>NaN</td>\n",
       "      <td>NaN</td>\n",
       "      <td>NaN</td>\n",
       "      <td>NaN</td>\n",
       "      <td>3.0</td>\n",
       "      <td>3.0</td>\n",
       "    </tr>\n",
       "    <tr>\n",
       "      <th>plead guilty</th>\n",
       "      <td>NaN</td>\n",
       "      <td>NaN</td>\n",
       "      <td>NaN</td>\n",
       "      <td>NaN</td>\n",
       "      <td>2.0</td>\n",
       "      <td>1.0</td>\n",
       "      <td>NaN</td>\n",
       "      <td>3.0</td>\n",
       "    </tr>\n",
       "    <tr>\n",
       "      <th>plea bargaining</th>\n",
       "      <td>NaN</td>\n",
       "      <td>NaN</td>\n",
       "      <td>NaN</td>\n",
       "      <td>NaN</td>\n",
       "      <td>1.0</td>\n",
       "      <td>1.0</td>\n",
       "      <td>NaN</td>\n",
       "      <td>2.0</td>\n",
       "    </tr>\n",
       "    <tr>\n",
       "      <th>disposal in lok adalat</th>\n",
       "      <td>NaN</td>\n",
       "      <td>NaN</td>\n",
       "      <td>NaN</td>\n",
       "      <td>NaN</td>\n",
       "      <td>NaN</td>\n",
       "      <td>NaN</td>\n",
       "      <td>NaN</td>\n",
       "      <td>0.0</td>\n",
       "    </tr>\n",
       "    <tr>\n",
       "      <th>bail rejected</th>\n",
       "      <td>NaN</td>\n",
       "      <td>NaN</td>\n",
       "      <td>NaN</td>\n",
       "      <td>NaN</td>\n",
       "      <td>NaN</td>\n",
       "      <td>NaN</td>\n",
       "      <td>NaN</td>\n",
       "      <td>0.0</td>\n",
       "    </tr>\n",
       "    <tr>\n",
       "      <th>bail order</th>\n",
       "      <td>NaN</td>\n",
       "      <td>NaN</td>\n",
       "      <td>NaN</td>\n",
       "      <td>NaN</td>\n",
       "      <td>NaN</td>\n",
       "      <td>NaN</td>\n",
       "      <td>NaN</td>\n",
       "      <td>0.0</td>\n",
       "    </tr>\n",
       "    <tr>\n",
       "      <th>bail refused</th>\n",
       "      <td>NaN</td>\n",
       "      <td>NaN</td>\n",
       "      <td>NaN</td>\n",
       "      <td>NaN</td>\n",
       "      <td>NaN</td>\n",
       "      <td>NaN</td>\n",
       "      <td>NaN</td>\n",
       "      <td>0.0</td>\n",
       "    </tr>\n",
       "    <tr>\n",
       "      <th>uncontested</th>\n",
       "      <td>NaN</td>\n",
       "      <td>NaN</td>\n",
       "      <td>NaN</td>\n",
       "      <td>NaN</td>\n",
       "      <td>NaN</td>\n",
       "      <td>NaN</td>\n",
       "      <td>NaN</td>\n",
       "      <td>0.0</td>\n",
       "    </tr>\n",
       "    <tr>\n",
       "      <th>bail granted</th>\n",
       "      <td>NaN</td>\n",
       "      <td>NaN</td>\n",
       "      <td>NaN</td>\n",
       "      <td>NaN</td>\n",
       "      <td>NaN</td>\n",
       "      <td>NaN</td>\n",
       "      <td>NaN</td>\n",
       "      <td>0.0</td>\n",
       "    </tr>\n",
       "  </tbody>\n",
       "</table>\n",
       "</div>"
      ],
      "text/plain": [
       "                           2010    2011    2012    2013    2014     2015  \\\n",
       "disp_name_s                                                                \n",
       "disposition var missing   250.0   502.0   959.0  2079.0  5476.0  10171.0   \n",
       "dismissed                 423.0  1096.0  2012.0  3211.0  5665.0   7212.0   \n",
       "withdrawn                 157.0   374.0   908.0  1895.0  4567.0   5529.0   \n",
       "disposed-otherwise        371.0   606.0  1462.0  2373.0  2912.0   2953.0   \n",
       "allowed                   158.0   306.0   572.0   928.0  2157.0   3098.0   \n",
       "judgement                 314.0   538.0  1445.0  2419.0  2622.0   1991.0   \n",
       "disposed                   74.0   363.0   307.0   509.0  1605.0   2398.0   \n",
       "compromise                113.0   256.0   535.0   894.0  1454.0   1644.0   \n",
       "reject                    118.0   236.0   705.0  1168.0  1312.0   1182.0   \n",
       "referred to lok adalat   1168.0   284.0   295.0   540.0   764.0   1077.0   \n",
       "settled                    38.0    87.0   453.0   770.0  1067.0   1318.0   \n",
       "transferred                42.0   137.0   210.0   304.0   610.0   1104.0   \n",
       "other                      38.0   111.0   213.0   325.0   500.0    755.0   \n",
       "decided                    10.0    24.0    61.0    85.0   476.0    752.0   \n",
       "ex-parte                   10.0    16.0    52.0   175.0   295.0    313.0   \n",
       "otherwise                  12.0    35.0    58.0    67.0   171.0    333.0   \n",
       "procedural                 17.0    30.0    80.0   101.0   154.0    184.0   \n",
       "acquitted                  49.0    87.0   106.0   100.0   127.0    175.0   \n",
       "not press                   3.0    12.0    11.0    34.0    88.0    146.0   \n",
       "abated                      5.0    22.0    40.0    71.0    86.0     69.0   \n",
       "award                       9.0     9.0    23.0    54.0    77.0     86.0   \n",
       "convicted                   8.0    80.0    31.0    14.0    20.0     28.0   \n",
       "258 crpc                   11.0    11.0    14.0    25.0    36.0     57.0   \n",
       "closed                      8.0    21.0    29.0    13.0    18.0     14.0   \n",
       "compounded                  NaN    47.0    11.0     7.0    11.0     16.0   \n",
       "committed                   5.0    11.0    10.0     4.0    12.0     14.0   \n",
       "confession                  3.0     5.0    10.0    13.0     8.0     12.0   \n",
       "p.o. consign                NaN     NaN     NaN     NaN    10.0     10.0   \n",
       "contest-allowed             1.0     1.0     1.0     2.0     8.0     20.0   \n",
       "partly decreed              2.0    19.0     4.0     8.0     7.0      7.0   \n",
       "remanded                    1.0     4.0     1.0     7.0     7.0     11.0   \n",
       "quash                       2.0     3.0     1.0     2.0     1.0     13.0   \n",
       "sine die                    NaN     NaN     3.0     3.0     8.0     10.0   \n",
       "stayed                      1.0     1.0     2.0     1.0     5.0      5.0   \n",
       "fine                        NaN     NaN     1.0     2.0     7.0      7.0   \n",
       "probation                   1.0     NaN     NaN     1.0     3.0      9.0   \n",
       "appeal accepted             NaN     NaN     NaN     NaN     5.0      6.0   \n",
       "untrace                     NaN     NaN     NaN     NaN     3.0      4.0   \n",
       "absconded                   1.0     1.0     1.0     1.0     3.0      2.0   \n",
       "died                        NaN     NaN     1.0     1.0     4.0      3.0   \n",
       "cancelled                   NaN     1.0     NaN     1.0     NaN      NaN   \n",
       "prison                      NaN     NaN     1.0     1.0     2.0      NaN   \n",
       "execution                   NaN     NaN     1.0     NaN     NaN      3.0   \n",
       "converted                   NaN     NaN     NaN     NaN     NaN      NaN   \n",
       "plead guilty                NaN     NaN     NaN     NaN     2.0      1.0   \n",
       "plea bargaining             NaN     NaN     NaN     NaN     1.0      1.0   \n",
       "disposal in lok adalat      NaN     NaN     NaN     NaN     NaN      NaN   \n",
       "bail rejected               NaN     NaN     NaN     NaN     NaN      NaN   \n",
       "bail order                  NaN     NaN     NaN     NaN     NaN      NaN   \n",
       "bail refused                NaN     NaN     NaN     NaN     NaN      NaN   \n",
       "uncontested                 NaN     NaN     NaN     NaN     NaN      NaN   \n",
       "bail granted                NaN     NaN     NaN     NaN     NaN      NaN   \n",
       "\n",
       "                            2016    total  \n",
       "disp_name_s                                \n",
       "disposition var missing  17688.0  37125.0  \n",
       "dismissed                 6410.0  26029.0  \n",
       "withdrawn                 5419.0  18849.0  \n",
       "disposed-otherwise        1852.0  12529.0  \n",
       "allowed                   3048.0  10267.0  \n",
       "judgement                  838.0  10167.0  \n",
       "disposed                  2216.0   7472.0  \n",
       "compromise                1616.0   6512.0  \n",
       "reject                     666.0   5387.0  \n",
       "referred to lok adalat    1239.0   5367.0  \n",
       "settled                   1325.0   5058.0  \n",
       "transferred               1139.0   3546.0  \n",
       "other                      668.0   2610.0  \n",
       "decided                    858.0   2266.0  \n",
       "ex-parte                   253.0   1114.0  \n",
       "otherwise                  300.0    976.0  \n",
       "procedural                 312.0    878.0  \n",
       "acquitted                  137.0    781.0  \n",
       "not press                  133.0    427.0  \n",
       "abated                      50.0    343.0  \n",
       "award                       76.0    334.0  \n",
       "convicted                   19.0    200.0  \n",
       "258 crpc                    26.0    180.0  \n",
       "closed                      28.0    131.0  \n",
       "compounded                  15.0    107.0  \n",
       "committed                   22.0     78.0  \n",
       "confession                  19.0     70.0  \n",
       "p.o. consign                38.0     58.0  \n",
       "contest-allowed             20.0     53.0  \n",
       "partly decreed               4.0     51.0  \n",
       "remanded                     9.0     40.0  \n",
       "quash                       10.0     32.0  \n",
       "sine die                     6.0     30.0  \n",
       "stayed                       9.0     24.0  \n",
       "fine                         5.0     22.0  \n",
       "probation                    2.0     16.0  \n",
       "appeal accepted              3.0     14.0  \n",
       "untrace                      5.0     12.0  \n",
       "absconded                    2.0     11.0  \n",
       "died                         NaN      9.0  \n",
       "cancelled                    3.0      5.0  \n",
       "prison                       NaN      4.0  \n",
       "execution                    NaN      4.0  \n",
       "converted                    3.0      3.0  \n",
       "plead guilty                 NaN      3.0  \n",
       "plea bargaining              NaN      2.0  \n",
       "disposal in lok adalat       NaN      0.0  \n",
       "bail rejected                NaN      0.0  \n",
       "bail order                   NaN      0.0  \n",
       "bail refused                 NaN      0.0  \n",
       "uncontested                  NaN      0.0  \n",
       "bail granted                 NaN      0.0  "
      ]
     },
     "execution_count": 38,
     "metadata": {},
     "output_type": "execute_result"
    }
   ],
   "source": [
    "disposition_df.sort_values(by=\"total\", ascending=False)"
   ]
  },
  {
   "cell_type": "code",
   "execution_count": 39,
   "id": "66a9a2ae",
   "metadata": {
    "execution": {
     "iopub.execute_input": "2023-01-20T13:28:31.800615Z",
     "iopub.status.busy": "2023-01-20T13:28:31.799573Z",
     "iopub.status.idle": "2023-01-20T13:28:31.805087Z",
     "shell.execute_reply": "2023-01-20T13:28:31.803936Z"
    },
    "papermill": {
     "duration": 0.028096,
     "end_time": "2023-01-20T13:28:31.807845",
     "exception": false,
     "start_time": "2023-01-20T13:28:31.779749",
     "status": "completed"
    },
    "tags": []
   },
   "outputs": [],
   "source": [
    "disp_norm_df = disposition_df.copy()"
   ]
  },
  {
   "cell_type": "code",
   "execution_count": 40,
   "id": "b592caf4",
   "metadata": {
    "execution": {
     "iopub.execute_input": "2023-01-20T13:28:31.848605Z",
     "iopub.status.busy": "2023-01-20T13:28:31.847740Z",
     "iopub.status.idle": "2023-01-20T13:28:31.853997Z",
     "shell.execute_reply": "2023-01-20T13:28:31.852638Z"
    },
    "papermill": {
     "duration": 0.029427,
     "end_time": "2023-01-20T13:28:31.856259",
     "exception": false,
     "start_time": "2023-01-20T13:28:31.826832",
     "status": "completed"
    },
    "tags": []
   },
   "outputs": [
    {
     "data": {
      "text/plain": [
       "[3423, 5336, 10629, 18208, 32366, 42743, 46491]"
      ]
     },
     "execution_count": 40,
     "metadata": {},
     "output_type": "execute_result"
    }
   ],
   "source": [
    "total_counts"
   ]
  },
  {
   "cell_type": "code",
   "execution_count": 41,
   "id": "e28ce410",
   "metadata": {
    "execution": {
     "iopub.execute_input": "2023-01-20T13:28:31.895399Z",
     "iopub.status.busy": "2023-01-20T13:28:31.894396Z",
     "iopub.status.idle": "2023-01-20T13:28:31.901686Z",
     "shell.execute_reply": "2023-01-20T13:28:31.901028Z"
    },
    "papermill": {
     "duration": 0.028558,
     "end_time": "2023-01-20T13:28:31.903398",
     "exception": false,
     "start_time": "2023-01-20T13:28:31.874840",
     "status": "completed"
    },
    "tags": []
   },
   "outputs": [],
   "source": [
    "for i,total in enumerate(total_counts):\n",
    "    disp_norm_df[f\"201{i}\"] = (disposition_df[f\"201{i}\"]/total)*100"
   ]
  },
  {
   "cell_type": "code",
   "execution_count": 42,
   "id": "271d0673",
   "metadata": {
    "execution": {
     "iopub.execute_input": "2023-01-20T13:28:31.942004Z",
     "iopub.status.busy": "2023-01-20T13:28:31.941658Z",
     "iopub.status.idle": "2023-01-20T13:28:31.957998Z",
     "shell.execute_reply": "2023-01-20T13:28:31.956653Z"
    },
    "papermill": {
     "duration": 0.038191,
     "end_time": "2023-01-20T13:28:31.960042",
     "exception": false,
     "start_time": "2023-01-20T13:28:31.921851",
     "status": "completed"
    },
    "tags": []
   },
   "outputs": [
    {
     "data": {
      "text/html": [
       "<div>\n",
       "<style scoped>\n",
       "    .dataframe tbody tr th:only-of-type {\n",
       "        vertical-align: middle;\n",
       "    }\n",
       "\n",
       "    .dataframe tbody tr th {\n",
       "        vertical-align: top;\n",
       "    }\n",
       "\n",
       "    .dataframe thead th {\n",
       "        text-align: right;\n",
       "    }\n",
       "</style>\n",
       "<table border=\"1\" class=\"dataframe\">\n",
       "  <thead>\n",
       "    <tr style=\"text-align: right;\">\n",
       "      <th></th>\n",
       "      <th>2010</th>\n",
       "      <th>2011</th>\n",
       "      <th>2012</th>\n",
       "      <th>2013</th>\n",
       "      <th>2014</th>\n",
       "      <th>2015</th>\n",
       "      <th>2016</th>\n",
       "      <th>total</th>\n",
       "    </tr>\n",
       "    <tr>\n",
       "      <th>disp_name_s</th>\n",
       "      <th></th>\n",
       "      <th></th>\n",
       "      <th></th>\n",
       "      <th></th>\n",
       "      <th></th>\n",
       "      <th></th>\n",
       "      <th></th>\n",
       "      <th></th>\n",
       "    </tr>\n",
       "  </thead>\n",
       "  <tbody>\n",
       "    <tr>\n",
       "      <th>disposition var missing</th>\n",
       "      <td>7.303535</td>\n",
       "      <td>9.407796</td>\n",
       "      <td>9.022486</td>\n",
       "      <td>11.418058</td>\n",
       "      <td>16.918989</td>\n",
       "      <td>23.795709</td>\n",
       "      <td>38.046073</td>\n",
       "      <td>37125.0</td>\n",
       "    </tr>\n",
       "    <tr>\n",
       "      <th>dismissed</th>\n",
       "      <td>12.357581</td>\n",
       "      <td>20.539730</td>\n",
       "      <td>18.929344</td>\n",
       "      <td>17.635105</td>\n",
       "      <td>17.502935</td>\n",
       "      <td>16.872938</td>\n",
       "      <td>13.787615</td>\n",
       "      <td>26029.0</td>\n",
       "    </tr>\n",
       "    <tr>\n",
       "      <th>withdrawn</th>\n",
       "      <td>4.586620</td>\n",
       "      <td>7.008996</td>\n",
       "      <td>8.542666</td>\n",
       "      <td>10.407513</td>\n",
       "      <td>14.110486</td>\n",
       "      <td>12.935451</td>\n",
       "      <td>11.656019</td>\n",
       "      <td>18849.0</td>\n",
       "    </tr>\n",
       "    <tr>\n",
       "      <th>disposed-otherwise</th>\n",
       "      <td>10.838446</td>\n",
       "      <td>11.356822</td>\n",
       "      <td>13.754822</td>\n",
       "      <td>13.032733</td>\n",
       "      <td>8.997096</td>\n",
       "      <td>6.908734</td>\n",
       "      <td>3.983567</td>\n",
       "      <td>12529.0</td>\n",
       "    </tr>\n",
       "    <tr>\n",
       "      <th>allowed</th>\n",
       "      <td>4.615834</td>\n",
       "      <td>5.734633</td>\n",
       "      <td>5.381503</td>\n",
       "      <td>5.096661</td>\n",
       "      <td>6.664401</td>\n",
       "      <td>7.247970</td>\n",
       "      <td>6.556108</td>\n",
       "      <td>10267.0</td>\n",
       "    </tr>\n",
       "    <tr>\n",
       "      <th>judgement</th>\n",
       "      <td>9.173240</td>\n",
       "      <td>10.082459</td>\n",
       "      <td>13.594882</td>\n",
       "      <td>13.285369</td>\n",
       "      <td>8.101094</td>\n",
       "      <td>4.658073</td>\n",
       "      <td>1.802499</td>\n",
       "      <td>10167.0</td>\n",
       "    </tr>\n",
       "    <tr>\n",
       "      <th>disposed</th>\n",
       "      <td>2.161846</td>\n",
       "      <td>6.802849</td>\n",
       "      <td>2.888324</td>\n",
       "      <td>2.795475</td>\n",
       "      <td>4.958907</td>\n",
       "      <td>5.610275</td>\n",
       "      <td>4.766514</td>\n",
       "      <td>7472.0</td>\n",
       "    </tr>\n",
       "    <tr>\n",
       "      <th>compromise</th>\n",
       "      <td>3.301198</td>\n",
       "      <td>4.797601</td>\n",
       "      <td>5.033399</td>\n",
       "      <td>4.909930</td>\n",
       "      <td>4.492369</td>\n",
       "      <td>3.846244</td>\n",
       "      <td>3.475942</td>\n",
       "      <td>6512.0</td>\n",
       "    </tr>\n",
       "    <tr>\n",
       "      <th>reject</th>\n",
       "      <td>3.447268</td>\n",
       "      <td>4.422789</td>\n",
       "      <td>6.632797</td>\n",
       "      <td>6.414763</td>\n",
       "      <td>4.053637</td>\n",
       "      <td>2.765365</td>\n",
       "      <td>1.432535</td>\n",
       "      <td>5387.0</td>\n",
       "    </tr>\n",
       "    <tr>\n",
       "      <th>referred to lok adalat</th>\n",
       "      <td>34.122115</td>\n",
       "      <td>5.322339</td>\n",
       "      <td>2.775426</td>\n",
       "      <td>2.965729</td>\n",
       "      <td>2.360502</td>\n",
       "      <td>2.519711</td>\n",
       "      <td>2.665032</td>\n",
       "      <td>5367.0</td>\n",
       "    </tr>\n",
       "  </tbody>\n",
       "</table>\n",
       "</div>"
      ],
      "text/plain": [
       "                              2010       2011       2012       2013  \\\n",
       "disp_name_s                                                           \n",
       "disposition var missing   7.303535   9.407796   9.022486  11.418058   \n",
       "dismissed                12.357581  20.539730  18.929344  17.635105   \n",
       "withdrawn                 4.586620   7.008996   8.542666  10.407513   \n",
       "disposed-otherwise       10.838446  11.356822  13.754822  13.032733   \n",
       "allowed                   4.615834   5.734633   5.381503   5.096661   \n",
       "judgement                 9.173240  10.082459  13.594882  13.285369   \n",
       "disposed                  2.161846   6.802849   2.888324   2.795475   \n",
       "compromise                3.301198   4.797601   5.033399   4.909930   \n",
       "reject                    3.447268   4.422789   6.632797   6.414763   \n",
       "referred to lok adalat   34.122115   5.322339   2.775426   2.965729   \n",
       "\n",
       "                              2014       2015       2016    total  \n",
       "disp_name_s                                                        \n",
       "disposition var missing  16.918989  23.795709  38.046073  37125.0  \n",
       "dismissed                17.502935  16.872938  13.787615  26029.0  \n",
       "withdrawn                14.110486  12.935451  11.656019  18849.0  \n",
       "disposed-otherwise        8.997096   6.908734   3.983567  12529.0  \n",
       "allowed                   6.664401   7.247970   6.556108  10267.0  \n",
       "judgement                 8.101094   4.658073   1.802499  10167.0  \n",
       "disposed                  4.958907   5.610275   4.766514   7472.0  \n",
       "compromise                4.492369   3.846244   3.475942   6512.0  \n",
       "reject                    4.053637   2.765365   1.432535   5387.0  \n",
       "referred to lok adalat    2.360502   2.519711   2.665032   5367.0  "
      ]
     },
     "execution_count": 42,
     "metadata": {},
     "output_type": "execute_result"
    }
   ],
   "source": [
    "disp_norm_df.sort_values(by=\"total\", ascending=False).head(10)"
   ]
  },
  {
   "cell_type": "code",
   "execution_count": 43,
   "id": "e894644c",
   "metadata": {
    "execution": {
     "iopub.execute_input": "2023-01-20T13:28:31.999490Z",
     "iopub.status.busy": "2023-01-20T13:28:31.999132Z",
     "iopub.status.idle": "2023-01-20T13:28:32.379469Z",
     "shell.execute_reply": "2023-01-20T13:28:32.378483Z"
    },
    "papermill": {
     "duration": 0.402922,
     "end_time": "2023-01-20T13:28:32.381999",
     "exception": false,
     "start_time": "2023-01-20T13:28:31.979077",
     "status": "completed"
    },
    "tags": []
   },
   "outputs": [
    {
     "data": {
      "text/plain": [
       "<AxesSubplot:ylabel='total'>"
      ]
     },
     "execution_count": 43,
     "metadata": {},
     "output_type": "execute_result"
    },
    {
     "data": {
      "image/png": "[encoded data removed]",
      "text/plain": [
       "<Figure size 1440x720 with 1 Axes>"
      ]
     },
     "metadata": {},
     "output_type": "display_data"
    }
   ],
   "source": [
    "disp_norm_df.plot.pie(y = \"total\", figsize=(20,10), legend=False)"
   ]
  },
  {
   "cell_type": "markdown",
   "id": "26297922",
   "metadata": {
    "papermill": {
     "duration": 0.021921,
     "end_time": "2023-01-20T13:28:32.429828",
     "exception": false,
     "start_time": "2023-01-20T13:28:32.407907",
     "status": "completed"
    },
    "tags": []
   },
   "source": [
    "As we can see below, most of the cases being fought under the Domestic Violence Act have not even reached a disposition. And this is an upward trend."
   ]
  },
  {
   "cell_type": "code",
   "execution_count": 44,
   "id": "97c862ad",
   "metadata": {
    "execution": {
     "iopub.execute_input": "2023-01-20T13:28:32.472754Z",
     "iopub.status.busy": "2023-01-20T13:28:32.472342Z",
     "iopub.status.idle": "2023-01-20T13:28:32.479518Z",
     "shell.execute_reply": "2023-01-20T13:28:32.478138Z"
    },
    "papermill": {
     "duration": 0.031428,
     "end_time": "2023-01-20T13:28:32.482297",
     "exception": false,
     "start_time": "2023-01-20T13:28:32.450869",
     "status": "completed"
    },
    "tags": []
   },
   "outputs": [],
   "source": [
    "disp_no_var_cases = disposition_df.sort_values(by=\"total\", ascending=False)[:1]\n",
    "disp_no_var_cases.drop(\"total\", axis=\"columns\", inplace=True)"
   ]
  },
  {
   "cell_type": "markdown",
   "id": "90d2a724",
   "metadata": {
    "_kg_hide-input": true,
    "execution": {
     "iopub.execute_input": "2023-01-19T10:32:24.285517Z",
     "iopub.status.busy": "2023-01-19T10:32:24.285056Z",
     "iopub.status.idle": "2023-01-19T10:32:24.292437Z",
     "shell.execute_reply": "2023-01-19T10:32:24.290720Z",
     "shell.execute_reply.started": "2023-01-19T10:32:24.285484Z"
    },
    "papermill": {
     "duration": 0.019833,
     "end_time": "2023-01-20T13:28:32.522310",
     "exception": false,
     "start_time": "2023-01-20T13:28:32.502477",
     "status": "completed"
    },
    "tags": []
   },
   "source": [
    "### Plot: Number of unsolved domestic violence cases per year"
   ]
  },
  {
   "cell_type": "code",
   "execution_count": 45,
   "id": "f6608085",
   "metadata": {
    "execution": {
     "iopub.execute_input": "2023-01-20T13:28:32.564457Z",
     "iopub.status.busy": "2023-01-20T13:28:32.564079Z",
     "iopub.status.idle": "2023-01-20T13:28:32.730082Z",
     "shell.execute_reply": "2023-01-20T13:28:32.728886Z"
    },
    "papermill": {
     "duration": 0.190095,
     "end_time": "2023-01-20T13:28:32.732581",
     "exception": false,
     "start_time": "2023-01-20T13:28:32.542486",
     "status": "completed"
    },
    "tags": []
   },
   "outputs": [
    {
     "data": {
      "text/plain": [
       "<AxesSubplot:>"
      ]
     },
     "execution_count": 45,
     "metadata": {},
     "output_type": "execute_result"
    },
    {
     "data": {
      "image/png": "[encoded data removed]",
      "text/plain": [
       "<Figure size 432x288 with 1 Axes>"
      ]
     },
     "metadata": {
      "needs_background": "light"
     },
     "output_type": "display_data"
    }
   ],
   "source": [
    "disp_no_var_cases.T.plot.line()"
   ]
  },
  {
   "cell_type": "markdown",
   "id": "1cf6d923",
   "metadata": {
    "papermill": {
     "duration": 0.019908,
     "end_time": "2023-01-20T13:28:32.772836",
     "exception": false,
     "start_time": "2023-01-20T13:28:32.752928",
     "status": "completed"
    },
    "tags": []
   },
   "source": [
    "As excpected, with the number of total domestic violence cases being registered, and these kind of cases taking a long time to reach disposition, the number of unsolved court cases shows an increasing trend."
   ]
  },
  {
   "cell_type": "code",
   "execution_count": 46,
   "id": "d456501f",
   "metadata": {
    "execution": {
     "iopub.execute_input": "2023-01-20T13:28:32.815201Z",
     "iopub.status.busy": "2023-01-20T13:28:32.814847Z",
     "iopub.status.idle": "2023-01-20T13:28:32.828392Z",
     "shell.execute_reply": "2023-01-20T13:28:32.827542Z"
    },
    "papermill": {
     "duration": 0.037247,
     "end_time": "2023-01-20T13:28:32.830299",
     "exception": false,
     "start_time": "2023-01-20T13:28:32.793052",
     "status": "completed"
    },
    "tags": []
   },
   "outputs": [],
   "source": [
    "disp_no_var_cases_percent_inc = pd.DataFrame()\n",
    "for i in range(1,7):\n",
    "    disp_no_var_cases_percent_inc[f\"201{i}\"] = 100*((disp_no_var_cases[f\"201{i}\"] - disp_no_var_cases[f\"201{i-1}\"]) / disp_no_var_cases[f\"201{i-1}\"]) \n",
    "    "
   ]
  },
  {
   "cell_type": "code",
   "execution_count": 47,
   "id": "aabb1c61",
   "metadata": {
    "execution": {
     "iopub.execute_input": "2023-01-20T13:28:32.873055Z",
     "iopub.status.busy": "2023-01-20T13:28:32.872667Z",
     "iopub.status.idle": "2023-01-20T13:28:33.042167Z",
     "shell.execute_reply": "2023-01-20T13:28:33.040866Z"
    },
    "papermill": {
     "duration": 0.194435,
     "end_time": "2023-01-20T13:28:33.045598",
     "exception": false,
     "start_time": "2023-01-20T13:28:32.851163",
     "status": "completed"
    },
    "tags": []
   },
   "outputs": [
    {
     "data": {
      "text/plain": [
       "<AxesSubplot:>"
      ]
     },
     "execution_count": 47,
     "metadata": {},
     "output_type": "execute_result"
    },
    {
     "data": {
      "image/png": "[encoded data removed]",
      "text/plain": [
       "<Figure size 432x288 with 1 Axes>"
      ]
     },
     "metadata": {
      "needs_background": "light"
     },
     "output_type": "display_data"
    }
   ],
   "source": [
    "\n",
    "disp_no_var_cases_percent_inc.T.plot.bar()"
   ]
  },
  {
   "cell_type": "markdown",
   "id": "065f7d71",
   "metadata": {
    "papermill": {
     "duration": 0.020059,
     "end_time": "2023-01-20T13:28:33.086008",
     "exception": false,
     "start_time": "2023-01-20T13:28:33.065949",
     "status": "completed"
    },
    "tags": []
   },
   "source": [
    "AS we can see, the graph is mostly stable and indicates that the number of unsolved cases nearly doubled every year from 2011-2013. Coming to the year 2014, this year shows an anomaly, with a 163% increase in unsolved court cases over the previous year. The following two years, 2015 and 2016 showed trends similar to the early years, with the number growing by just under two times both years.\n",
    "\n",
    "Still we see that the years with the most increase in unsolved domestic violence are the two years directly following the Nirbhaya incident.\n",
    "\n",
    "Now, we compare them alongside the total number of domestic violence cases registered every year."
   ]
  },
  {
   "cell_type": "code",
   "execution_count": 48,
   "id": "d7440ead",
   "metadata": {
    "execution": {
     "iopub.execute_input": "2023-01-20T13:28:33.129268Z",
     "iopub.status.busy": "2023-01-20T13:28:33.128669Z",
     "iopub.status.idle": "2023-01-20T13:28:33.137006Z",
     "shell.execute_reply": "2023-01-20T13:28:33.135362Z"
    },
    "papermill": {
     "duration": 0.032675,
     "end_time": "2023-01-20T13:28:33.139048",
     "exception": false,
     "start_time": "2023-01-20T13:28:33.106373",
     "status": "completed"
    },
    "tags": []
   },
   "outputs": [
    {
     "data": {
      "text/plain": [
       "array([[  250.,   502.,   959.,  2079.,  5476., 10171., 17688.]])"
      ]
     },
     "execution_count": 48,
     "metadata": {},
     "output_type": "execute_result"
    }
   ],
   "source": [
    "disp_no_var_cases.values"
   ]
  },
  {
   "cell_type": "code",
   "execution_count": 49,
   "id": "c6c2e50e",
   "metadata": {
    "execution": {
     "iopub.execute_input": "2023-01-20T13:28:33.182754Z",
     "iopub.status.busy": "2023-01-20T13:28:33.181660Z",
     "iopub.status.idle": "2023-01-20T13:28:33.414620Z",
     "shell.execute_reply": "2023-01-20T13:28:33.413550Z"
    },
    "papermill": {
     "duration": 0.257505,
     "end_time": "2023-01-20T13:28:33.417555",
     "exception": false,
     "start_time": "2023-01-20T13:28:33.160050",
     "status": "completed"
    },
    "tags": []
   },
   "outputs": [
    {
     "data": {
      "text/plain": [
       "<AxesSubplot:xlabel='Year'>"
      ]
     },
     "execution_count": 49,
     "metadata": {},
     "output_type": "execute_result"
    },
    {
     "data": {
      "image/png": "[encoded data removed]",
      "text/plain": [
       "<Figure size 1440x720 with 1 Axes>"
      ]
     },
     "metadata": {
      "needs_background": "light"
     },
     "output_type": "display_data"
    }
   ],
   "source": [
    "fig, ax = plt.subplots(figsize=(20,10)) \n",
    "comb_data = {\n",
    "    \"Year\": years,\n",
    "    \"Total Cases\": total_counts,\n",
    "    \"Unsolved Cases\": disp_no_var_cases.iloc[0].values\n",
    "}\n",
    "comb_df = pd.DataFrame(comb_data)\n",
    "\n",
    "comb_df.plot(x=\"Year\", y=\"Total Cases\", ax=ax)\n",
    "comb_df.plot(x=\"Year\", y=\"Unsolved Cases\", ax=ax)"
   ]
  },
  {
   "cell_type": "code",
   "execution_count": 50,
   "id": "cb0b9cef",
   "metadata": {
    "execution": {
     "iopub.execute_input": "2023-01-20T13:28:33.462441Z",
     "iopub.status.busy": "2023-01-20T13:28:33.462086Z",
     "iopub.status.idle": "2023-01-20T13:28:33.468241Z",
     "shell.execute_reply": "2023-01-20T13:28:33.466869Z"
    },
    "papermill": {
     "duration": 0.032015,
     "end_time": "2023-01-20T13:28:33.471284",
     "exception": false,
     "start_time": "2023-01-20T13:28:33.439269",
     "status": "completed"
    },
    "tags": []
   },
   "outputs": [],
   "source": [
    "percent_vals = disp_norm_df.sort_values(by=\"total\",ascending=False).iloc[0].values"
   ]
  },
  {
   "cell_type": "code",
   "execution_count": 51,
   "id": "9613c28f",
   "metadata": {
    "execution": {
     "iopub.execute_input": "2023-01-20T13:28:33.514426Z",
     "iopub.status.busy": "2023-01-20T13:28:33.514030Z",
     "iopub.status.idle": "2023-01-20T13:28:33.519231Z",
     "shell.execute_reply": "2023-01-20T13:28:33.518210Z"
    },
    "papermill": {
     "duration": 0.028863,
     "end_time": "2023-01-20T13:28:33.521121",
     "exception": false,
     "start_time": "2023-01-20T13:28:33.492258",
     "status": "completed"
    },
    "tags": []
   },
   "outputs": [],
   "source": [
    "percent_vals = percent_vals[:-1]"
   ]
  },
  {
   "cell_type": "code",
   "execution_count": 52,
   "id": "671cf4d0",
   "metadata": {
    "execution": {
     "iopub.execute_input": "2023-01-20T13:28:33.566202Z",
     "iopub.status.busy": "2023-01-20T13:28:33.565858Z",
     "iopub.status.idle": "2023-01-20T13:28:33.572935Z",
     "shell.execute_reply": "2023-01-20T13:28:33.571636Z"
    },
    "papermill": {
     "duration": 0.032787,
     "end_time": "2023-01-20T13:28:33.575692",
     "exception": false,
     "start_time": "2023-01-20T13:28:33.542905",
     "status": "completed"
    },
    "tags": []
   },
   "outputs": [
    {
     "data": {
      "text/plain": [
       "array([ 7.30353491,  9.4077961 ,  9.02248565, 11.418058  , 16.91898906,\n",
       "       23.79570924, 38.04607343])"
      ]
     },
     "execution_count": 52,
     "metadata": {},
     "output_type": "execute_result"
    }
   ],
   "source": [
    "percent_vals"
   ]
  },
  {
   "cell_type": "code",
   "execution_count": 53,
   "id": "4c3523ae",
   "metadata": {
    "execution": {
     "iopub.execute_input": "2023-01-20T13:28:33.621554Z",
     "iopub.status.busy": "2023-01-20T13:28:33.621166Z",
     "iopub.status.idle": "2023-01-20T13:28:33.790693Z",
     "shell.execute_reply": "2023-01-20T13:28:33.789660Z"
    },
    "papermill": {
     "duration": 0.195484,
     "end_time": "2023-01-20T13:28:33.792640",
     "exception": false,
     "start_time": "2023-01-20T13:28:33.597156",
     "status": "completed"
    },
    "tags": []
   },
   "outputs": [
    {
     "data": {
      "text/plain": [
       "<AxesSubplot:xlabel='Year'>"
      ]
     },
     "execution_count": 53,
     "metadata": {},
     "output_type": "execute_result"
    },
    {
     "data": {
      "image/png": "[encoded data removed]",
      "text/plain": [
       "<Figure size 432x288 with 1 Axes>"
      ]
     },
     "metadata": {
      "needs_background": "light"
     },
     "output_type": "display_data"
    }
   ],
   "source": [
    "comb_df = pd.DataFrame({\"Year\": years, \"Percent Unsolved Cases\":percent_vals})\n",
    "comb_df.plot.bar(x=\"Year\",y=\"Percent Unsolved Cases\")"
   ]
  },
  {
   "cell_type": "markdown",
   "id": "b6d5fc35",
   "metadata": {
    "papermill": {
     "duration": 0.021151,
     "end_time": "2023-01-20T13:28:33.835086",
     "exception": false,
     "start_time": "2023-01-20T13:28:33.813935",
     "status": "completed"
    },
    "tags": []
   },
   "source": [
    "As we can see in the period of 2010 to 2012, the percent of unsolved cases is fairly constant and under 10%. But from 2013 to 2016 we see a jump from 11% to 38% in unsolved cases. From this we can infer 2 possibilities:\n",
    "1. More cases in recent years are unsolved because they've been in court discussion for less time OR,\n",
    "2. The time to solve domestic violence cases has increased over the years\n",
    "\n",
    "Let us explore the latter possibility."
   ]
  },
  {
   "cell_type": "code",
   "execution_count": 54,
   "id": "074bea31",
   "metadata": {
    "execution": {
     "iopub.execute_input": "2023-01-20T13:28:33.879571Z",
     "iopub.status.busy": "2023-01-20T13:28:33.879034Z",
     "iopub.status.idle": "2023-01-20T13:28:33.882730Z",
     "shell.execute_reply": "2023-01-20T13:28:33.882007Z"
    },
    "papermill": {
     "duration": 0.02895,
     "end_time": "2023-01-20T13:28:33.885099",
     "exception": false,
     "start_time": "2023-01-20T13:28:33.856149",
     "status": "completed"
    },
    "tags": []
   },
   "outputs": [],
   "source": [
    "mean_solving_time = []"
   ]
  },
  {
   "cell_type": "code",
   "execution_count": 55,
   "id": "6138677d",
   "metadata": {
    "execution": {
     "iopub.execute_input": "2023-01-20T13:28:33.930931Z",
     "iopub.status.busy": "2023-01-20T13:28:33.930493Z",
     "iopub.status.idle": "2023-01-20T13:28:34.059224Z",
     "shell.execute_reply": "2023-01-20T13:28:34.058293Z"
    },
    "papermill": {
     "duration": 0.154421,
     "end_time": "2023-01-20T13:28:34.061775",
     "exception": false,
     "start_time": "2023-01-20T13:28:33.907354",
     "status": "completed"
    },
    "tags": []
   },
   "outputs": [],
   "source": [
    "for df in dfs_disp_temp:\n",
    "    working = df[df.disp_name_s != \"disposition var missing\"]\n",
    "    working = working[[\"date_first_list\",\"date_of_decision\"]]\n",
    "    date_first_list = pd.to_datetime(working[\"date_first_list\"][working.date_first_list.notnull()].values)\n",
    "    date_decision_list =  pd.to_datetime(working[\"date_of_decision\"][working.date_first_list.notnull()].values)\n",
    "    \n",
    "    dates_df = pd.DataFrame({\n",
    "        \"start date\": date_first_list,\n",
    "        \"end date\": date_decision_list\n",
    "    })\n",
    "    dates_df[\"difference\"] = dates_df[\"end date\"] - dates_df[\"start date\"]\n",
    "    mean_solving_time.append(dates_df[\"difference\"].mean() / np.timedelta64(1,\"D\"))"
   ]
  },
  {
   "cell_type": "code",
   "execution_count": 56,
   "id": "07c48573",
   "metadata": {
    "execution": {
     "iopub.execute_input": "2023-01-20T13:28:34.106458Z",
     "iopub.status.busy": "2023-01-20T13:28:34.106080Z",
     "iopub.status.idle": "2023-01-20T13:28:34.291722Z",
     "shell.execute_reply": "2023-01-20T13:28:34.290576Z"
    },
    "papermill": {
     "duration": 0.210814,
     "end_time": "2023-01-20T13:28:34.293982",
     "exception": false,
     "start_time": "2023-01-20T13:28:34.083168",
     "status": "completed"
    },
    "tags": []
   },
   "outputs": [
    {
     "data": {
      "text/plain": [
       "<AxesSubplot:xlabel='Year', ylabel='days'>"
      ]
     },
     "execution_count": 56,
     "metadata": {},
     "output_type": "execute_result"
    },
    {
     "data": {
      "image/png": "[encoded data removed]",
      "text/plain": [
       "<Figure size 432x288 with 1 Axes>"
      ]
     },
     "metadata": {
      "needs_background": "light"
     },
     "output_type": "display_data"
    }
   ],
   "source": [
    "solving_df = pd.DataFrame({\n",
    "    \"Year\": years,\n",
    "    \"Average Time Taken\": mean_solving_time\n",
    "})\n",
    "solving_df.plot(x=\"Year\", y=\"Average Time Taken\", ylabel=\"days\")"
   ]
  },
  {
   "cell_type": "markdown",
   "id": "c7e4e18a",
   "metadata": {
    "papermill": {
     "duration": 0.021202,
     "end_time": "2023-01-20T13:28:34.336647",
     "exception": false,
     "start_time": "2023-01-20T13:28:34.315445",
     "status": "completed"
    },
    "tags": []
   },
   "source": [
    "As we can see, initally, from 2010 to 2011, there is a rise of about 200 days in the average time taken to solve a domestic violence case. But, remarkably, since then, the average time taken to solve such cases shows a steady downward trend, with cases in 2016 on average being solved in just about half the time it took on average cases in 2011 to solve!"
   ]
  },
  {
   "cell_type": "markdown",
   "id": "fa5fafcf",
   "metadata": {
    "papermill": {
     "duration": 0.021175,
     "end_time": "2023-01-20T13:28:34.379427",
     "exception": false,
     "start_time": "2023-01-20T13:28:34.358252",
     "status": "completed"
    },
    "tags": []
   },
   "source": [
    "# Conclusion"
   ]
  },
  {
   "cell_type": "markdown",
   "id": "2ec01ae1",
   "metadata": {
    "papermill": {
     "duration": 0.022641,
     "end_time": "2023-01-20T13:28:34.423532",
     "exception": false,
     "start_time": "2023-01-20T13:28:34.400891",
     "status": "completed"
    },
    "tags": []
   },
   "source": [
    "We can conclude that there are multiple differences between domestic violence cases after the Nirbhaya incident and before.\n",
    "\n",
    "The key insights being:\n",
    "- The total number of domestic violence cases, and domestic violence cases as %age of cases increased, and the number of cases grew every year at a constant rate.\n",
    "\n",
    "- Surprisingly, number of convictions decreased as the number of cases increased every year. This prompted an analysis into the disposition being made in these cases\n",
    "\n",
    "- The number of unsolved cases, initially constant, shows an upward trend since 2013\n",
    "\n",
    "- Average time to solve a domestic violence case shows a downward trend through the years"
   ]
  }
 ],
 "metadata": {
  "kernelspec": {
   "display_name": "Python 3",
   "language": "python",
   "name": "python3"
  },
  "language_info": {
   "codemirror_mode": {
    "name": "ipython",
    "version": 3
   },
   "file_extension": ".py",
   "mimetype": "text/x-python",
   "name": "python",
   "nbconvert_exporter": "python",
   "pygments_lexer": "ipython3",
   "version": "3.7.12"
  },
  "papermill": {
   "default_parameters": {},
   "duration": 16.889383,
   "end_time": "2023-01-20T13:28:35.268052",
   "environment_variables": {},
   "exception": null,
   "input_path": "__notebook__.ipynb",
   "output_path": "__notebook__.ipynb",
   "parameters": {},
   "start_time": "2023-01-20T13:28:18.378669",
   "version": "2.3.4"
  }
 },
 "nbformat": 4,
 "nbformat_minor": 5
}
